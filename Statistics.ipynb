{
 "cells": [
  {
   "cell_type": "markdown",
   "metadata": {},
   "source": [
    "# Set-up"
   ]
  },
  {
   "cell_type": "code",
   "execution_count": 1,
   "metadata": {},
   "outputs": [],
   "source": [
    "import numpy as np \n",
    "import scipy.stats as sp \n",
    "import pandas as pd \n",
    "import seaborn as sns\n",
    "import matplotlib.pyplot as plt\n",
    "import random \n",
    "import math\n",
    "import statsmodels.api as sm\n",
    "import statsmodels.formula.api as smf \n",
    "import statsmodels.stats.power\n",
    "from sklearn.utils import resample\n",
    "from tqdm.notebook import trange\n",
    "from typing import List, Tuple, Callable\n",
    "from collections import Counter"
   ]
  },
  {
   "cell_type": "code",
   "execution_count": 2,
   "metadata": {},
   "outputs": [
    {
     "data": {
      "text/html": [
       "<div>\n",
       "<style scoped>\n",
       "    .dataframe tbody tr th:only-of-type {\n",
       "        vertical-align: middle;\n",
       "    }\n",
       "\n",
       "    .dataframe tbody tr th {\n",
       "        vertical-align: top;\n",
       "    }\n",
       "\n",
       "    .dataframe thead th {\n",
       "        text-align: right;\n",
       "    }\n",
       "</style>\n",
       "<table border=\"1\" class=\"dataframe\">\n",
       "  <thead>\n",
       "    <tr style=\"text-align: right;\">\n",
       "      <th></th>\n",
       "      <th>carat</th>\n",
       "      <th>cut</th>\n",
       "      <th>color</th>\n",
       "      <th>clarity</th>\n",
       "      <th>depth</th>\n",
       "      <th>table</th>\n",
       "      <th>price</th>\n",
       "      <th>x</th>\n",
       "      <th>y</th>\n",
       "      <th>z</th>\n",
       "    </tr>\n",
       "  </thead>\n",
       "  <tbody>\n",
       "    <tr>\n",
       "      <th>0</th>\n",
       "      <td>0.23</td>\n",
       "      <td>Ideal</td>\n",
       "      <td>E</td>\n",
       "      <td>SI2</td>\n",
       "      <td>61.5</td>\n",
       "      <td>55.0</td>\n",
       "      <td>326</td>\n",
       "      <td>3.95</td>\n",
       "      <td>3.98</td>\n",
       "      <td>2.43</td>\n",
       "    </tr>\n",
       "    <tr>\n",
       "      <th>1</th>\n",
       "      <td>0.21</td>\n",
       "      <td>Premium</td>\n",
       "      <td>E</td>\n",
       "      <td>SI1</td>\n",
       "      <td>59.8</td>\n",
       "      <td>61.0</td>\n",
       "      <td>326</td>\n",
       "      <td>3.89</td>\n",
       "      <td>3.84</td>\n",
       "      <td>2.31</td>\n",
       "    </tr>\n",
       "    <tr>\n",
       "      <th>2</th>\n",
       "      <td>0.23</td>\n",
       "      <td>Good</td>\n",
       "      <td>E</td>\n",
       "      <td>VS1</td>\n",
       "      <td>56.9</td>\n",
       "      <td>65.0</td>\n",
       "      <td>327</td>\n",
       "      <td>4.05</td>\n",
       "      <td>4.07</td>\n",
       "      <td>2.31</td>\n",
       "    </tr>\n",
       "    <tr>\n",
       "      <th>3</th>\n",
       "      <td>0.29</td>\n",
       "      <td>Premium</td>\n",
       "      <td>I</td>\n",
       "      <td>VS2</td>\n",
       "      <td>62.4</td>\n",
       "      <td>58.0</td>\n",
       "      <td>334</td>\n",
       "      <td>4.20</td>\n",
       "      <td>4.23</td>\n",
       "      <td>2.63</td>\n",
       "    </tr>\n",
       "    <tr>\n",
       "      <th>4</th>\n",
       "      <td>0.31</td>\n",
       "      <td>Good</td>\n",
       "      <td>J</td>\n",
       "      <td>SI2</td>\n",
       "      <td>63.3</td>\n",
       "      <td>58.0</td>\n",
       "      <td>335</td>\n",
       "      <td>4.34</td>\n",
       "      <td>4.35</td>\n",
       "      <td>2.75</td>\n",
       "    </tr>\n",
       "    <tr>\n",
       "      <th>...</th>\n",
       "      <td>...</td>\n",
       "      <td>...</td>\n",
       "      <td>...</td>\n",
       "      <td>...</td>\n",
       "      <td>...</td>\n",
       "      <td>...</td>\n",
       "      <td>...</td>\n",
       "      <td>...</td>\n",
       "      <td>...</td>\n",
       "      <td>...</td>\n",
       "    </tr>\n",
       "    <tr>\n",
       "      <th>53935</th>\n",
       "      <td>0.72</td>\n",
       "      <td>Ideal</td>\n",
       "      <td>D</td>\n",
       "      <td>SI1</td>\n",
       "      <td>60.8</td>\n",
       "      <td>57.0</td>\n",
       "      <td>2757</td>\n",
       "      <td>5.75</td>\n",
       "      <td>5.76</td>\n",
       "      <td>3.50</td>\n",
       "    </tr>\n",
       "    <tr>\n",
       "      <th>53936</th>\n",
       "      <td>0.72</td>\n",
       "      <td>Good</td>\n",
       "      <td>D</td>\n",
       "      <td>SI1</td>\n",
       "      <td>63.1</td>\n",
       "      <td>55.0</td>\n",
       "      <td>2757</td>\n",
       "      <td>5.69</td>\n",
       "      <td>5.75</td>\n",
       "      <td>3.61</td>\n",
       "    </tr>\n",
       "    <tr>\n",
       "      <th>53937</th>\n",
       "      <td>0.70</td>\n",
       "      <td>Very Good</td>\n",
       "      <td>D</td>\n",
       "      <td>SI1</td>\n",
       "      <td>62.8</td>\n",
       "      <td>60.0</td>\n",
       "      <td>2757</td>\n",
       "      <td>5.66</td>\n",
       "      <td>5.68</td>\n",
       "      <td>3.56</td>\n",
       "    </tr>\n",
       "    <tr>\n",
       "      <th>53938</th>\n",
       "      <td>0.86</td>\n",
       "      <td>Premium</td>\n",
       "      <td>H</td>\n",
       "      <td>SI2</td>\n",
       "      <td>61.0</td>\n",
       "      <td>58.0</td>\n",
       "      <td>2757</td>\n",
       "      <td>6.15</td>\n",
       "      <td>6.12</td>\n",
       "      <td>3.74</td>\n",
       "    </tr>\n",
       "    <tr>\n",
       "      <th>53939</th>\n",
       "      <td>0.75</td>\n",
       "      <td>Ideal</td>\n",
       "      <td>D</td>\n",
       "      <td>SI2</td>\n",
       "      <td>62.2</td>\n",
       "      <td>55.0</td>\n",
       "      <td>2757</td>\n",
       "      <td>5.83</td>\n",
       "      <td>5.87</td>\n",
       "      <td>3.64</td>\n",
       "    </tr>\n",
       "  </tbody>\n",
       "</table>\n",
       "<p>53940 rows × 10 columns</p>\n",
       "</div>"
      ],
      "text/plain": [
       "       carat        cut color clarity  depth  table  price     x     y     z\n",
       "0       0.23      Ideal     E     SI2   61.5   55.0    326  3.95  3.98  2.43\n",
       "1       0.21    Premium     E     SI1   59.8   61.0    326  3.89  3.84  2.31\n",
       "2       0.23       Good     E     VS1   56.9   65.0    327  4.05  4.07  2.31\n",
       "3       0.29    Premium     I     VS2   62.4   58.0    334  4.20  4.23  2.63\n",
       "4       0.31       Good     J     SI2   63.3   58.0    335  4.34  4.35  2.75\n",
       "...      ...        ...   ...     ...    ...    ...    ...   ...   ...   ...\n",
       "53935   0.72      Ideal     D     SI1   60.8   57.0   2757  5.75  5.76  3.50\n",
       "53936   0.72       Good     D     SI1   63.1   55.0   2757  5.69  5.75  3.61\n",
       "53937   0.70  Very Good     D     SI1   62.8   60.0   2757  5.66  5.68  3.56\n",
       "53938   0.86    Premium     H     SI2   61.0   58.0   2757  6.15  6.12  3.74\n",
       "53939   0.75      Ideal     D     SI2   62.2   55.0   2757  5.83  5.87  3.64\n",
       "\n",
       "[53940 rows x 10 columns]"
      ]
     },
     "execution_count": 2,
     "metadata": {},
     "output_type": "execute_result"
    }
   ],
   "source": [
    "df = sns.load_dataset('diamonds')\n",
    "df"
   ]
  },
  {
   "cell_type": "markdown",
   "metadata": {},
   "source": [
    "# 1. Statistical Estimations"
   ]
  },
  {
   "cell_type": "markdown",
   "metadata": {},
   "source": [
    "## 1.1 Estimates of location"
   ]
  },
  {
   "cell_type": "markdown",
   "metadata": {},
   "source": [
    "### Central tendencies"
   ]
  },
  {
   "cell_type": "code",
   "execution_count": 3,
   "metadata": {},
   "outputs": [
    {
     "data": {
      "text/plain": [
       "[53940, 10.74, 0.0]"
      ]
     },
     "execution_count": 3,
     "metadata": {},
     "output_type": "execute_result"
    }
   ],
   "source": [
    "[len(df.x),\n",
    " np.max(df.x),\n",
    " np.min(df.x)]"
   ]
  },
  {
   "cell_type": "code",
   "execution_count": 4,
   "metadata": {},
   "outputs": [
    {
     "data": {
      "text/plain": [
       "ModeResult(mode=array([4.37]), count=array([448]))"
      ]
     },
     "execution_count": 4,
     "metadata": {},
     "output_type": "execute_result"
    }
   ],
   "source": [
    "sp.mode(df.x)"
   ]
  },
  {
   "cell_type": "code",
   "execution_count": 5,
   "metadata": {},
   "outputs": [
    {
     "data": {
      "text/plain": [
       "[5.731157211716722, 6.380923712740938, 5.7, 5.660075778642937]"
      ]
     },
     "execution_count": 5,
     "metadata": {},
     "output_type": "execute_result"
    }
   ],
   "source": [
    "[np.mean(df.x), \n",
    " np.average(df.x, weights = df.carat), \n",
    " np.median(df.x), \n",
    " sp.trim_mean(df.x, 0.1)]"
   ]
  },
  {
   "cell_type": "code",
   "execution_count": 6,
   "metadata": {},
   "outputs": [],
   "source": [
    "def mean(xs: List[float]) -> float:\n",
    "    return sum(xs) / len(xs)\n",
    "\n",
    "def _median_odd(xs: List[float]) -> float:\n",
    "    return sorted(xs)[len(xs) // 2]\n",
    "def _median_even(xs: List[float]) -> float:\n",
    "    sorted_xs = sorted(xs)\n",
    "    hi_midpoint = len(xs) // 2\n",
    "    return (sorted_xs[hi_midpoint - 1] + sorted_xs[hi_midpoint]) / 2\n",
    "def median(v: List[float]) -> float:\n",
    "    return _median_even(v) if len(v) % 2 == 0 else _median_odd(v)\n",
    "\n",
    "assert median([1,2,3]) == 2\n",
    "assert median([1,2,3,4]) == 2.5"
   ]
  },
  {
   "cell_type": "code",
   "execution_count": 7,
   "metadata": {},
   "outputs": [],
   "source": [
    "def quantile(xs: List[float], p: float) -> float:\n",
    "    p_index = int(p * len(xs))\n",
    "    return sorted(xs)[p_index]\n",
    "\n",
    "assert quantile([1,2,3,4,5], 0.5) == 3"
   ]
  },
  {
   "cell_type": "code",
   "execution_count": 8,
   "metadata": {},
   "outputs": [],
   "source": [
    "def mode(x: List[float]) -> List[float]:\n",
    "    counts = Counter(x)\n",
    "    max_count = max(counts.values())\n",
    "    return [x_i for x_i, count in counts.items() if count == max_count]\n",
    "\n",
    "assert set(mode([1,1,1,2,3,3,4,5,5,5])) == {1,5}"
   ]
  },
  {
   "cell_type": "markdown",
   "metadata": {},
   "source": [
    "## 1.2 Estimates of variability"
   ]
  },
  {
   "cell_type": "markdown",
   "metadata": {},
   "source": [
    "### Dispersion"
   ]
  },
  {
   "cell_type": "code",
   "execution_count": 9,
   "metadata": {},
   "outputs": [
    {
     "data": {
      "text/plain": [
       "[1.1217503485171316, 4.71]"
      ]
     },
     "execution_count": 9,
     "metadata": {},
     "output_type": "execute_result"
    }
   ],
   "source": [
    "[np.std(df.x),\n",
    " np.quantile(df.x, 0.25)]"
   ]
  },
  {
   "cell_type": "code",
   "execution_count": 10,
   "metadata": {},
   "outputs": [],
   "source": [
    "def data_range(xs: List[float]) -> float:\n",
    "    return max(xs) - min(xs)\n",
    "\n",
    "assert data_range([1,2,3]) == 2"
   ]
  },
  {
   "cell_type": "code",
   "execution_count": 11,
   "metadata": {},
   "outputs": [],
   "source": [
    "def dot(v: List[float], w: List[float]) -> float:\n",
    "    \"\"\"Computes v_1 * w_1 + ... + v_n * w_n\"\"\"\n",
    "    assert len(v) == len(w), \"vectors must be same length\"\n",
    "    \n",
    "    return sum(v_i * w_i for v_i, w_i in zip(v, w))\n",
    "\n",
    "assert dot([1, 2, 3], [4, 5, 6]) == 1 * 4 + 2 * 5 + 3 * 6\n",
    "\n",
    "def sum_of_squares(v: List[float]) -> float:\n",
    "    \"\"\"Returns v_1 * v_1 + ... + v_n * v_n\"\"\"\n",
    "    return dot(v, v)\n",
    "\n",
    "assert sum_of_squares([1, 2, 3]) == 1 * 1 + 2 * 2 + 3 * 3\n",
    "\n",
    "def de_mean(xs: List[float]) -> List[float]:\n",
    "    x_bar = mean(xs)\n",
    "    return [x - x_bar for x in xs]\n",
    "\n",
    "def variance(xs: List[float]) -> float:\n",
    "    assert len(xs) >= 2, 'variance requires at least two elements'\n",
    "    \n",
    "    n = len(xs)\n",
    "    deviations = de_mean(xs)\n",
    "    return sum_of_squares(deviations) / (n - 1)\n",
    "\n",
    "assert variance([1,1,1]) == 0"
   ]
  },
  {
   "cell_type": "code",
   "execution_count": 12,
   "metadata": {},
   "outputs": [],
   "source": [
    "def standard_deviation(xs: List[float]) -> float:\n",
    "    return math.sqrt(variance(xs))\n",
    "\n",
    "assert standard_deviation([1,1,1]) == 0"
   ]
  },
  {
   "cell_type": "code",
   "execution_count": 13,
   "metadata": {},
   "outputs": [],
   "source": [
    "def interquartile_range(xs: List[float]) -> float:\n",
    "    return quantile(xs, 0.75) - quantile(xs, 0.25)\n",
    "\n",
    "assert interquartile_range([1,2,3,4,5]) == 2"
   ]
  },
  {
   "cell_type": "markdown",
   "metadata": {},
   "source": [
    "# 2. Correlation"
   ]
  },
  {
   "cell_type": "code",
   "execution_count": 14,
   "metadata": {},
   "outputs": [],
   "source": [
    "def covariance(xs: List[float], ys: List[float]) -> float:\n",
    "    assert len(xs) == len(ys), 'xs and ys must have same number of elements'\n",
    "    \n",
    "    return dot(de_mean(xs), de_mean(ys)) / (len(xs) - 1)\n",
    "\n",
    "assert covariance([1,1,1], [2,2,2]) == 0"
   ]
  },
  {
   "cell_type": "code",
   "execution_count": 15,
   "metadata": {},
   "outputs": [],
   "source": [
    "def correlation(xs: List[float], ys: List[float]) -> float:\n",
    "    std_x = standard_deviation(xs)\n",
    "    std_y = standard_deviation(ys)\n",
    "    if std_x > 0 and std_y > 0:\n",
    "        return covariance(xs, ys) / std_x / std_y\n",
    "    else:\n",
    "        return 0\n",
    "    \n",
    "assert correlation([1,2,3],[4,5,6]) == 1"
   ]
  },
  {
   "cell_type": "markdown",
   "metadata": {},
   "source": [
    "## 2.1 Correlation plot"
   ]
  },
  {
   "cell_type": "code",
   "execution_count": 16,
   "metadata": {},
   "outputs": [
    {
     "data": {
      "text/html": [
       "<div>\n",
       "<style scoped>\n",
       "    .dataframe tbody tr th:only-of-type {\n",
       "        vertical-align: middle;\n",
       "    }\n",
       "\n",
       "    .dataframe tbody tr th {\n",
       "        vertical-align: top;\n",
       "    }\n",
       "\n",
       "    .dataframe thead th {\n",
       "        text-align: right;\n",
       "    }\n",
       "</style>\n",
       "<table border=\"1\" class=\"dataframe\">\n",
       "  <thead>\n",
       "    <tr style=\"text-align: right;\">\n",
       "      <th></th>\n",
       "      <th>x</th>\n",
       "      <th>y</th>\n",
       "      <th>z</th>\n",
       "    </tr>\n",
       "  </thead>\n",
       "  <tbody>\n",
       "    <tr>\n",
       "      <th>x</th>\n",
       "      <td>1.000000</td>\n",
       "      <td>0.974701</td>\n",
       "      <td>0.970772</td>\n",
       "    </tr>\n",
       "    <tr>\n",
       "      <th>y</th>\n",
       "      <td>0.974701</td>\n",
       "      <td>1.000000</td>\n",
       "      <td>0.952006</td>\n",
       "    </tr>\n",
       "    <tr>\n",
       "      <th>z</th>\n",
       "      <td>0.970772</td>\n",
       "      <td>0.952006</td>\n",
       "      <td>1.000000</td>\n",
       "    </tr>\n",
       "  </tbody>\n",
       "</table>\n",
       "</div>"
      ],
      "text/plain": [
       "          x         y         z\n",
       "x  1.000000  0.974701  0.970772\n",
       "y  0.974701  1.000000  0.952006\n",
       "z  0.970772  0.952006  1.000000"
      ]
     },
     "execution_count": 16,
     "metadata": {},
     "output_type": "execute_result"
    }
   ],
   "source": [
    "df[['x','y','z']].corr()"
   ]
  },
  {
   "cell_type": "code",
   "execution_count": 17,
   "metadata": {},
   "outputs": [
    {
     "data": {
      "text/plain": [
       "<matplotlib.axes._subplots.AxesSubplot at 0x7f915ffbbf70>"
      ]
     },
     "execution_count": 17,
     "metadata": {},
     "output_type": "execute_result"
    },
    {
     "data": {
      "image/png": "[encoded data removed]",
      "text/plain": [
       "<Figure size 432x288 with 2 Axes>"
      ]
     },
     "metadata": {
      "needs_background": "light"
     },
     "output_type": "display_data"
    }
   ],
   "source": [
    "sns.heatmap(df[['x','y','z']].corr())"
   ]
  },
  {
   "cell_type": "markdown",
   "metadata": {},
   "source": [
    "# 3. Sampling "
   ]
  },
  {
   "cell_type": "code",
   "execution_count": 18,
   "metadata": {},
   "outputs": [
    {
     "data": {
      "text/html": [
       "<div>\n",
       "<style scoped>\n",
       "    .dataframe tbody tr th:only-of-type {\n",
       "        vertical-align: middle;\n",
       "    }\n",
       "\n",
       "    .dataframe tbody tr th {\n",
       "        vertical-align: top;\n",
       "    }\n",
       "\n",
       "    .dataframe thead th {\n",
       "        text-align: right;\n",
       "    }\n",
       "</style>\n",
       "<table border=\"1\" class=\"dataframe\">\n",
       "  <thead>\n",
       "    <tr style=\"text-align: right;\">\n",
       "      <th></th>\n",
       "      <th>carat</th>\n",
       "      <th>cut</th>\n",
       "      <th>color</th>\n",
       "      <th>clarity</th>\n",
       "      <th>depth</th>\n",
       "      <th>table</th>\n",
       "      <th>price</th>\n",
       "      <th>x</th>\n",
       "      <th>y</th>\n",
       "      <th>z</th>\n",
       "    </tr>\n",
       "  </thead>\n",
       "  <tbody>\n",
       "    <tr>\n",
       "      <th>48334</th>\n",
       "      <td>0.51</td>\n",
       "      <td>Ideal</td>\n",
       "      <td>D</td>\n",
       "      <td>VS1</td>\n",
       "      <td>62.1</td>\n",
       "      <td>55.0</td>\n",
       "      <td>1959</td>\n",
       "      <td>5.14</td>\n",
       "      <td>5.20</td>\n",
       "      <td>3.21</td>\n",
       "    </tr>\n",
       "    <tr>\n",
       "      <th>15930</th>\n",
       "      <td>1.00</td>\n",
       "      <td>Good</td>\n",
       "      <td>G</td>\n",
       "      <td>VS2</td>\n",
       "      <td>59.1</td>\n",
       "      <td>62.0</td>\n",
       "      <td>6369</td>\n",
       "      <td>6.42</td>\n",
       "      <td>6.45</td>\n",
       "      <td>3.80</td>\n",
       "    </tr>\n",
       "    <tr>\n",
       "      <th>36328</th>\n",
       "      <td>0.32</td>\n",
       "      <td>Premium</td>\n",
       "      <td>G</td>\n",
       "      <td>VVS2</td>\n",
       "      <td>62.0</td>\n",
       "      <td>55.0</td>\n",
       "      <td>936</td>\n",
       "      <td>4.42</td>\n",
       "      <td>4.39</td>\n",
       "      <td>2.73</td>\n",
       "    </tr>\n",
       "    <tr>\n",
       "      <th>37825</th>\n",
       "      <td>0.33</td>\n",
       "      <td>Premium</td>\n",
       "      <td>E</td>\n",
       "      <td>VS1</td>\n",
       "      <td>60.9</td>\n",
       "      <td>58.0</td>\n",
       "      <td>1002</td>\n",
       "      <td>4.49</td>\n",
       "      <td>4.45</td>\n",
       "      <td>2.72</td>\n",
       "    </tr>\n",
       "    <tr>\n",
       "      <th>53180</th>\n",
       "      <td>0.70</td>\n",
       "      <td>Very Good</td>\n",
       "      <td>G</td>\n",
       "      <td>VS1</td>\n",
       "      <td>62.3</td>\n",
       "      <td>58.0</td>\n",
       "      <td>2631</td>\n",
       "      <td>5.63</td>\n",
       "      <td>5.67</td>\n",
       "      <td>3.52</td>\n",
       "    </tr>\n",
       "    <tr>\n",
       "      <th>...</th>\n",
       "      <td>...</td>\n",
       "      <td>...</td>\n",
       "      <td>...</td>\n",
       "      <td>...</td>\n",
       "      <td>...</td>\n",
       "      <td>...</td>\n",
       "      <td>...</td>\n",
       "      <td>...</td>\n",
       "      <td>...</td>\n",
       "      <td>...</td>\n",
       "    </tr>\n",
       "    <tr>\n",
       "      <th>17502</th>\n",
       "      <td>1.02</td>\n",
       "      <td>Ideal</td>\n",
       "      <td>F</td>\n",
       "      <td>VS2</td>\n",
       "      <td>62.8</td>\n",
       "      <td>57.0</td>\n",
       "      <td>7037</td>\n",
       "      <td>6.41</td>\n",
       "      <td>6.36</td>\n",
       "      <td>4.01</td>\n",
       "    </tr>\n",
       "    <tr>\n",
       "      <th>8246</th>\n",
       "      <td>1.04</td>\n",
       "      <td>Ideal</td>\n",
       "      <td>G</td>\n",
       "      <td>SI2</td>\n",
       "      <td>61.4</td>\n",
       "      <td>57.0</td>\n",
       "      <td>4375</td>\n",
       "      <td>6.48</td>\n",
       "      <td>6.54</td>\n",
       "      <td>4.00</td>\n",
       "    </tr>\n",
       "    <tr>\n",
       "      <th>47590</th>\n",
       "      <td>0.61</td>\n",
       "      <td>Premium</td>\n",
       "      <td>D</td>\n",
       "      <td>SI1</td>\n",
       "      <td>62.3</td>\n",
       "      <td>58.0</td>\n",
       "      <td>1877</td>\n",
       "      <td>5.40</td>\n",
       "      <td>5.45</td>\n",
       "      <td>3.38</td>\n",
       "    </tr>\n",
       "    <tr>\n",
       "      <th>52076</th>\n",
       "      <td>0.71</td>\n",
       "      <td>Very Good</td>\n",
       "      <td>I</td>\n",
       "      <td>VVS1</td>\n",
       "      <td>63.5</td>\n",
       "      <td>57.0</td>\n",
       "      <td>2456</td>\n",
       "      <td>5.65</td>\n",
       "      <td>5.68</td>\n",
       "      <td>3.60</td>\n",
       "    </tr>\n",
       "    <tr>\n",
       "      <th>49629</th>\n",
       "      <td>0.32</td>\n",
       "      <td>Premium</td>\n",
       "      <td>J</td>\n",
       "      <td>VS1</td>\n",
       "      <td>60.6</td>\n",
       "      <td>59.0</td>\n",
       "      <td>540</td>\n",
       "      <td>4.46</td>\n",
       "      <td>4.42</td>\n",
       "      <td>2.69</td>\n",
       "    </tr>\n",
       "  </tbody>\n",
       "</table>\n",
       "<p>100 rows × 10 columns</p>\n",
       "</div>"
      ],
      "text/plain": [
       "       carat        cut color clarity  depth  table  price     x     y     z\n",
       "48334   0.51      Ideal     D     VS1   62.1   55.0   1959  5.14  5.20  3.21\n",
       "15930   1.00       Good     G     VS2   59.1   62.0   6369  6.42  6.45  3.80\n",
       "36328   0.32    Premium     G    VVS2   62.0   55.0    936  4.42  4.39  2.73\n",
       "37825   0.33    Premium     E     VS1   60.9   58.0   1002  4.49  4.45  2.72\n",
       "53180   0.70  Very Good     G     VS1   62.3   58.0   2631  5.63  5.67  3.52\n",
       "...      ...        ...   ...     ...    ...    ...    ...   ...   ...   ...\n",
       "17502   1.02      Ideal     F     VS2   62.8   57.0   7037  6.41  6.36  4.01\n",
       "8246    1.04      Ideal     G     SI2   61.4   57.0   4375  6.48  6.54  4.00\n",
       "47590   0.61    Premium     D     SI1   62.3   58.0   1877  5.40  5.45  3.38\n",
       "52076   0.71  Very Good     I    VVS1   63.5   57.0   2456  5.65  5.68  3.60\n",
       "49629   0.32    Premium     J     VS1   60.6   59.0    540  4.46  4.42  2.69\n",
       "\n",
       "[100 rows x 10 columns]"
      ]
     },
     "execution_count": 18,
     "metadata": {},
     "output_type": "execute_result"
    }
   ],
   "source": [
    "df.sample(n = 100)"
   ]
  },
  {
   "cell_type": "code",
   "execution_count": 19,
   "metadata": {},
   "outputs": [
    {
     "data": {
      "text/plain": [
       "5.731157211716722"
      ]
     },
     "execution_count": 19,
     "metadata": {},
     "output_type": "execute_result"
    }
   ],
   "source": [
    "df.x.mean()"
   ]
  },
  {
   "cell_type": "markdown",
   "metadata": {},
   "source": [
    "## 3.1 Sampling distribution of statistics"
   ]
  },
  {
   "cell_type": "code",
   "execution_count": 20,
   "metadata": {},
   "outputs": [
    {
     "data": {
      "text/plain": [
       "<matplotlib.axes._subplots.AxesSubplot at 0x7f915fcd7a30>"
      ]
     },
     "execution_count": 20,
     "metadata": {},
     "output_type": "execute_result"
    },
    {
     "data": {
      "image/png": "[encoded data removed]",
      "text/plain": [
       "<Figure size 432x288 with 1 Axes>"
      ]
     },
     "metadata": {
      "needs_background": "light"
     },
     "output_type": "display_data"
    }
   ],
   "source": [
    "pd.Series([df.x.sample(n = 5).mean() for _ in range(1000)]).plot.hist(bins = 50, color = 'green')\n",
    "pd.Series([df.x.sample(n = 20).mean() for _ in range(1000)]).plot.hist(bins = 50, color = 'blue')\n",
    "pd.Series([df.x.sample(n = 100).mean() for _ in range(1000)]).plot.hist(bins = 50, color = 'red')"
   ]
  },
  {
   "cell_type": "markdown",
   "metadata": {},
   "source": [
    "## 3.2 Standard error "
   ]
  },
  {
   "cell_type": "code",
   "execution_count": 21,
   "metadata": {},
   "outputs": [
    {
     "data": {
      "text/plain": [
       "0.0048299737209106675"
      ]
     },
     "execution_count": 21,
     "metadata": {},
     "output_type": "execute_result"
    }
   ],
   "source": [
    "sp.sem(df.x)"
   ]
  },
  {
   "cell_type": "code",
   "execution_count": 22,
   "metadata": {},
   "outputs": [
    {
     "data": {
      "text/plain": [
       "0.0048299289489778996"
      ]
     },
     "execution_count": 22,
     "metadata": {},
     "output_type": "execute_result"
    }
   ],
   "source": [
    "np.std(df.x) / np.sqrt(len(df))"
   ]
  },
  {
   "cell_type": "markdown",
   "metadata": {},
   "source": [
    "## 3.3 Confidence interval"
   ]
  },
  {
   "cell_type": "code",
   "execution_count": 23,
   "metadata": {},
   "outputs": [
    {
     "data": {
      "text/plain": [
       "[5.721690463223737, 5.740623960209707]"
      ]
     },
     "execution_count": 23,
     "metadata": {},
     "output_type": "execute_result"
    }
   ],
   "source": [
    "[np.mean(df.x) - 1.96 * sp.sem(df.x), np.mean(df.x) + 1.96 * sp.sem(df.x)]"
   ]
  },
  {
   "cell_type": "code",
   "execution_count": 24,
   "metadata": {},
   "outputs": [
    {
     "data": {
      "text/plain": [
       "(5.721690424747487, 5.740623998685957)"
      ]
     },
     "execution_count": 24,
     "metadata": {},
     "output_type": "execute_result"
    }
   ],
   "source": [
    "import statsmodels.stats.api as sms\n",
    "sms.DescrStatsW(df.x).tconfint_mean()"
   ]
  },
  {
   "cell_type": "markdown",
   "metadata": {},
   "source": [
    "# 4. Bootstrap"
   ]
  },
  {
   "cell_type": "code",
   "execution_count": 25,
   "metadata": {},
   "outputs": [
    {
     "data": {
      "application/vnd.jupyter.widget-view+json": {
       "model_id": "ba0d0480ffdc4dd2aabfca3ce42578cb",
       "version_major": 2,
       "version_minor": 0
      },
      "text/plain": [
       "HBox(children=(FloatProgress(value=0.0, max=1000.0), HTML(value='')))"
      ]
     },
     "metadata": {},
     "output_type": "display_data"
    },
    {
     "name": "stdout",
     "output_type": "stream",
     "text": [
      "\n",
      "Bootstrap Statistics:\n",
      "original: 5.7\n",
      "bias: -0.003795000000000215\n",
      "std.error: 0.005612885129724144\n",
      "95% confidence interval: 5.69 ~ 5.71\n"
     ]
    }
   ],
   "source": [
    "results = []\n",
    "for _ in trange(1000):\n",
    "    sample = resample(df.x)\n",
    "    results.append(sample.median())\n",
    "    \n",
    "results = pd.Series(results)\n",
    "\n",
    "print('Bootstrap Statistics:')\n",
    "print(f'original: {df.x.median()}')\n",
    "print(f'bias: {results.mean() - df.x.median()}')\n",
    "print(f'std.error: {results.std()}')\n",
    "print(f'95% confidence interval: {results.quantile(0.025)} ~ {results.quantile(1 - 0.025)}')"
   ]
  },
  {
   "cell_type": "markdown",
   "metadata": {},
   "source": [
    "# 5. Distributions and Probability"
   ]
  },
  {
   "cell_type": "markdown",
   "metadata": {},
   "source": [
    "## 5.1 Uniform distribution"
   ]
  },
  {
   "cell_type": "code",
   "execution_count": 26,
   "metadata": {},
   "outputs": [],
   "source": [
    "def uniform_pdf(x: float) -> float:\n",
    "    return 1 if 0 <= x < 1 else 0"
   ]
  },
  {
   "cell_type": "code",
   "execution_count": 27,
   "metadata": {},
   "outputs": [],
   "source": [
    "def uniform_cdf(x: float) -> float:\n",
    "    '''Returns the probability that a uniform random variable is <= x'''\n",
    "    if x < 0: \n",
    "        return 0\n",
    "    elif x < 1:\n",
    "        return x \n",
    "    else:\n",
    "        return 1"
   ]
  },
  {
   "cell_type": "markdown",
   "metadata": {},
   "source": [
    "## 5.1 Normal distribution"
   ]
  },
  {
   "cell_type": "code",
   "execution_count": 28,
   "metadata": {},
   "outputs": [
    {
     "data": {
      "text/plain": [
       "((array([-2.46203784, -2.12570747, -1.93122778, -1.79044653, -1.67819304,\n",
       "         -1.58381122, -1.50174123, -1.42869743, -1.36256869, -1.30191411,\n",
       "         -1.24570419, -1.19317644, -1.14374949, -1.09696931, -1.05247413,\n",
       "         -1.00997067, -0.96921765, -0.93001393, -0.89218993, -0.85560121,\n",
       "         -0.82012357, -0.78564937, -0.75208458, -0.71934648, -0.68736185,\n",
       "         -0.65606548, -0.62539893, -0.59530962, -0.56574992, -0.53667655,\n",
       "         -0.50804994, -0.47983378, -0.45199463, -0.42450149, -0.39732558,\n",
       "         -0.37044003, -0.34381966, -0.31744076, -0.29128096, -0.26531902,\n",
       "         -0.23953472, -0.21390872, -0.18842244, -0.16305799, -0.13779803,\n",
       "         -0.1126257 , -0.08752455, -0.06247843, -0.03747145, -0.01248789,\n",
       "          0.01248789,  0.03747145,  0.06247843,  0.08752455,  0.1126257 ,\n",
       "          0.13779803,  0.16305799,  0.18842244,  0.21390872,  0.23953472,\n",
       "          0.26531902,  0.29128096,  0.31744076,  0.34381966,  0.37044003,\n",
       "          0.39732558,  0.42450149,  0.45199463,  0.47983378,  0.50804994,\n",
       "          0.53667655,  0.56574992,  0.59530962,  0.62539893,  0.65606548,\n",
       "          0.68736185,  0.71934648,  0.75208458,  0.78564937,  0.82012357,\n",
       "          0.85560121,  0.89218993,  0.93001393,  0.96921765,  1.00997067,\n",
       "          1.05247413,  1.09696931,  1.14374949,  1.19317644,  1.24570419,\n",
       "          1.30191411,  1.36256869,  1.42869743,  1.50174123,  1.58381122,\n",
       "          1.67819304,  1.79044653,  1.93122778,  2.12570747,  2.46203784]),\n",
       "  array([-2.50965581, -2.24763574, -1.51585341, -1.38329764, -1.36376537,\n",
       "         -1.20426745, -1.18839012, -1.1698892 , -1.15428032, -1.14132608,\n",
       "         -1.06702934, -1.02879078, -0.95742343, -0.93071662, -0.92554662,\n",
       "         -0.92442102, -0.88915185, -0.87543001, -0.87311705, -0.84397307,\n",
       "         -0.83339914, -0.82153139, -0.78435646, -0.7618593 , -0.76097194,\n",
       "         -0.72113372, -0.7130046 , -0.69402696, -0.69126669, -0.6723042 ,\n",
       "         -0.63619673, -0.62136497, -0.61036944, -0.5873643 , -0.58370728,\n",
       "         -0.58114629, -0.57731655, -0.51830759, -0.49983663, -0.49098026,\n",
       "         -0.43597451, -0.41321434, -0.36644937, -0.28697929, -0.27793363,\n",
       "         -0.256033  , -0.25350458, -0.20714532, -0.19662772, -0.12089055,\n",
       "         -0.11329923, -0.09613009,  0.07406506,  0.11944662,  0.15085421,\n",
       "          0.16577898,  0.16970093,  0.19041878,  0.19791982,  0.211579  ,\n",
       "          0.21724474,  0.22244355,  0.27202779,  0.28355822,  0.28789536,\n",
       "          0.35958575,  0.37541326,  0.39563674,  0.40147118,  0.42019705,\n",
       "          0.45613297,  0.46627346,  0.46702916,  0.54367485,  0.55533059,\n",
       "          0.57654909,  0.5994046 ,  0.60915482,  0.64698147,  0.67212126,\n",
       "          0.7084154 ,  0.72875349,  0.77437939,  0.78265893,  0.80418831,\n",
       "          0.84840927,  0.89559521,  0.89793474,  0.93290407,  0.93670298,\n",
       "          0.97033126,  0.98110583,  1.19816641,  1.29304161,  1.45432193,\n",
       "          1.47773871,  1.70049727,  1.80142286,  1.83911558,  2.10523177])),\n",
       " (0.8880300824740548, -0.07139782687848016, 0.9917690803498116))"
      ]
     },
     "execution_count": 28,
     "metadata": {},
     "output_type": "execute_result"
    },
    {
     "data": {
      "image/png": "[encoded data removed]",
      "text/plain": [
       "<Figure size 432x288 with 1 Axes>"
      ]
     },
     "metadata": {
      "needs_background": "light"
     },
     "output_type": "display_data"
    }
   ],
   "source": [
    "norm_sample = sp.norm.rvs(loc = 0, scale = 1, size = 100)\n",
    "sp.probplot(norm_sample, plot = plt)"
   ]
  },
  {
   "cell_type": "code",
   "execution_count": 29,
   "metadata": {},
   "outputs": [
    {
     "data": {
      "text/plain": [
       "<matplotlib.axes._subplots.AxesSubplot at 0x7f915e1d5910>"
      ]
     },
     "execution_count": 29,
     "metadata": {},
     "output_type": "execute_result"
    },
    {
     "data": {
      "image/png": "[encoded data removed]",
      "text/plain": [
       "<Figure size 432x288 with 1 Axes>"
      ]
     },
     "metadata": {
      "needs_background": "light"
     },
     "output_type": "display_data"
    }
   ],
   "source": [
    "pd.Series(norm_sample).plot.density()"
   ]
  },
  {
   "cell_type": "code",
   "execution_count": 30,
   "metadata": {},
   "outputs": [],
   "source": [
    "SQRT_TWO_PI = math.sqrt(2 * math.pi)\n",
    "\n",
    "def normal_pdf(x: float, mu: float = 0, sigma: float = 1) -> float:\n",
    "    return (math.exp(-(x-mu) ** 2 / 2 / sigma ** 2) / (SQRT_TWO_PI * sigma))"
   ]
  },
  {
   "cell_type": "code",
   "execution_count": 31,
   "metadata": {},
   "outputs": [
    {
     "data": {
      "image/png": "[encoded data removed]",
      "text/plain": [
       "<Figure size 432x288 with 1 Axes>"
      ]
     },
     "metadata": {
      "needs_background": "light"
     },
     "output_type": "display_data"
    }
   ],
   "source": [
    "xs = [x / 10.0 for x in range(-50, 50)]\n",
    "\n",
    "plt.plot(xs, [normal_pdf(x, sigma = 1) for x in xs], '-', label = 'mu = 0, sigma = 1')\n",
    "plt.plot(xs, [normal_pdf(x, sigma = 2) for x in xs], '--', label = 'mu = 0, sigma = 2')\n",
    "plt.plot(xs, [normal_pdf(x, sigma = 0.5) for x in xs], ':', label = 'mu = 0, sigma = 0.5')\n",
    "plt.plot(xs, [normal_pdf(x, mu = -1) for x in xs], '-.', label = 'mu = -1, sigma = 1')\n",
    "plt.legend()\n",
    "plt.show()"
   ]
  },
  {
   "cell_type": "code",
   "execution_count": 32,
   "metadata": {},
   "outputs": [],
   "source": [
    "def normal_cdf(x: float, mu: float = 0, sigma: float = 1) -> float:\n",
    "    return (1 + math.erf((x-mu) / math.sqrt(2) / sigma)) / 2"
   ]
  },
  {
   "cell_type": "code",
   "execution_count": 33,
   "metadata": {},
   "outputs": [
    {
     "data": {
      "image/png": "[encoded data removed]",
      "text/plain": [
       "<Figure size 432x288 with 1 Axes>"
      ]
     },
     "metadata": {
      "needs_background": "light"
     },
     "output_type": "display_data"
    }
   ],
   "source": [
    "xs = [x / 10.0 for x in range(-50, 50)]\n",
    "\n",
    "plt.plot(xs, [normal_cdf(x, sigma = 1) for x in xs], '-', label = 'mu = 0,sigma = 1')\n",
    "plt.plot(xs, [normal_cdf(x, sigma = 2) for x in xs], '--', label = 'mu = 0,sigma = 2')\n",
    "plt.plot(xs, [normal_cdf(x, sigma = 0.5) for x in xs], ':', label = 'mu = 0,sigma = 0.5')\n",
    "plt.plot(xs, [normal_cdf(x, mu = -1) for x in xs], '-.', label = 'mu = -1,sigma = 1')\n",
    "plt.legend(loc = 4)\n",
    "plt.show()"
   ]
  },
  {
   "cell_type": "code",
   "execution_count": 34,
   "metadata": {},
   "outputs": [],
   "source": [
    "def inverse_normal_cdf(p: float,\n",
    "                       mu: float = 0,\n",
    "                       sigma: float = 1,\n",
    "                       tolerance: float = 0.00001) -> float:\n",
    "    '''Find approximate inverse using binary search'''\n",
    "    # if not standard, compute standard and rescale\n",
    "    if mu != 0 or sigma != 1:\n",
    "        return mu + sigma * inverse_normal_cdf(p, tolerance = tolerance)\n",
    "    low_z = -10.0 \n",
    "    hi_z = 10.0\n",
    "    \n",
    "    while hi_z - low_z > tolerance:\n",
    "        mid_z = (low_z + hi_z) / 2\n",
    "        mid_p = normal_cdf(mid_z)\n",
    "        if mid_p < p:\n",
    "            low_z = mid_z\n",
    "        else:\n",
    "            hi_z = mid_z\n",
    "    return mid_z"
   ]
  },
  {
   "cell_type": "markdown",
   "metadata": {},
   "source": [
    "### Central limit theorem"
   ]
  },
  {
   "cell_type": "code",
   "execution_count": 35,
   "metadata": {},
   "outputs": [],
   "source": [
    "def bernoulli_trial(p: float) -> int:\n",
    "    '''Returns 1 with probability p and 0 with probability 1-p'''\n",
    "    return 1 if random.random() < p else 0\n",
    "\n",
    "def binomial(n: int, p: float) -> int:\n",
    "    '''Returns the sum of n bernoulli trials'''\n",
    "    return sum(bernoulli_trial(p) for _ in range(n))\n",
    "\n",
    "def binomial_histogram(p: float, n: int, num_points: int) -> None:\n",
    "    '''Picks points from a Binomial(n, p) and plots their histogram'''\n",
    "    data = [binomial(n, p) for _ in range(num_points)]\n",
    "    \n",
    "    histogram = Counter(data)\n",
    "    plt.bar([x - 0.4 for x in histogram.keys()],\n",
    "            [v / num_points for v in histogram.values()],\n",
    "            0.8,\n",
    "            color = '0.75')\n",
    "    mu = p * n\n",
    "    sigma = math.sqrt(n * p * (1 - p))\n",
    "    \n",
    "    xs = range(min(data), max(data) + 1)\n",
    "    ys = [normal_cdf(i + 0.5, mu, sigma) - normal_cdf(i - 0.5, mu, sigma) for i in xs]\n",
    "    \n",
    "    plt.plot(xs, ys)\n",
    "    plt.title('Binomial distribution vs Normal approximation')\n",
    "    plt.show()"
   ]
  },
  {
   "cell_type": "code",
   "execution_count": 36,
   "metadata": {},
   "outputs": [
    {
     "data": {
      "image/png": "[encoded data removed]",
      "text/plain": [
       "<Figure size 432x288 with 1 Axes>"
      ]
     },
     "metadata": {
      "needs_background": "light"
     },
     "output_type": "display_data"
    }
   ],
   "source": [
    "binomial_histogram(0.75, 100, 10000)"
   ]
  },
  {
   "cell_type": "markdown",
   "metadata": {},
   "source": [
    "## 5.2 Long-tailed distribution"
   ]
  },
  {
   "cell_type": "markdown",
   "metadata": {},
   "source": [
    "## 5.3 Student's t-distribution"
   ]
  },
  {
   "cell_type": "code",
   "execution_count": 37,
   "metadata": {},
   "outputs": [
    {
     "data": {
      "text/plain": [
       "((array([-2.46203784, -2.12570747, -1.93122778, -1.79044653, -1.67819304,\n",
       "         -1.58381122, -1.50174123, -1.42869743, -1.36256869, -1.30191411,\n",
       "         -1.24570419, -1.19317644, -1.14374949, -1.09696931, -1.05247413,\n",
       "         -1.00997067, -0.96921765, -0.93001393, -0.89218993, -0.85560121,\n",
       "         -0.82012357, -0.78564937, -0.75208458, -0.71934648, -0.68736185,\n",
       "         -0.65606548, -0.62539893, -0.59530962, -0.56574992, -0.53667655,\n",
       "         -0.50804994, -0.47983378, -0.45199463, -0.42450149, -0.39732558,\n",
       "         -0.37044003, -0.34381966, -0.31744076, -0.29128096, -0.26531902,\n",
       "         -0.23953472, -0.21390872, -0.18842244, -0.16305799, -0.13779803,\n",
       "         -0.1126257 , -0.08752455, -0.06247843, -0.03747145, -0.01248789,\n",
       "          0.01248789,  0.03747145,  0.06247843,  0.08752455,  0.1126257 ,\n",
       "          0.13779803,  0.16305799,  0.18842244,  0.21390872,  0.23953472,\n",
       "          0.26531902,  0.29128096,  0.31744076,  0.34381966,  0.37044003,\n",
       "          0.39732558,  0.42450149,  0.45199463,  0.47983378,  0.50804994,\n",
       "          0.53667655,  0.56574992,  0.59530962,  0.62539893,  0.65606548,\n",
       "          0.68736185,  0.71934648,  0.75208458,  0.78564937,  0.82012357,\n",
       "          0.85560121,  0.89218993,  0.93001393,  0.96921765,  1.00997067,\n",
       "          1.05247413,  1.09696931,  1.14374949,  1.19317644,  1.24570419,\n",
       "          1.30191411,  1.36256869,  1.42869743,  1.50174123,  1.58381122,\n",
       "          1.67819304,  1.79044653,  1.93122778,  2.12570747,  2.46203784]),\n",
       "  array([-5.00032300e+01, -2.54658300e+01, -9.53632423e+00, -7.29723040e+00,\n",
       "         -3.84341191e+00, -3.40360783e+00, -2.59322454e+00, -1.95964361e+00,\n",
       "         -1.51837556e+00, -1.51098846e+00, -1.36673404e+00, -1.35555647e+00,\n",
       "         -1.34732483e+00, -1.22933350e+00, -1.22108798e+00, -1.06627533e+00,\n",
       "         -1.05893358e+00, -9.60905613e-01, -8.66468844e-01, -8.39531958e-01,\n",
       "         -7.57483082e-01, -7.11277935e-01, -6.93976768e-01, -6.90331714e-01,\n",
       "         -6.16043738e-01, -4.43328324e-01, -3.88806323e-01, -3.57848371e-01,\n",
       "         -3.17779359e-01, -2.90357458e-01, -2.53829983e-01, -2.47193292e-01,\n",
       "         -1.69097126e-01, -1.42075230e-01, -1.24125704e-01, -9.58979395e-02,\n",
       "         -6.61846051e-02, -2.58991316e-02, -2.45249267e-02,  1.40349451e-02,\n",
       "          2.42289137e-02,  4.07754403e-02,  6.02607422e-02,  1.28726572e-01,\n",
       "          1.42191673e-01,  1.59954647e-01,  1.73686935e-01,  1.89891615e-01,\n",
       "          2.09769689e-01,  2.34734254e-01,  2.76844189e-01,  2.80389503e-01,\n",
       "          2.86058794e-01,  3.58551310e-01,  3.89646168e-01,  4.71383942e-01,\n",
       "          4.76447436e-01,  4.80280835e-01,  4.95259953e-01,  5.15600809e-01,\n",
       "          5.16968472e-01,  5.95037371e-01,  6.01885627e-01,  6.63593087e-01,\n",
       "          6.64742791e-01,  6.67645722e-01,  6.88457304e-01,  7.22774493e-01,\n",
       "          7.54286781e-01,  7.99019104e-01,  8.04358696e-01,  8.32543916e-01,\n",
       "          8.52810089e-01,  9.06470335e-01,  1.00794120e+00,  1.02624478e+00,\n",
       "          1.07372461e+00,  1.15155820e+00,  1.19866441e+00,  1.29532146e+00,\n",
       "          1.31889387e+00,  1.35663438e+00,  1.41083856e+00,  1.41798719e+00,\n",
       "          1.45002444e+00,  1.65642542e+00,  1.78618089e+00,  2.35497975e+00,\n",
       "          2.50757551e+00,  2.97595623e+00,  3.64301705e+00,  3.80539694e+00,\n",
       "          4.35607176e+00,  4.71807687e+00,  5.06815305e+00,  5.56737786e+00,\n",
       "          5.99771732e+00,  7.18923192e+00,  1.91861736e+01,  8.07752092e+01])),\n",
       " (6.0605464551440535, 0.5591460894517171, 0.5801797435044102))"
      ]
     },
     "execution_count": 37,
     "metadata": {},
     "output_type": "execute_result"
    },
    {
     "data": {
      "image/png": "[encoded data removed]",
      "text/plain": [
       "<Figure size 432x288 with 1 Axes>"
      ]
     },
     "metadata": {
      "needs_background": "light"
     },
     "output_type": "display_data"
    }
   ],
   "source": [
    "t_sample = sp.t.rvs(df = 1, size = 100)\n",
    "sp.probplot(t_sample, plot = plt)"
   ]
  },
  {
   "cell_type": "code",
   "execution_count": 38,
   "metadata": {},
   "outputs": [
    {
     "data": {
      "text/plain": [
       "<matplotlib.axes._subplots.AxesSubplot at 0x7f915f58c940>"
      ]
     },
     "execution_count": 38,
     "metadata": {},
     "output_type": "execute_result"
    },
    {
     "data": {
      "image/png": "[encoded data removed]",
      "text/plain": [
       "<Figure size 432x288 with 1 Axes>"
      ]
     },
     "metadata": {
      "needs_background": "light"
     },
     "output_type": "display_data"
    }
   ],
   "source": [
    "pd.Series(t_sample).plot.density()"
   ]
  },
  {
   "cell_type": "markdown",
   "metadata": {},
   "source": [
    "## 5.4 Binomial distribution"
   ]
  },
  {
   "cell_type": "code",
   "execution_count": 39,
   "metadata": {},
   "outputs": [
    {
     "data": {
      "text/plain": [
       "<matplotlib.axes._subplots.AxesSubplot at 0x7f915f637520>"
      ]
     },
     "execution_count": 39,
     "metadata": {},
     "output_type": "execute_result"
    },
    {
     "data": {
      "image/png": "[encoded data removed]",
      "text/plain": [
       "<Figure size 432x288 with 1 Axes>"
      ]
     },
     "metadata": {
      "needs_background": "light"
     },
     "output_type": "display_data"
    }
   ],
   "source": [
    "binomial_sample = sp.binom.rvs(n = 5, p = 0.1, size = 100)\n",
    "pd.Series(binomial_sample).plot.hist()"
   ]
  },
  {
   "cell_type": "code",
   "execution_count": 40,
   "metadata": {},
   "outputs": [
    {
     "data": {
      "text/plain": [
       "0.0729"
      ]
     },
     "execution_count": 40,
     "metadata": {},
     "output_type": "execute_result"
    }
   ],
   "source": [
    "sp.binom.pmf(k = 2, n = 5, p = 0.1)"
   ]
  },
  {
   "cell_type": "code",
   "execution_count": 41,
   "metadata": {},
   "outputs": [
    {
     "data": {
      "text/plain": [
       "0.99144"
      ]
     },
     "execution_count": 41,
     "metadata": {},
     "output_type": "execute_result"
    }
   ],
   "source": [
    "sp.binom.cdf(k = 2, n = 5, p = 0.1)"
   ]
  },
  {
   "cell_type": "markdown",
   "metadata": {},
   "source": [
    "## 5.5 Chi-square distribution"
   ]
  },
  {
   "cell_type": "code",
   "execution_count": 42,
   "metadata": {},
   "outputs": [
    {
     "data": {
      "text/plain": [
       "<matplotlib.axes._subplots.AxesSubplot at 0x7f915f710760>"
      ]
     },
     "execution_count": 42,
     "metadata": {},
     "output_type": "execute_result"
    },
    {
     "data": {
      "image/png": "[encoded data removed]",
      "text/plain": [
       "<Figure size 432x288 with 1 Axes>"
      ]
     },
     "metadata": {
      "needs_background": "light"
     },
     "output_type": "display_data"
    }
   ],
   "source": [
    "chi2_sample = sp.chi2.rvs(df = 2, size = 100)\n",
    "pd.Series(chi2_sample).plot.hist()"
   ]
  },
  {
   "cell_type": "markdown",
   "metadata": {},
   "source": [
    "## 5.6 F-distribution"
   ]
  },
  {
   "cell_type": "code",
   "execution_count": 43,
   "metadata": {},
   "outputs": [
    {
     "data": {
      "text/plain": [
       "<matplotlib.axes._subplots.AxesSubplot at 0x7f915f7ff820>"
      ]
     },
     "execution_count": 43,
     "metadata": {},
     "output_type": "execute_result"
    },
    {
     "data": {
      "image/png": "[encoded data removed]",
      "text/plain": [
       "<Figure size 432x288 with 1 Axes>"
      ]
     },
     "metadata": {
      "needs_background": "light"
     },
     "output_type": "display_data"
    }
   ],
   "source": [
    "f_sample = sp.f.rvs(dfn = 20, dfd = 20, size = 100)\n",
    "pd.Series(f_sample).plot.density()"
   ]
  },
  {
   "cell_type": "markdown",
   "metadata": {},
   "source": [
    "## 5.7 Poisson distributions"
   ]
  },
  {
   "cell_type": "markdown",
   "metadata": {},
   "source": [
    "### Poisson"
   ]
  },
  {
   "cell_type": "code",
   "execution_count": 44,
   "metadata": {},
   "outputs": [
    {
     "data": {
      "text/plain": [
       "<matplotlib.axes._subplots.AxesSubplot at 0x7f91600b1700>"
      ]
     },
     "execution_count": 44,
     "metadata": {},
     "output_type": "execute_result"
    },
    {
     "data": {
      "image/png": "[encoded data removed]",
      "text/plain": [
       "<Figure size 432x288 with 1 Axes>"
      ]
     },
     "metadata": {
      "needs_background": "light"
     },
     "output_type": "display_data"
    }
   ],
   "source": [
    "poisson_sample = sp.poisson.rvs(mu = 2, size = 100)\n",
    "pd.Series(poisson_sample).plot.hist()"
   ]
  },
  {
   "cell_type": "markdown",
   "metadata": {},
   "source": [
    "### Exponential"
   ]
  },
  {
   "cell_type": "code",
   "execution_count": 45,
   "metadata": {},
   "outputs": [
    {
     "data": {
      "text/plain": [
       "<matplotlib.axes._subplots.AxesSubplot at 0x7f9160165f10>"
      ]
     },
     "execution_count": 45,
     "metadata": {},
     "output_type": "execute_result"
    },
    {
     "data": {
      "image/png": "[encoded data removed]",
      "text/plain": [
       "<Figure size 432x288 with 1 Axes>"
      ]
     },
     "metadata": {
      "needs_background": "light"
     },
     "output_type": "display_data"
    }
   ],
   "source": [
    "expon_sample = sp.expon.rvs(size = 100)\n",
    "pd.Series(expon_sample).plot.density()"
   ]
  },
  {
   "cell_type": "markdown",
   "metadata": {},
   "source": [
    "### Weibull"
   ]
  },
  {
   "cell_type": "code",
   "execution_count": 46,
   "metadata": {},
   "outputs": [
    {
     "data": {
      "text/plain": [
       "<matplotlib.axes._subplots.AxesSubplot at 0x7f9160218130>"
      ]
     },
     "execution_count": 46,
     "metadata": {},
     "output_type": "execute_result"
    },
    {
     "data": {
      "image/png": "[encoded data removed]",
      "text/plain": [
       "<Figure size 432x288 with 1 Axes>"
      ]
     },
     "metadata": {
      "needs_background": "light"
     },
     "output_type": "display_data"
    }
   ],
   "source": [
    "weibull_sample = sp.weibull_min.rvs(c = 1.5, size = 100)\n",
    "pd.Series(weibull_sample).plot.density()"
   ]
  },
  {
   "cell_type": "markdown",
   "metadata": {},
   "source": [
    "# 6. Statistical Hypothesis Testing"
   ]
  },
  {
   "cell_type": "markdown",
   "metadata": {},
   "source": [
    "https://towardsdatascience.com/the-math-behind-a-b-testing-with-example-code-part-1-of-2-7be752e1d06f"
   ]
  },
  {
   "cell_type": "markdown",
   "metadata": {},
   "source": [
    "## 6.1 Hypothesis tests example"
   ]
  },
  {
   "cell_type": "markdown",
   "metadata": {},
   "source": [
    "### Example: Flipping a coin"
   ]
  },
  {
   "cell_type": "code",
   "execution_count": 47,
   "metadata": {},
   "outputs": [],
   "source": [
    "def normal_approximation_to_binomial(n: int, p: float) -> Tuple[float, float]:\n",
    "    '''Returns mu and sigma corresponding to a Binomial(n, p)'''\n",
    "    mu = p * n\n",
    "    sigma = math.sqrt(p * (1 - p) * n)\n",
    "    return mu, sigma\n",
    "\n",
    "normal_probability_below = normal_cdf\n",
    "\n",
    "def normal_probability_above(lo: float, mu: float = 0, sigma: float = 1) -> float:\n",
    "    '''The probability that an N(mu, sigma) is greater than lo'''\n",
    "    return 1 - normal_cdf(lo, mu, sigma)\n",
    "\n",
    "def normal_probability_between(lo: float, hi: float, mu: float = 0, sigma: float = 1) -> float:\n",
    "    '''The probability that an N(mu, sigma) is between lo and hi'''\n",
    "    return normal_cdf(hi, mu, sigma) - normal_cdf(lo, mu, sigma)\n",
    "\n",
    "def normal_probability_outside(lo: float, hi: float, mu: float = 0, sigma: float = 1) -> float:\n",
    "    return 1 - normal_probability_between(lo, hi, mu, sigma)"
   ]
  },
  {
   "cell_type": "code",
   "execution_count": 48,
   "metadata": {},
   "outputs": [],
   "source": [
    "def normal_upper_bound(probability: float, mu: float = 0, sigma: float = 1) -> float:\n",
    "    '''Returns the z for which P(Z <= z) = probability'''\n",
    "    return inverse_normal_cdf(probability, mu, sigma)\n",
    "\n",
    "def normal_lower_bound(probability: float, mu: float = 0, sigma: float = 1) -> float:\n",
    "    '''Returns the z for which P(Z >= z) = probability'''\n",
    "    return inverse_normal_cdf(1 - probability, mu, sigma)\n",
    "\n",
    "def normal_two_sided_bounds(probability: float, mu: float = 0, sigma: float = 1) -> Tuple[float, float]:\n",
    "    '''Returns the symmetric (about the mean) bounds that contain the specified probability'''\n",
    "    tail_probability = (1 - probability) / 2\n",
    "    upper_bound = normal_lower_bound(tail_probability, mu, sigma)\n",
    "    lower_bound = normal_upper_bound(tail_probability, mu, sigma)\n",
    "    return lower_bound, upper_bound "
   ]
  },
  {
   "cell_type": "markdown",
   "metadata": {},
   "source": [
    "### Power"
   ]
  },
  {
   "cell_type": "code",
   "execution_count": 49,
   "metadata": {},
   "outputs": [
    {
     "data": {
      "text/plain": [
       "(500.0, 15.811388300841896)"
      ]
     },
     "execution_count": 49,
     "metadata": {},
     "output_type": "execute_result"
    }
   ],
   "source": [
    "mu_0, sigma_0 = normal_approximation_to_binomial(n = 1000, p = 0.5)\n",
    "mu_0, sigma_0"
   ]
  },
  {
   "cell_type": "code",
   "execution_count": 50,
   "metadata": {},
   "outputs": [
    {
     "data": {
      "text/plain": [
       "(469.01026640487555, 530.9897335951244)"
      ]
     },
     "execution_count": 50,
     "metadata": {},
     "output_type": "execute_result"
    }
   ],
   "source": [
    "lower_bound, upper_bound = normal_two_sided_bounds(probability = 0.95, mu = mu_0, sigma = sigma_0)\n",
    "lower_bound, upper_bound"
   ]
  },
  {
   "cell_type": "code",
   "execution_count": 51,
   "metadata": {},
   "outputs": [
    {
     "data": {
      "text/plain": [
       "(550.0, 15.732132722552274)"
      ]
     },
     "execution_count": 51,
     "metadata": {},
     "output_type": "execute_result"
    }
   ],
   "source": [
    "mu_1, sigma_1 = normal_approximation_to_binomial(n = 1000, p = 0.55)\n",
    "mu_1, sigma_1"
   ]
  },
  {
   "cell_type": "code",
   "execution_count": 52,
   "metadata": {},
   "outputs": [
    {
     "data": {
      "text/plain": [
       "0.8865480012953671"
      ]
     },
     "execution_count": 52,
     "metadata": {},
     "output_type": "execute_result"
    }
   ],
   "source": [
    "# two-sided\n",
    "type_2_probability = normal_probability_between(lower_bound, upper_bound, mu_1, sigma_1)\n",
    "power = 1 - type_2_probability\n",
    "power"
   ]
  },
  {
   "cell_type": "code",
   "execution_count": 53,
   "metadata": {},
   "outputs": [
    {
     "data": {
      "text/plain": [
       "0.9363794803307173"
      ]
     },
     "execution_count": 53,
     "metadata": {},
     "output_type": "execute_result"
    }
   ],
   "source": [
    "# one-sided\n",
    "hi = normal_upper_bound(0.95, mu_0, sigma_0)\n",
    "type_2_probability = normal_probability_below(hi, mu_1, sigma_1)\n",
    "power = 1 - type_2_probability\n",
    "power"
   ]
  },
  {
   "cell_type": "markdown",
   "metadata": {},
   "source": [
    "### P-value"
   ]
  },
  {
   "cell_type": "code",
   "execution_count": 54,
   "metadata": {},
   "outputs": [],
   "source": [
    "def two_sided_p_value(x: float, mu: float = 0, sigma: float = 1) -> float:\n",
    "    '''How likely are we to see a value at least as extreme as x (in either direction) if our values are from an N(mu, sigma)'''\n",
    "    if x > mu:\n",
    "        # if x is greater than the mean, so the tail is everything greater than x\n",
    "        return 2 * normal_probability_above(x, mu, sigma)\n",
    "    else:\n",
    "        # if x is less than the mean, so the tail is everything less than x\n",
    "        return 2 * normal_probability_below(x, mu, sigma)"
   ]
  },
  {
   "cell_type": "code",
   "execution_count": 55,
   "metadata": {},
   "outputs": [
    {
     "data": {
      "text/plain": [
       "0.06207721579598835"
      ]
     },
     "execution_count": 55,
     "metadata": {},
     "output_type": "execute_result"
    }
   ],
   "source": [
    "two_sided_p_value(529.5, mu_0, sigma_0)"
   ]
  },
  {
   "cell_type": "code",
   "execution_count": 56,
   "metadata": {},
   "outputs": [
    {
     "data": {
      "text/plain": [
       "0.046345287837786575"
      ]
     },
     "execution_count": 56,
     "metadata": {},
     "output_type": "execute_result"
    }
   ],
   "source": [
    "two_sided_p_value(531.5, mu_0, sigma_0)"
   ]
  },
  {
   "cell_type": "code",
   "execution_count": 57,
   "metadata": {},
   "outputs": [],
   "source": [
    "upper_p_value = normal_probability_above\n",
    "lower_p_value = normal_probability_below "
   ]
  },
  {
   "cell_type": "code",
   "execution_count": 58,
   "metadata": {},
   "outputs": [
    {
     "data": {
      "text/plain": [
       "0.06062885772582072"
      ]
     },
     "execution_count": 58,
     "metadata": {},
     "output_type": "execute_result"
    }
   ],
   "source": [
    "upper_p_value(524.5, mu_0, sigma_0)"
   ]
  },
  {
   "cell_type": "code",
   "execution_count": 59,
   "metadata": {},
   "outputs": [
    {
     "data": {
      "text/plain": [
       "0.04686839508859242"
      ]
     },
     "execution_count": 59,
     "metadata": {},
     "output_type": "execute_result"
    }
   ],
   "source": [
    "upper_p_value(526.5, mu_0, sigma_0)"
   ]
  },
  {
   "cell_type": "markdown",
   "metadata": {},
   "source": [
    "### Confidence interval"
   ]
  },
  {
   "cell_type": "code",
   "execution_count": 60,
   "metadata": {},
   "outputs": [
    {
     "data": {
      "text/plain": [
       "(0.4940490278129096, 0.5559509721870904)"
      ]
     },
     "execution_count": 60,
     "metadata": {},
     "output_type": "execute_result"
    }
   ],
   "source": [
    "p_hat = 525 / 1000\n",
    "mu = p_hat\n",
    "sigma = math.sqrt(p_hat * (1 - p_hat) / 1000)\n",
    "normal_two_sided_bounds(0.95, mu, sigma)"
   ]
  },
  {
   "cell_type": "code",
   "execution_count": 61,
   "metadata": {},
   "outputs": [
    {
     "data": {
      "text/plain": [
       "(0.5091095927295919, 0.5708904072704082)"
      ]
     },
     "execution_count": 61,
     "metadata": {},
     "output_type": "execute_result"
    }
   ],
   "source": [
    "p_hat = 540 / 1000\n",
    "mu = p_hat\n",
    "sigma = math.sqrt(p_hat * (1 - p_hat) / 1000)\n",
    "normal_two_sided_bounds(0.95, mu, sigma)"
   ]
  },
  {
   "cell_type": "markdown",
   "metadata": {},
   "source": [
    "### Example: Running an A/B test"
   ]
  },
  {
   "cell_type": "code",
   "execution_count": 62,
   "metadata": {},
   "outputs": [],
   "source": [
    "def estimated_parameters(N: int, n: int) -> Tuple[float, float]:\n",
    "    p = n / N\n",
    "    sigma = math.sqrt(p * (1 - p) / N)\n",
    "    return p, sigma"
   ]
  },
  {
   "cell_type": "code",
   "execution_count": 63,
   "metadata": {},
   "outputs": [],
   "source": [
    "def a_b_test_statistic(N_A: int, n_A: int, N_B: int, n_B: int) -> float:\n",
    "    p_A, sigma_A = estimated_parameters(N_A, n_A)\n",
    "    p_B, sigma_B = estimated_parameters(N_B, n_B)\n",
    "    return (p_B - p_A) / math.sqrt(sigma_A ** 2 + sigma_B ** 2)"
   ]
  },
  {
   "cell_type": "code",
   "execution_count": 64,
   "metadata": {},
   "outputs": [
    {
     "data": {
      "text/plain": [
       "0.254141976542236"
      ]
     },
     "execution_count": 64,
     "metadata": {},
     "output_type": "execute_result"
    }
   ],
   "source": [
    "z = a_b_test_statistic(1000, 200, 1000, 180)\n",
    "two_sided_p_value(z)"
   ]
  },
  {
   "cell_type": "code",
   "execution_count": 65,
   "metadata": {},
   "outputs": [
    {
     "data": {
      "text/plain": [
       "0.003189699706216853"
      ]
     },
     "execution_count": 65,
     "metadata": {},
     "output_type": "execute_result"
    }
   ],
   "source": [
    "z = a_b_test_statistic(1000, 200, 1000, 150)\n",
    "two_sided_p_value(z)"
   ]
  },
  {
   "cell_type": "markdown",
   "metadata": {},
   "source": [
    "## 6.2 Resampling"
   ]
  },
  {
   "cell_type": "markdown",
   "metadata": {},
   "source": [
    "### Permutation"
   ]
  },
  {
   "cell_type": "code",
   "execution_count": 66,
   "metadata": {},
   "outputs": [
    {
     "data": {
      "text/html": [
       "<div>\n",
       "<style scoped>\n",
       "    .dataframe tbody tr th:only-of-type {\n",
       "        vertical-align: middle;\n",
       "    }\n",
       "\n",
       "    .dataframe tbody tr th {\n",
       "        vertical-align: top;\n",
       "    }\n",
       "\n",
       "    .dataframe thead th {\n",
       "        text-align: right;\n",
       "    }\n",
       "</style>\n",
       "<table border=\"1\" class=\"dataframe\">\n",
       "  <thead>\n",
       "    <tr style=\"text-align: right;\">\n",
       "      <th></th>\n",
       "      <th>Page</th>\n",
       "      <th>Time</th>\n",
       "    </tr>\n",
       "  </thead>\n",
       "  <tbody>\n",
       "    <tr>\n",
       "      <th>0</th>\n",
       "      <td>Page A</td>\n",
       "      <td>0.21</td>\n",
       "    </tr>\n",
       "    <tr>\n",
       "      <th>1</th>\n",
       "      <td>Page B</td>\n",
       "      <td>2.53</td>\n",
       "    </tr>\n",
       "    <tr>\n",
       "      <th>2</th>\n",
       "      <td>Page A</td>\n",
       "      <td>0.35</td>\n",
       "    </tr>\n",
       "    <tr>\n",
       "      <th>3</th>\n",
       "      <td>Page B</td>\n",
       "      <td>0.71</td>\n",
       "    </tr>\n",
       "    <tr>\n",
       "      <th>4</th>\n",
       "      <td>Page A</td>\n",
       "      <td>0.67</td>\n",
       "    </tr>\n",
       "    <tr>\n",
       "      <th>5</th>\n",
       "      <td>Page B</td>\n",
       "      <td>0.85</td>\n",
       "    </tr>\n",
       "    <tr>\n",
       "      <th>6</th>\n",
       "      <td>Page A</td>\n",
       "      <td>2.11</td>\n",
       "    </tr>\n",
       "    <tr>\n",
       "      <th>7</th>\n",
       "      <td>Page B</td>\n",
       "      <td>2.46</td>\n",
       "    </tr>\n",
       "    <tr>\n",
       "      <th>8</th>\n",
       "      <td>Page A</td>\n",
       "      <td>1.32</td>\n",
       "    </tr>\n",
       "    <tr>\n",
       "      <th>9</th>\n",
       "      <td>Page B</td>\n",
       "      <td>1.49</td>\n",
       "    </tr>\n",
       "    <tr>\n",
       "      <th>10</th>\n",
       "      <td>Page A</td>\n",
       "      <td>0.68</td>\n",
       "    </tr>\n",
       "    <tr>\n",
       "      <th>11</th>\n",
       "      <td>Page B</td>\n",
       "      <td>0.75</td>\n",
       "    </tr>\n",
       "    <tr>\n",
       "      <th>12</th>\n",
       "      <td>Page A</td>\n",
       "      <td>3.21</td>\n",
       "    </tr>\n",
       "    <tr>\n",
       "      <th>13</th>\n",
       "      <td>Page B</td>\n",
       "      <td>3.33</td>\n",
       "    </tr>\n",
       "    <tr>\n",
       "      <th>14</th>\n",
       "      <td>Page A</td>\n",
       "      <td>1.47</td>\n",
       "    </tr>\n",
       "    <tr>\n",
       "      <th>15</th>\n",
       "      <td>Page B</td>\n",
       "      <td>1.87</td>\n",
       "    </tr>\n",
       "    <tr>\n",
       "      <th>16</th>\n",
       "      <td>Page A</td>\n",
       "      <td>0.95</td>\n",
       "    </tr>\n",
       "    <tr>\n",
       "      <th>17</th>\n",
       "      <td>Page B</td>\n",
       "      <td>1.26</td>\n",
       "    </tr>\n",
       "    <tr>\n",
       "      <th>18</th>\n",
       "      <td>Page A</td>\n",
       "      <td>0.45</td>\n",
       "    </tr>\n",
       "    <tr>\n",
       "      <th>19</th>\n",
       "      <td>Page B</td>\n",
       "      <td>0.48</td>\n",
       "    </tr>\n",
       "    <tr>\n",
       "      <th>20</th>\n",
       "      <td>Page A</td>\n",
       "      <td>1.18</td>\n",
       "    </tr>\n",
       "    <tr>\n",
       "      <th>21</th>\n",
       "      <td>Page B</td>\n",
       "      <td>1.47</td>\n",
       "    </tr>\n",
       "    <tr>\n",
       "      <th>22</th>\n",
       "      <td>Page A</td>\n",
       "      <td>3.42</td>\n",
       "    </tr>\n",
       "    <tr>\n",
       "      <th>23</th>\n",
       "      <td>Page B</td>\n",
       "      <td>3.57</td>\n",
       "    </tr>\n",
       "    <tr>\n",
       "      <th>24</th>\n",
       "      <td>Page A</td>\n",
       "      <td>1.97</td>\n",
       "    </tr>\n",
       "    <tr>\n",
       "      <th>25</th>\n",
       "      <td>Page B</td>\n",
       "      <td>2.23</td>\n",
       "    </tr>\n",
       "    <tr>\n",
       "      <th>26</th>\n",
       "      <td>Page A</td>\n",
       "      <td>0.39</td>\n",
       "    </tr>\n",
       "    <tr>\n",
       "      <th>27</th>\n",
       "      <td>Page B</td>\n",
       "      <td>0.43</td>\n",
       "    </tr>\n",
       "    <tr>\n",
       "      <th>28</th>\n",
       "      <td>Page A</td>\n",
       "      <td>0.65</td>\n",
       "    </tr>\n",
       "    <tr>\n",
       "      <th>29</th>\n",
       "      <td>Page B</td>\n",
       "      <td>0.87</td>\n",
       "    </tr>\n",
       "    <tr>\n",
       "      <th>30</th>\n",
       "      <td>Page A</td>\n",
       "      <td>1.73</td>\n",
       "    </tr>\n",
       "    <tr>\n",
       "      <th>31</th>\n",
       "      <td>Page A</td>\n",
       "      <td>0.74</td>\n",
       "    </tr>\n",
       "    <tr>\n",
       "      <th>32</th>\n",
       "      <td>Page A</td>\n",
       "      <td>0.86</td>\n",
       "    </tr>\n",
       "    <tr>\n",
       "      <th>33</th>\n",
       "      <td>Page A</td>\n",
       "      <td>1.18</td>\n",
       "    </tr>\n",
       "    <tr>\n",
       "      <th>34</th>\n",
       "      <td>Page A</td>\n",
       "      <td>2.06</td>\n",
       "    </tr>\n",
       "    <tr>\n",
       "      <th>35</th>\n",
       "      <td>Page A</td>\n",
       "      <td>0.93</td>\n",
       "    </tr>\n",
       "  </tbody>\n",
       "</table>\n",
       "</div>"
      ],
      "text/plain": [
       "      Page  Time\n",
       "0   Page A  0.21\n",
       "1   Page B  2.53\n",
       "2   Page A  0.35\n",
       "3   Page B  0.71\n",
       "4   Page A  0.67\n",
       "5   Page B  0.85\n",
       "6   Page A  2.11\n",
       "7   Page B  2.46\n",
       "8   Page A  1.32\n",
       "9   Page B  1.49\n",
       "10  Page A  0.68\n",
       "11  Page B  0.75\n",
       "12  Page A  3.21\n",
       "13  Page B  3.33\n",
       "14  Page A  1.47\n",
       "15  Page B  1.87\n",
       "16  Page A  0.95\n",
       "17  Page B  1.26\n",
       "18  Page A  0.45\n",
       "19  Page B  0.48\n",
       "20  Page A  1.18\n",
       "21  Page B  1.47\n",
       "22  Page A  3.42\n",
       "23  Page B  3.57\n",
       "24  Page A  1.97\n",
       "25  Page B  2.23\n",
       "26  Page A  0.39\n",
       "27  Page B  0.43\n",
       "28  Page A  0.65\n",
       "29  Page B  0.87\n",
       "30  Page A  1.73\n",
       "31  Page A  0.74\n",
       "32  Page A  0.86\n",
       "33  Page A  1.18\n",
       "34  Page A  2.06\n",
       "35  Page A  0.93"
      ]
     },
     "execution_count": 66,
     "metadata": {},
     "output_type": "execute_result"
    }
   ],
   "source": [
    "df = pd.DataFrame(\n",
    "    {'Page':['Page A', 'Page B', 'Page A', 'Page B', 'Page A', 'Page B',\n",
    "             'Page A', 'Page B', 'Page A', 'Page B', 'Page A', 'Page B',\n",
    "             'Page A', 'Page B', 'Page A', 'Page B', 'Page A', 'Page B',\n",
    "             'Page A', 'Page B', 'Page A', 'Page B', 'Page A', 'Page B',\n",
    "             'Page A', 'Page B', 'Page A', 'Page B', 'Page A', 'Page B',\n",
    "             'Page A', 'Page A', 'Page A', 'Page A', 'Page A', 'Page A'],\n",
    "    'Time':[0.21, 2.53, 0.35, 0.71, 0.67, 0.85, 2.11, 2.46, 1.32, 1.49, 0.68,\n",
    "            0.75, 3.21, 3.33, 1.47, 1.87, 0.95, 1.26, 0.45, 0.48, 1.18, 1.47,\n",
    "            3.42, 3.57, 1.97, 2.23, 0.39, 0.43, 0.65, 0.87, 1.73, 0.74, 0.86,\n",
    "            1.18, 2.06, 0.93]})\n",
    "df"
   ]
  },
  {
   "cell_type": "code",
   "execution_count": 67,
   "metadata": {},
   "outputs": [
    {
     "data": {
      "text/plain": [
       "Page A    21\n",
       "Page B    15\n",
       "Name: Page, dtype: int64"
      ]
     },
     "execution_count": 67,
     "metadata": {},
     "output_type": "execute_result"
    }
   ],
   "source": [
    "df.Page.value_counts()"
   ]
  },
  {
   "cell_type": "code",
   "execution_count": 68,
   "metadata": {},
   "outputs": [
    {
     "data": {
      "text/plain": [
       "<matplotlib.axes._subplots.AxesSubplot at 0x7f91602bc970>"
      ]
     },
     "execution_count": 68,
     "metadata": {},
     "output_type": "execute_result"
    },
    {
     "data": {
      "image/png": "[encoded data removed]",
      "text/plain": [
       "<Figure size 432x288 with 1 Axes>"
      ]
     },
     "metadata": {
      "needs_background": "light"
     },
     "output_type": "display_data"
    }
   ],
   "source": [
    "df.boxplot(by = 'Page', column = 'Time')"
   ]
  },
  {
   "cell_type": "code",
   "execution_count": 69,
   "metadata": {},
   "outputs": [
    {
     "data": {
      "text/plain": [
       "(1.2633333333333332, 1.62)"
      ]
     },
     "execution_count": 69,
     "metadata": {},
     "output_type": "execute_result"
    }
   ],
   "source": [
    "mean_a = df[df.Page == 'Page A'].Time.mean()\n",
    "mean_b = df[df.Page == 'Page B'].Time.mean()\n",
    "mean_a, mean_b"
   ]
  },
  {
   "cell_type": "code",
   "execution_count": 70,
   "metadata": {},
   "outputs": [
    {
     "data": {
      "text/plain": [
       "0.31413556819122196"
      ]
     },
     "execution_count": 70,
     "metadata": {},
     "output_type": "execute_result"
    }
   ],
   "source": [
    "# Standard error\n",
    "se = np.std(df.Time) * np.sqrt(1 / df.Page.value_counts()[0] + 1 / df.Page.value_counts()[1])\n",
    "se"
   ]
  },
  {
   "cell_type": "code",
   "execution_count": 71,
   "metadata": {},
   "outputs": [
    {
     "data": {
      "text/plain": [
       "[-0.2590390469881281, 0.9723723803214619]"
      ]
     },
     "execution_count": 71,
     "metadata": {},
     "output_type": "execute_result"
    }
   ],
   "source": [
    "# Confidence interval \n",
    "[mean_b - mean_a - 1.96 * se, mean_b - mean_a + 1.96 * se]"
   ]
  },
  {
   "cell_type": "code",
   "execution_count": 72,
   "metadata": {},
   "outputs": [
    {
     "data": {
      "application/vnd.jupyter.widget-view+json": {
       "model_id": "063543bcf7854de7aff027711e6b3bd0",
       "version_major": 2,
       "version_minor": 0
      },
      "text/plain": [
       "HBox(children=(FloatProgress(value=0.0, max=1000.0), HTML(value='')))"
      ]
     },
     "metadata": {},
     "output_type": "display_data"
    },
    {
     "name": "stdout",
     "output_type": "stream",
     "text": [
      "\n"
     ]
    },
    {
     "data": {
      "image/png": "[encoded data removed]",
      "text/plain": [
       "<Figure size 360x360 with 1 Axes>"
      ]
     },
     "metadata": {
      "needs_background": "light"
     },
     "output_type": "display_data"
    }
   ],
   "source": [
    "def perm_fun(x, nA, nB):\n",
    "    n = nA + nB\n",
    "    idx_B = set(random.sample(population = range(n), k = nB))\n",
    "    idx_A = set(range(n)) - idx_B\n",
    "    return x.loc[idx_B].mean() - x.loc[idx_A].mean()\n",
    "\n",
    "nA = df[df.Page == 'Page A'].shape[0]\n",
    "nB = df[df.Page == 'Page B'].shape[0]\n",
    "\n",
    "perm_diffs = [perm_fun(df.Time, nA, nB) for _ in trange(1000)]\n",
    "\n",
    "fig, ax = plt.subplots(figsize = (5,5))\n",
    "ax.hist(perm_diffs, bins = 11, rwidth = 0.9)\n",
    "ax.axvline(x = mean_b - mean_a, color = 'black', lw = 2)\n",
    "ax.set_xlabel('Session time differences')\n",
    "ax.set_ylabel('Frequency')\n",
    "plt.show()"
   ]
  },
  {
   "cell_type": "code",
   "execution_count": 73,
   "metadata": {},
   "outputs": [
    {
     "name": "stdout",
     "output_type": "stream",
     "text": [
      "p-value: 0.135\n"
     ]
    }
   ],
   "source": [
    "print(f'p-value: {np.mean(perm_diffs > mean_b - mean_a)}')"
   ]
  },
  {
   "cell_type": "markdown",
   "metadata": {},
   "source": [
    "## 6.3 Statistical significance and p-values"
   ]
  },
  {
   "cell_type": "markdown",
   "metadata": {},
   "source": [
    "Outcome | Price A | Price B\n",
    "\n",
    "Conversion | 200 | 182\n",
    "\n",
    "No conversion | 23,539 | 22,406"
   ]
  },
  {
   "cell_type": "code",
   "execution_count": 74,
   "metadata": {},
   "outputs": [
    {
     "data": {
      "text/plain": [
       "0.03675791182059275"
      ]
     },
     "execution_count": 74,
     "metadata": {},
     "output_type": "execute_result"
    }
   ],
   "source": [
    "obs_pct_diff = 100 * (200 / 23739 - 182 / 22588)\n",
    "obs_pct_diff"
   ]
  },
  {
   "cell_type": "code",
   "execution_count": 75,
   "metadata": {},
   "outputs": [
    {
     "data": {
      "application/vnd.jupyter.widget-view+json": {
       "model_id": "1b6f8643165d4c1d8668eca4ece8ba4b",
       "version_major": 2,
       "version_minor": 0
      },
      "text/plain": [
       "HBox(children=(FloatProgress(value=0.0, max=1000.0), HTML(value='')))"
      ]
     },
     "metadata": {},
     "output_type": "display_data"
    },
    {
     "name": "stdout",
     "output_type": "stream",
     "text": [
      "\n"
     ]
    },
    {
     "data": {
      "image/png": "[encoded data removed]",
      "text/plain": [
       "<Figure size 360x360 with 1 Axes>"
      ]
     },
     "metadata": {
      "needs_background": "light"
     },
     "output_type": "display_data"
    }
   ],
   "source": [
    "conversion = [0] * 45945\n",
    "conversion.extend([1] * 382)\n",
    "df = pd.Series(conversion)\n",
    "\n",
    "perm_diffs = [100 * perm_fun(df, 23739, 22588) for _ in trange(1000)]\n",
    "\n",
    "fig, ax = plt.subplots(figsize = (5,5))\n",
    "ax.hist(perm_diffs, bins = 11, rwidth = 0.9)\n",
    "ax.axvline(x = obs_pct_diff, color = 'black', lw = 2)\n",
    "ax.set_xlabel('Conversion rate (percent)')\n",
    "ax.set_ylabel('Frequency')\n",
    "plt.show()"
   ]
  },
  {
   "cell_type": "code",
   "execution_count": 76,
   "metadata": {},
   "outputs": [
    {
     "name": "stdout",
     "output_type": "stream",
     "text": [
      "p-value: 0.352\n"
     ]
    }
   ],
   "source": [
    "print(f'p-value: {np.mean(np.array(perm_diffs) > obs_pct_diff)}')"
   ]
  },
  {
   "cell_type": "code",
   "execution_count": 77,
   "metadata": {},
   "outputs": [
    {
     "name": "stdout",
     "output_type": "stream",
     "text": [
      "p-value for single sided test: 0.3498\n"
     ]
    }
   ],
   "source": [
    "survivors = np.array([[200, 23739 - 200], [182, 22588 - 182]])\n",
    "chi2, p_value, df, _ = sp.chi2_contingency(survivors)\n",
    "print(f'p-value for single sided test: {p_value / 2:.4f}')"
   ]
  },
  {
   "cell_type": "markdown",
   "metadata": {},
   "source": [
    "## 6.4 t-tests"
   ]
  },
  {
   "cell_type": "code",
   "execution_count": 78,
   "metadata": {},
   "outputs": [
    {
     "data": {
      "text/html": [
       "<div>\n",
       "<style scoped>\n",
       "    .dataframe tbody tr th:only-of-type {\n",
       "        vertical-align: middle;\n",
       "    }\n",
       "\n",
       "    .dataframe tbody tr th {\n",
       "        vertical-align: top;\n",
       "    }\n",
       "\n",
       "    .dataframe thead th {\n",
       "        text-align: right;\n",
       "    }\n",
       "</style>\n",
       "<table border=\"1\" class=\"dataframe\">\n",
       "  <thead>\n",
       "    <tr style=\"text-align: right;\">\n",
       "      <th></th>\n",
       "      <th>Page</th>\n",
       "      <th>Time</th>\n",
       "    </tr>\n",
       "  </thead>\n",
       "  <tbody>\n",
       "    <tr>\n",
       "      <th>0</th>\n",
       "      <td>Page A</td>\n",
       "      <td>0.21</td>\n",
       "    </tr>\n",
       "    <tr>\n",
       "      <th>1</th>\n",
       "      <td>Page B</td>\n",
       "      <td>2.53</td>\n",
       "    </tr>\n",
       "    <tr>\n",
       "      <th>2</th>\n",
       "      <td>Page A</td>\n",
       "      <td>0.35</td>\n",
       "    </tr>\n",
       "    <tr>\n",
       "      <th>3</th>\n",
       "      <td>Page B</td>\n",
       "      <td>0.71</td>\n",
       "    </tr>\n",
       "    <tr>\n",
       "      <th>4</th>\n",
       "      <td>Page A</td>\n",
       "      <td>0.67</td>\n",
       "    </tr>\n",
       "    <tr>\n",
       "      <th>5</th>\n",
       "      <td>Page B</td>\n",
       "      <td>0.85</td>\n",
       "    </tr>\n",
       "    <tr>\n",
       "      <th>6</th>\n",
       "      <td>Page A</td>\n",
       "      <td>2.11</td>\n",
       "    </tr>\n",
       "    <tr>\n",
       "      <th>7</th>\n",
       "      <td>Page B</td>\n",
       "      <td>2.46</td>\n",
       "    </tr>\n",
       "    <tr>\n",
       "      <th>8</th>\n",
       "      <td>Page A</td>\n",
       "      <td>1.32</td>\n",
       "    </tr>\n",
       "    <tr>\n",
       "      <th>9</th>\n",
       "      <td>Page B</td>\n",
       "      <td>1.49</td>\n",
       "    </tr>\n",
       "    <tr>\n",
       "      <th>10</th>\n",
       "      <td>Page A</td>\n",
       "      <td>0.68</td>\n",
       "    </tr>\n",
       "    <tr>\n",
       "      <th>11</th>\n",
       "      <td>Page B</td>\n",
       "      <td>0.75</td>\n",
       "    </tr>\n",
       "    <tr>\n",
       "      <th>12</th>\n",
       "      <td>Page A</td>\n",
       "      <td>3.21</td>\n",
       "    </tr>\n",
       "    <tr>\n",
       "      <th>13</th>\n",
       "      <td>Page B</td>\n",
       "      <td>3.33</td>\n",
       "    </tr>\n",
       "    <tr>\n",
       "      <th>14</th>\n",
       "      <td>Page A</td>\n",
       "      <td>1.47</td>\n",
       "    </tr>\n",
       "    <tr>\n",
       "      <th>15</th>\n",
       "      <td>Page B</td>\n",
       "      <td>1.87</td>\n",
       "    </tr>\n",
       "    <tr>\n",
       "      <th>16</th>\n",
       "      <td>Page A</td>\n",
       "      <td>0.95</td>\n",
       "    </tr>\n",
       "    <tr>\n",
       "      <th>17</th>\n",
       "      <td>Page B</td>\n",
       "      <td>1.26</td>\n",
       "    </tr>\n",
       "    <tr>\n",
       "      <th>18</th>\n",
       "      <td>Page A</td>\n",
       "      <td>0.45</td>\n",
       "    </tr>\n",
       "    <tr>\n",
       "      <th>19</th>\n",
       "      <td>Page B</td>\n",
       "      <td>0.48</td>\n",
       "    </tr>\n",
       "    <tr>\n",
       "      <th>20</th>\n",
       "      <td>Page A</td>\n",
       "      <td>1.18</td>\n",
       "    </tr>\n",
       "    <tr>\n",
       "      <th>21</th>\n",
       "      <td>Page B</td>\n",
       "      <td>1.47</td>\n",
       "    </tr>\n",
       "    <tr>\n",
       "      <th>22</th>\n",
       "      <td>Page A</td>\n",
       "      <td>3.42</td>\n",
       "    </tr>\n",
       "    <tr>\n",
       "      <th>23</th>\n",
       "      <td>Page B</td>\n",
       "      <td>3.57</td>\n",
       "    </tr>\n",
       "    <tr>\n",
       "      <th>24</th>\n",
       "      <td>Page A</td>\n",
       "      <td>1.97</td>\n",
       "    </tr>\n",
       "    <tr>\n",
       "      <th>25</th>\n",
       "      <td>Page B</td>\n",
       "      <td>2.23</td>\n",
       "    </tr>\n",
       "    <tr>\n",
       "      <th>26</th>\n",
       "      <td>Page A</td>\n",
       "      <td>0.39</td>\n",
       "    </tr>\n",
       "    <tr>\n",
       "      <th>27</th>\n",
       "      <td>Page B</td>\n",
       "      <td>0.43</td>\n",
       "    </tr>\n",
       "    <tr>\n",
       "      <th>28</th>\n",
       "      <td>Page A</td>\n",
       "      <td>0.65</td>\n",
       "    </tr>\n",
       "    <tr>\n",
       "      <th>29</th>\n",
       "      <td>Page B</td>\n",
       "      <td>0.87</td>\n",
       "    </tr>\n",
       "    <tr>\n",
       "      <th>30</th>\n",
       "      <td>Page A</td>\n",
       "      <td>1.73</td>\n",
       "    </tr>\n",
       "    <tr>\n",
       "      <th>31</th>\n",
       "      <td>Page A</td>\n",
       "      <td>0.74</td>\n",
       "    </tr>\n",
       "    <tr>\n",
       "      <th>32</th>\n",
       "      <td>Page A</td>\n",
       "      <td>0.86</td>\n",
       "    </tr>\n",
       "    <tr>\n",
       "      <th>33</th>\n",
       "      <td>Page A</td>\n",
       "      <td>1.18</td>\n",
       "    </tr>\n",
       "    <tr>\n",
       "      <th>34</th>\n",
       "      <td>Page A</td>\n",
       "      <td>2.06</td>\n",
       "    </tr>\n",
       "    <tr>\n",
       "      <th>35</th>\n",
       "      <td>Page A</td>\n",
       "      <td>0.93</td>\n",
       "    </tr>\n",
       "  </tbody>\n",
       "</table>\n",
       "</div>"
      ],
      "text/plain": [
       "      Page  Time\n",
       "0   Page A  0.21\n",
       "1   Page B  2.53\n",
       "2   Page A  0.35\n",
       "3   Page B  0.71\n",
       "4   Page A  0.67\n",
       "5   Page B  0.85\n",
       "6   Page A  2.11\n",
       "7   Page B  2.46\n",
       "8   Page A  1.32\n",
       "9   Page B  1.49\n",
       "10  Page A  0.68\n",
       "11  Page B  0.75\n",
       "12  Page A  3.21\n",
       "13  Page B  3.33\n",
       "14  Page A  1.47\n",
       "15  Page B  1.87\n",
       "16  Page A  0.95\n",
       "17  Page B  1.26\n",
       "18  Page A  0.45\n",
       "19  Page B  0.48\n",
       "20  Page A  1.18\n",
       "21  Page B  1.47\n",
       "22  Page A  3.42\n",
       "23  Page B  3.57\n",
       "24  Page A  1.97\n",
       "25  Page B  2.23\n",
       "26  Page A  0.39\n",
       "27  Page B  0.43\n",
       "28  Page A  0.65\n",
       "29  Page B  0.87\n",
       "30  Page A  1.73\n",
       "31  Page A  0.74\n",
       "32  Page A  0.86\n",
       "33  Page A  1.18\n",
       "34  Page A  2.06\n",
       "35  Page A  0.93"
      ]
     },
     "execution_count": 78,
     "metadata": {},
     "output_type": "execute_result"
    }
   ],
   "source": [
    "df = pd.DataFrame(\n",
    "    {'Page':['Page A', 'Page B', 'Page A', 'Page B', 'Page A', 'Page B',\n",
    "             'Page A', 'Page B', 'Page A', 'Page B', 'Page A', 'Page B',\n",
    "             'Page A', 'Page B', 'Page A', 'Page B', 'Page A', 'Page B',\n",
    "             'Page A', 'Page B', 'Page A', 'Page B', 'Page A', 'Page B',\n",
    "             'Page A', 'Page B', 'Page A', 'Page B', 'Page A', 'Page B',\n",
    "             'Page A', 'Page A', 'Page A', 'Page A', 'Page A', 'Page A'],\n",
    "    'Time':[0.21, 2.53, 0.35, 0.71, 0.67, 0.85, 2.11, 2.46, 1.32, 1.49, 0.68,\n",
    "            0.75, 3.21, 3.33, 1.47, 1.87, 0.95, 1.26, 0.45, 0.48, 1.18, 1.47,\n",
    "            3.42, 3.57, 1.97, 2.23, 0.39, 0.43, 0.65, 0.87, 1.73, 0.74, 0.86,\n",
    "            1.18, 2.06, 0.93]})\n",
    "df"
   ]
  },
  {
   "cell_type": "code",
   "execution_count": 79,
   "metadata": {},
   "outputs": [
    {
     "name": "stdout",
     "output_type": "stream",
     "text": [
      "formula p-value for single sided test: 0.1408\n"
     ]
    }
   ],
   "source": [
    "res = sp.ttest_ind(df[df.Page == 'Page A'].Time,\n",
    "                   df[df.Page == 'Page B'].Time,\n",
    "                   equal_var = False)\n",
    "print(f'formula p-value for single sided test: {res.pvalue / 2:.4f}')"
   ]
  },
  {
   "cell_type": "markdown",
   "metadata": {},
   "source": [
    "## 6.5 Multiple testing"
   ]
  },
  {
   "cell_type": "markdown",
   "metadata": {},
   "source": [
    "## 6.6 Degrees of freedom"
   ]
  },
  {
   "cell_type": "markdown",
   "metadata": {},
   "source": [
    "## 6.7 ANOVA"
   ]
  },
  {
   "cell_type": "code",
   "execution_count": 80,
   "metadata": {},
   "outputs": [
    {
     "data": {
      "text/html": [
       "<div>\n",
       "<style scoped>\n",
       "    .dataframe tbody tr th:only-of-type {\n",
       "        vertical-align: middle;\n",
       "    }\n",
       "\n",
       "    .dataframe tbody tr th {\n",
       "        vertical-align: top;\n",
       "    }\n",
       "\n",
       "    .dataframe thead th {\n",
       "        text-align: right;\n",
       "    }\n",
       "</style>\n",
       "<table border=\"1\" class=\"dataframe\">\n",
       "  <thead>\n",
       "    <tr style=\"text-align: right;\">\n",
       "      <th></th>\n",
       "      <th>Page</th>\n",
       "      <th>Time</th>\n",
       "    </tr>\n",
       "  </thead>\n",
       "  <tbody>\n",
       "    <tr>\n",
       "      <th>0</th>\n",
       "      <td>Page 1</td>\n",
       "      <td>164</td>\n",
       "    </tr>\n",
       "    <tr>\n",
       "      <th>1</th>\n",
       "      <td>Page 2</td>\n",
       "      <td>178</td>\n",
       "    </tr>\n",
       "    <tr>\n",
       "      <th>2</th>\n",
       "      <td>Page 3</td>\n",
       "      <td>175</td>\n",
       "    </tr>\n",
       "    <tr>\n",
       "      <th>3</th>\n",
       "      <td>Page 4</td>\n",
       "      <td>155</td>\n",
       "    </tr>\n",
       "    <tr>\n",
       "      <th>4</th>\n",
       "      <td>Page 1</td>\n",
       "      <td>172</td>\n",
       "    </tr>\n",
       "    <tr>\n",
       "      <th>5</th>\n",
       "      <td>Page 2</td>\n",
       "      <td>191</td>\n",
       "    </tr>\n",
       "    <tr>\n",
       "      <th>6</th>\n",
       "      <td>Page 3</td>\n",
       "      <td>193</td>\n",
       "    </tr>\n",
       "    <tr>\n",
       "      <th>7</th>\n",
       "      <td>Page 4</td>\n",
       "      <td>166</td>\n",
       "    </tr>\n",
       "    <tr>\n",
       "      <th>8</th>\n",
       "      <td>Page 1</td>\n",
       "      <td>177</td>\n",
       "    </tr>\n",
       "    <tr>\n",
       "      <th>9</th>\n",
       "      <td>Page 2</td>\n",
       "      <td>182</td>\n",
       "    </tr>\n",
       "    <tr>\n",
       "      <th>10</th>\n",
       "      <td>Page 3</td>\n",
       "      <td>171</td>\n",
       "    </tr>\n",
       "    <tr>\n",
       "      <th>11</th>\n",
       "      <td>Page 4</td>\n",
       "      <td>164</td>\n",
       "    </tr>\n",
       "    <tr>\n",
       "      <th>12</th>\n",
       "      <td>Page 1</td>\n",
       "      <td>156</td>\n",
       "    </tr>\n",
       "    <tr>\n",
       "      <th>13</th>\n",
       "      <td>Page 2</td>\n",
       "      <td>185</td>\n",
       "    </tr>\n",
       "    <tr>\n",
       "      <th>14</th>\n",
       "      <td>Page 3</td>\n",
       "      <td>163</td>\n",
       "    </tr>\n",
       "    <tr>\n",
       "      <th>15</th>\n",
       "      <td>Page 4</td>\n",
       "      <td>170</td>\n",
       "    </tr>\n",
       "    <tr>\n",
       "      <th>16</th>\n",
       "      <td>Page 1</td>\n",
       "      <td>195</td>\n",
       "    </tr>\n",
       "    <tr>\n",
       "      <th>17</th>\n",
       "      <td>Page 2</td>\n",
       "      <td>177</td>\n",
       "    </tr>\n",
       "    <tr>\n",
       "      <th>18</th>\n",
       "      <td>Page 3</td>\n",
       "      <td>176</td>\n",
       "    </tr>\n",
       "    <tr>\n",
       "      <th>19</th>\n",
       "      <td>Page 4</td>\n",
       "      <td>168</td>\n",
       "    </tr>\n",
       "  </tbody>\n",
       "</table>\n",
       "</div>"
      ],
      "text/plain": [
       "      Page  Time\n",
       "0   Page 1   164\n",
       "1   Page 2   178\n",
       "2   Page 3   175\n",
       "3   Page 4   155\n",
       "4   Page 1   172\n",
       "5   Page 2   191\n",
       "6   Page 3   193\n",
       "7   Page 4   166\n",
       "8   Page 1   177\n",
       "9   Page 2   182\n",
       "10  Page 3   171\n",
       "11  Page 4   164\n",
       "12  Page 1   156\n",
       "13  Page 2   185\n",
       "14  Page 3   163\n",
       "15  Page 4   170\n",
       "16  Page 1   195\n",
       "17  Page 2   177\n",
       "18  Page 3   176\n",
       "19  Page 4   168"
      ]
     },
     "execution_count": 80,
     "metadata": {},
     "output_type": "execute_result"
    }
   ],
   "source": [
    "df = pd.DataFrame({'Page':['Page 1','Page 2','Page 3','Page 4'] * 5,\n",
    "                   'Time':[164,178,175,155,172,191,193,166,177,182,171,164,156,185,163,170,195,177,176,168]})\n",
    "df"
   ]
  },
  {
   "cell_type": "code",
   "execution_count": 81,
   "metadata": {},
   "outputs": [
    {
     "name": "stdout",
     "output_type": "stream",
     "text": [
      "Observed means: [172.8 182.6 175.6 164.6]\n",
      "Variance: 55.43\n"
     ]
    }
   ],
   "source": [
    "observed_variance = df.groupby('Page').mean().var()[0]\n",
    "print(f\"Observed means: {df.groupby('Page').mean().values.ravel()}\")\n",
    "print(f'Variance: {observed_variance:.2f}')"
   ]
  },
  {
   "cell_type": "code",
   "execution_count": 82,
   "metadata": {},
   "outputs": [
    {
     "data": {
      "application/vnd.jupyter.widget-view+json": {
       "model_id": "a709720223ea442aa8152b86d6938da3",
       "version_major": 2,
       "version_minor": 0
      },
      "text/plain": [
       "HBox(children=(FloatProgress(value=0.0, max=3000.0), HTML(value='')))"
      ]
     },
     "metadata": {},
     "output_type": "display_data"
    },
    {
     "name": "stdout",
     "output_type": "stream",
     "text": [
      "\n",
      "Pr(Prob): 0.07\n"
     ]
    }
   ],
   "source": [
    "def perm_test(df):\n",
    "    df = df.copy()\n",
    "    df['Time'] = np.random.permutation(df['Time'].values)\n",
    "    return df.groupby('Page').mean().var()[0]\n",
    "\n",
    "perm_variance = [perm_test(df) for _ in trange(3000)]\n",
    "print(f'Pr(Prob): {np.mean(np.array(perm_variance) > observed_variance):.2f}')"
   ]
  },
  {
   "cell_type": "code",
   "execution_count": 83,
   "metadata": {},
   "outputs": [
    {
     "data": {
      "image/png": "[encoded data removed]",
      "text/plain": [
       "<Figure size 360x360 with 1 Axes>"
      ]
     },
     "metadata": {
      "needs_background": "light"
     },
     "output_type": "display_data"
    }
   ],
   "source": [
    "fig, ax = plt.subplots(figsize=(5, 5))\n",
    "ax.hist(perm_variance, bins=11, rwidth=0.9)\n",
    "ax.axvline(x = observed_variance, color='black', lw=2)\n",
    "ax.set_xlabel('Variance')\n",
    "ax.set_ylabel('Frequency')\n",
    "plt.tight_layout()\n",
    "plt.show()"
   ]
  },
  {
   "cell_type": "markdown",
   "metadata": {},
   "source": [
    "### F-statistics"
   ]
  },
  {
   "cell_type": "code",
   "execution_count": 84,
   "metadata": {},
   "outputs": [
    {
     "data": {
      "text/html": [
       "<div>\n",
       "<style scoped>\n",
       "    .dataframe tbody tr th:only-of-type {\n",
       "        vertical-align: middle;\n",
       "    }\n",
       "\n",
       "    .dataframe tbody tr th {\n",
       "        vertical-align: top;\n",
       "    }\n",
       "\n",
       "    .dataframe thead th {\n",
       "        text-align: right;\n",
       "    }\n",
       "</style>\n",
       "<table border=\"1\" class=\"dataframe\">\n",
       "  <thead>\n",
       "    <tr style=\"text-align: right;\">\n",
       "      <th></th>\n",
       "      <th>df</th>\n",
       "      <th>sum_sq</th>\n",
       "      <th>mean_sq</th>\n",
       "      <th>F</th>\n",
       "      <th>PR(&gt;F)</th>\n",
       "    </tr>\n",
       "  </thead>\n",
       "  <tbody>\n",
       "    <tr>\n",
       "      <th>Page</th>\n",
       "      <td>3.0</td>\n",
       "      <td>831.4</td>\n",
       "      <td>277.133333</td>\n",
       "      <td>2.739825</td>\n",
       "      <td>0.077586</td>\n",
       "    </tr>\n",
       "    <tr>\n",
       "      <th>Residual</th>\n",
       "      <td>16.0</td>\n",
       "      <td>1618.4</td>\n",
       "      <td>101.150000</td>\n",
       "      <td>NaN</td>\n",
       "      <td>NaN</td>\n",
       "    </tr>\n",
       "  </tbody>\n",
       "</table>\n",
       "</div>"
      ],
      "text/plain": [
       "            df  sum_sq     mean_sq         F    PR(>F)\n",
       "Page       3.0   831.4  277.133333  2.739825  0.077586\n",
       "Residual  16.0  1618.4  101.150000       NaN       NaN"
      ]
     },
     "execution_count": 84,
     "metadata": {},
     "output_type": "execute_result"
    }
   ],
   "source": [
    "model = smf.ols('Time ~ Page', data = df).fit()\n",
    "aov_table = sm.stats.anova_lm(model)\n",
    "aov_table"
   ]
  },
  {
   "cell_type": "markdown",
   "metadata": {},
   "source": [
    "### Two-way ANOVA"
   ]
  },
  {
   "cell_type": "markdown",
   "metadata": {},
   "source": [
    "## 6.8 Chi-square test"
   ]
  },
  {
   "cell_type": "code",
   "execution_count": 85,
   "metadata": {},
   "outputs": [
    {
     "data": {
      "text/html": [
       "<div>\n",
       "<style scoped>\n",
       "    .dataframe tbody tr th:only-of-type {\n",
       "        vertical-align: middle;\n",
       "    }\n",
       "\n",
       "    .dataframe tbody tr th {\n",
       "        vertical-align: top;\n",
       "    }\n",
       "\n",
       "    .dataframe thead th {\n",
       "        text-align: right;\n",
       "    }\n",
       "</style>\n",
       "<table border=\"1\" class=\"dataframe\">\n",
       "  <thead>\n",
       "    <tr style=\"text-align: right;\">\n",
       "      <th></th>\n",
       "      <th>Headline</th>\n",
       "      <th>Click</th>\n",
       "      <th>Rate</th>\n",
       "    </tr>\n",
       "  </thead>\n",
       "  <tbody>\n",
       "    <tr>\n",
       "      <th>0</th>\n",
       "      <td>A</td>\n",
       "      <td>Click</td>\n",
       "      <td>14</td>\n",
       "    </tr>\n",
       "    <tr>\n",
       "      <th>1</th>\n",
       "      <td>A</td>\n",
       "      <td>No-click</td>\n",
       "      <td>986</td>\n",
       "    </tr>\n",
       "    <tr>\n",
       "      <th>2</th>\n",
       "      <td>B</td>\n",
       "      <td>Click</td>\n",
       "      <td>8</td>\n",
       "    </tr>\n",
       "    <tr>\n",
       "      <th>3</th>\n",
       "      <td>B</td>\n",
       "      <td>No-click</td>\n",
       "      <td>992</td>\n",
       "    </tr>\n",
       "    <tr>\n",
       "      <th>4</th>\n",
       "      <td>C</td>\n",
       "      <td>Click</td>\n",
       "      <td>12</td>\n",
       "    </tr>\n",
       "    <tr>\n",
       "      <th>5</th>\n",
       "      <td>C</td>\n",
       "      <td>No-click</td>\n",
       "      <td>988</td>\n",
       "    </tr>\n",
       "  </tbody>\n",
       "</table>\n",
       "</div>"
      ],
      "text/plain": [
       "  Headline     Click  Rate\n",
       "0        A     Click    14\n",
       "1        A  No-click   986\n",
       "2        B     Click     8\n",
       "3        B  No-click   992\n",
       "4        C     Click    12\n",
       "5        C  No-click   988"
      ]
     },
     "execution_count": 85,
     "metadata": {},
     "output_type": "execute_result"
    }
   ],
   "source": [
    "df = pd.DataFrame({'Headline':['A','A','B','B','C','C'],\n",
    "                   'Click':['Click','No-click','Click','No-click','Click','No-click'],\n",
    "                   'Rate':[14,986,8,992,12,988]})\n",
    "df"
   ]
  },
  {
   "cell_type": "code",
   "execution_count": 86,
   "metadata": {},
   "outputs": [
    {
     "data": {
      "text/html": [
       "<div>\n",
       "<style scoped>\n",
       "    .dataframe tbody tr th:only-of-type {\n",
       "        vertical-align: middle;\n",
       "    }\n",
       "\n",
       "    .dataframe tbody tr th {\n",
       "        vertical-align: top;\n",
       "    }\n",
       "\n",
       "    .dataframe thead th {\n",
       "        text-align: right;\n",
       "    }\n",
       "</style>\n",
       "<table border=\"1\" class=\"dataframe\">\n",
       "  <thead>\n",
       "    <tr style=\"text-align: right;\">\n",
       "      <th>Headline</th>\n",
       "      <th>A</th>\n",
       "      <th>B</th>\n",
       "      <th>C</th>\n",
       "    </tr>\n",
       "    <tr>\n",
       "      <th>Click</th>\n",
       "      <th></th>\n",
       "      <th></th>\n",
       "      <th></th>\n",
       "    </tr>\n",
       "  </thead>\n",
       "  <tbody>\n",
       "    <tr>\n",
       "      <th>Click</th>\n",
       "      <td>14</td>\n",
       "      <td>8</td>\n",
       "      <td>12</td>\n",
       "    </tr>\n",
       "    <tr>\n",
       "      <th>No-click</th>\n",
       "      <td>986</td>\n",
       "      <td>992</td>\n",
       "      <td>988</td>\n",
       "    </tr>\n",
       "  </tbody>\n",
       "</table>\n",
       "</div>"
      ],
      "text/plain": [
       "Headline    A    B    C\n",
       "Click                  \n",
       "Click      14    8   12\n",
       "No-click  986  992  988"
      ]
     },
     "execution_count": 86,
     "metadata": {},
     "output_type": "execute_result"
    }
   ],
   "source": [
    "df_pivot = df.pivot(index = 'Click', columns = 'Headline', values = 'Rate')\n",
    "df_pivot"
   ]
  },
  {
   "cell_type": "code",
   "execution_count": 87,
   "metadata": {},
   "outputs": [
    {
     "data": {
      "application/vnd.jupyter.widget-view+json": {
       "model_id": "b27f8bda856b4bfaabfa6e8e52e0036a",
       "version_major": 2,
       "version_minor": 0
      },
      "text/plain": [
       "HBox(children=(FloatProgress(value=0.0, max=2000.0), HTML(value='')))"
      ]
     },
     "metadata": {},
     "output_type": "display_data"
    },
    {
     "name": "stdout",
     "output_type": "stream",
     "text": [
      "\n",
      "Observed chi2: 1.67\n",
      "Resampled p-value: 0.51\n"
     ]
    }
   ],
   "source": [
    "box = [1] * (14+8+12)\n",
    "box.extend([0] * (986+992+988))\n",
    "random.shuffle(box)\n",
    "\n",
    "def chi2(observed, expected):\n",
    "    pearson_residuals = []\n",
    "    for row, expect in zip(observed, expected):\n",
    "        pearson_residuals.append([(observe - expect) ** 2 / expect for observe in row])\n",
    "    return np.sum(pearson_residuals)\n",
    "\n",
    "expected_clicks = (14+8+12) / 3\n",
    "expected_noclicks = 1000 - expected_clicks\n",
    "expected = [expected_clicks, expected_noclicks]\n",
    "chi2observed = chi2(df_pivot.values, expected)\n",
    "\n",
    "def perm_fun(box):\n",
    "    sample_clicks = [sum(random.sample(box, 1000)),\n",
    "                     sum(random.sample(box, 1000)),\n",
    "                     sum(random.sample(box, 1000))]\n",
    "    sample_noclicks = [1000 - n for n in sample_clicks]\n",
    "    return chi2([sample_clicks, sample_noclicks], expected)\n",
    "\n",
    "perm_chi2 = [perm_fun(box) for _ in trange(2000)]\n",
    "\n",
    "resampled_p_value = sum(perm_chi2 > chi2observed) / len(perm_chi2)\n",
    "\n",
    "print(f'Observed chi2: {chi2observed:.2f}')\n",
    "print(f'Resampled p-value: {resampled_p_value:.2f}')"
   ]
  },
  {
   "cell_type": "code",
   "execution_count": 88,
   "metadata": {},
   "outputs": [
    {
     "name": "stdout",
     "output_type": "stream",
     "text": [
      "Observed chi2: 1.67\n",
      "p-value: 0.43\n"
     ]
    }
   ],
   "source": [
    "chisq, p_value, df, expected = sp.chi2_contingency(df_pivot)\n",
    "print(f'Observed chi2: {chi2observed:.2f}')\n",
    "print(f'p-value: {p_value:.2f}')"
   ]
  },
  {
   "cell_type": "markdown",
   "metadata": {},
   "source": [
    "## 6.9 Multi-arm bandit algorithm"
   ]
  },
  {
   "cell_type": "markdown",
   "metadata": {},
   "source": [
    "## 6.10 Power and sample size"
   ]
  },
  {
   "cell_type": "code",
   "execution_count": 89,
   "metadata": {},
   "outputs": [
    {
     "name": "stdout",
     "output_type": "stream",
     "text": [
      "Sample Size: 116602.39\n"
     ]
    }
   ],
   "source": [
    "effect_size = sm.stats.proportion_effectsize(0.0121, 0.011)\n",
    "result = sm.stats.TTestIndPower().solve_power(effect_size = effect_size,\n",
    "                                              alpha = 0.05,\n",
    "                                              power = 0.8,\n",
    "                                              alternative = 'larger')\n",
    "print(f'Sample Size: {result:.2f}')"
   ]
  },
  {
   "cell_type": "markdown",
   "metadata": {},
   "source": [
    "## 6.11 ExpAn - for experiment analysis"
   ]
  },
  {
   "cell_type": "markdown",
   "metadata": {},
   "source": [
    "### Generate data"
   ]
  },
  {
   "cell_type": "code",
   "execution_count": 90,
   "metadata": {},
   "outputs": [
    {
     "name": "stdout",
     "output_type": "stream",
     "text": [
      "ExpAn core init: v1.4.0\n"
     ]
    }
   ],
   "source": [
    "from expan.core.util import generate_random_data"
   ]
  },
  {
   "cell_type": "code",
   "execution_count": 91,
   "metadata": {},
   "outputs": [],
   "source": [
    "data, metadata = generate_random_data()"
   ]
  },
  {
   "cell_type": "code",
   "execution_count": 92,
   "metadata": {},
   "outputs": [
    {
     "data": {
      "text/html": [
       "<div>\n",
       "<style scoped>\n",
       "    .dataframe tbody tr th:only-of-type {\n",
       "        vertical-align: middle;\n",
       "    }\n",
       "\n",
       "    .dataframe tbody tr th {\n",
       "        vertical-align: top;\n",
       "    }\n",
       "\n",
       "    .dataframe thead th {\n",
       "        text-align: right;\n",
       "    }\n",
       "</style>\n",
       "<table border=\"1\" class=\"dataframe\">\n",
       "  <thead>\n",
       "    <tr style=\"text-align: right;\">\n",
       "      <th></th>\n",
       "      <th>entity</th>\n",
       "      <th>variant</th>\n",
       "      <th>normal_same</th>\n",
       "      <th>normal_shifted</th>\n",
       "      <th>feature</th>\n",
       "      <th>normal_shifted_by_feature</th>\n",
       "      <th>treatment_start_time</th>\n",
       "      <th>normal_unequal_variance</th>\n",
       "      <th>date</th>\n",
       "    </tr>\n",
       "  </thead>\n",
       "  <tbody>\n",
       "    <tr>\n",
       "      <th>0</th>\n",
       "      <td>0</td>\n",
       "      <td>A</td>\n",
       "      <td>-1.487862</td>\n",
       "      <td>-0.616148</td>\n",
       "      <td>feature that only has one data point</td>\n",
       "      <td>-1.088533</td>\n",
       "      <td>7</td>\n",
       "      <td>0.003991</td>\n",
       "      <td>2015-01-01</td>\n",
       "    </tr>\n",
       "    <tr>\n",
       "      <th>1</th>\n",
       "      <td>1</td>\n",
       "      <td>B</td>\n",
       "      <td>-1.125186</td>\n",
       "      <td>1.783682</td>\n",
       "      <td>has</td>\n",
       "      <td>1.167307</td>\n",
       "      <td>3</td>\n",
       "      <td>-3.565511</td>\n",
       "      <td>2015-01-01</td>\n",
       "    </tr>\n",
       "    <tr>\n",
       "      <th>2</th>\n",
       "      <td>2</td>\n",
       "      <td>B</td>\n",
       "      <td>0.388819</td>\n",
       "      <td>1.007539</td>\n",
       "      <td>non</td>\n",
       "      <td>-1.055948</td>\n",
       "      <td>1</td>\n",
       "      <td>6.704536</td>\n",
       "      <td>2015-01-01</td>\n",
       "    </tr>\n",
       "    <tr>\n",
       "      <th>3</th>\n",
       "      <td>3</td>\n",
       "      <td>A</td>\n",
       "      <td>-1.173873</td>\n",
       "      <td>-0.889252</td>\n",
       "      <td>non</td>\n",
       "      <td>-0.152459</td>\n",
       "      <td>4</td>\n",
       "      <td>1.209668</td>\n",
       "      <td>2015-01-01</td>\n",
       "    </tr>\n",
       "    <tr>\n",
       "      <th>4</th>\n",
       "      <td>4</td>\n",
       "      <td>A</td>\n",
       "      <td>1.112634</td>\n",
       "      <td>0.434377</td>\n",
       "      <td>has</td>\n",
       "      <td>0.175988</td>\n",
       "      <td>4</td>\n",
       "      <td>0.148207</td>\n",
       "      <td>2015-01-01</td>\n",
       "    </tr>\n",
       "    <tr>\n",
       "      <th>...</th>\n",
       "      <td>...</td>\n",
       "      <td>...</td>\n",
       "      <td>...</td>\n",
       "      <td>...</td>\n",
       "      <td>...</td>\n",
       "      <td>...</td>\n",
       "      <td>...</td>\n",
       "      <td>...</td>\n",
       "      <td>...</td>\n",
       "    </tr>\n",
       "    <tr>\n",
       "      <th>9995</th>\n",
       "      <td>9995</td>\n",
       "      <td>B</td>\n",
       "      <td>-0.028124</td>\n",
       "      <td>0.706185</td>\n",
       "      <td>non</td>\n",
       "      <td>1.270654</td>\n",
       "      <td>5</td>\n",
       "      <td>-17.878939</td>\n",
       "      <td>2016-02-21</td>\n",
       "    </tr>\n",
       "    <tr>\n",
       "      <th>9996</th>\n",
       "      <td>9996</td>\n",
       "      <td>B</td>\n",
       "      <td>0.792395</td>\n",
       "      <td>1.829488</td>\n",
       "      <td>non</td>\n",
       "      <td>-1.001675</td>\n",
       "      <td>4</td>\n",
       "      <td>6.321226</td>\n",
       "      <td>2016-02-21</td>\n",
       "    </tr>\n",
       "    <tr>\n",
       "      <th>9997</th>\n",
       "      <td>9997</td>\n",
       "      <td>B</td>\n",
       "      <td>0.994518</td>\n",
       "      <td>-1.917363</td>\n",
       "      <td>non</td>\n",
       "      <td>-0.280280</td>\n",
       "      <td>4</td>\n",
       "      <td>-0.474425</td>\n",
       "      <td>2016-02-21</td>\n",
       "    </tr>\n",
       "    <tr>\n",
       "      <th>9998</th>\n",
       "      <td>9998</td>\n",
       "      <td>A</td>\n",
       "      <td>-0.697330</td>\n",
       "      <td>0.359386</td>\n",
       "      <td>has</td>\n",
       "      <td>0.800866</td>\n",
       "      <td>7</td>\n",
       "      <td>-0.678204</td>\n",
       "      <td>2016-02-21</td>\n",
       "    </tr>\n",
       "    <tr>\n",
       "      <th>9999</th>\n",
       "      <td>9999</td>\n",
       "      <td>A</td>\n",
       "      <td>-0.300835</td>\n",
       "      <td>-0.477530</td>\n",
       "      <td>non</td>\n",
       "      <td>0.300965</td>\n",
       "      <td>6</td>\n",
       "      <td>0.823278</td>\n",
       "      <td>2016-02-21</td>\n",
       "    </tr>\n",
       "  </tbody>\n",
       "</table>\n",
       "<p>10000 rows × 9 columns</p>\n",
       "</div>"
      ],
      "text/plain": [
       "      entity variant  normal_same  normal_shifted  \\\n",
       "0          0       A    -1.487862       -0.616148   \n",
       "1          1       B    -1.125186        1.783682   \n",
       "2          2       B     0.388819        1.007539   \n",
       "3          3       A    -1.173873       -0.889252   \n",
       "4          4       A     1.112634        0.434377   \n",
       "...      ...     ...          ...             ...   \n",
       "9995    9995       B    -0.028124        0.706185   \n",
       "9996    9996       B     0.792395        1.829488   \n",
       "9997    9997       B     0.994518       -1.917363   \n",
       "9998    9998       A    -0.697330        0.359386   \n",
       "9999    9999       A    -0.300835       -0.477530   \n",
       "\n",
       "                                   feature  normal_shifted_by_feature  \\\n",
       "0     feature that only has one data point                  -1.088533   \n",
       "1                                      has                   1.167307   \n",
       "2                                      non                  -1.055948   \n",
       "3                                      non                  -0.152459   \n",
       "4                                      has                   0.175988   \n",
       "...                                    ...                        ...   \n",
       "9995                                   non                   1.270654   \n",
       "9996                                   non                  -1.001675   \n",
       "9997                                   non                  -0.280280   \n",
       "9998                                   has                   0.800866   \n",
       "9999                                   non                   0.300965   \n",
       "\n",
       "      treatment_start_time  normal_unequal_variance        date  \n",
       "0                        7                 0.003991  2015-01-01  \n",
       "1                        3                -3.565511  2015-01-01  \n",
       "2                        1                 6.704536  2015-01-01  \n",
       "3                        4                 1.209668  2015-01-01  \n",
       "4                        4                 0.148207  2015-01-01  \n",
       "...                    ...                      ...         ...  \n",
       "9995                     5               -17.878939  2016-02-21  \n",
       "9996                     4                 6.321226  2016-02-21  \n",
       "9997                     4                -0.474425  2016-02-21  \n",
       "9998                     7                -0.678204  2016-02-21  \n",
       "9999                     6                 0.823278  2016-02-21  \n",
       "\n",
       "[10000 rows x 9 columns]"
      ]
     },
     "execution_count": 92,
     "metadata": {},
     "output_type": "execute_result"
    }
   ],
   "source": [
    "data"
   ]
  },
  {
   "cell_type": "code",
   "execution_count": 93,
   "metadata": {},
   "outputs": [
    {
     "data": {
      "text/plain": [
       "{'primary_KPI': 'normal_shifted',\n",
       " 'source': 'simulated',\n",
       " 'experiment': 'random_data_generation'}"
      ]
     },
     "execution_count": 93,
     "metadata": {},
     "output_type": "execute_result"
    }
   ],
   "source": [
    "metadata"
   ]
  },
  {
   "cell_type": "markdown",
   "metadata": {},
   "source": [
    "### Create experiment"
   ]
  },
  {
   "cell_type": "code",
   "execution_count": 94,
   "metadata": {},
   "outputs": [],
   "source": [
    "from expan.core.experiment import Experiment"
   ]
  },
  {
   "cell_type": "code",
   "execution_count": 95,
   "metadata": {},
   "outputs": [],
   "source": [
    "exp = Experiment(metadata = metadata)"
   ]
  },
  {
   "cell_type": "markdown",
   "metadata": {},
   "source": [
    "### Create statistical test"
   ]
  },
  {
   "cell_type": "code",
   "execution_count": 96,
   "metadata": {},
   "outputs": [],
   "source": [
    "from expan.core.statistical_test import KPI, Variants, StatisticalTest"
   ]
  },
  {
   "cell_type": "code",
   "execution_count": 97,
   "metadata": {},
   "outputs": [],
   "source": [
    "kpi = KPI('normal_same')\n",
    "variants = Variants(variant_column_name = 'variant', control_name = 'B', treatment_name = 'A')\n",
    "test = StatisticalTest(data = data, kpi = kpi, features = [], variants = variants)"
   ]
  },
  {
   "cell_type": "markdown",
   "metadata": {},
   "source": [
    "### Analysis"
   ]
  },
  {
   "cell_type": "code",
   "execution_count": 98,
   "metadata": {},
   "outputs": [
    {
     "name": "stderr",
     "output_type": "stream",
     "text": [
      "INFO:expan.core.experiment:One analysis with kpi '{\n",
      "    \"name\": \"normal_same\"\n",
      "}', control variant 'B', treatment variant 'A' and features [[]] has just started\n",
      "INFO:expan.core.experiment:Control group size: 3892\n",
      "INFO:expan.core.experiment:Treatment group size: 6108\n",
      "INFO:expan.core.statistics:The distribution of two samples is assumed normal. Performing the sample difference distribution calculation.\n",
      "INFO:expan.core.statistics:Delta calculation finished!\n"
     ]
    },
    {
     "data": {
      "text/plain": [
       "{\n",
       "    \"result\": {\n",
       "        \"confidence_interval\": [\n",
       "            {\n",
       "                \"percentile\": 2.5,\n",
       "                \"value\": -0.007138761863314601\n",
       "            },\n",
       "            {\n",
       "                \"percentile\": 97.5,\n",
       "                \"value\": 0.0732438406769919\n",
       "            }\n",
       "        ],\n",
       "        \"control_statistics\": {\n",
       "            \"mean\": -0.007833095215783122,\n",
       "            \"sample_size\": 3892,\n",
       "            \"variance\": 0.991195545472199\n",
       "        },\n",
       "        \"delta\": 0.03305253940683865,\n",
       "        \"p\": 0.10698672122297047,\n",
       "        \"statistical_power\": 0.36400577293301273,\n",
       "        \"treatment_statistics\": {\n",
       "            \"mean\": 0.025219444191055533,\n",
       "            \"sample_size\": 6108,\n",
       "            \"variance\": 1.0046096975922052\n",
       "        }\n",
       "    },\n",
       "    \"test\": {\n",
       "        \"features\": [],\n",
       "        \"kpi\": {\n",
       "            \"name\": \"normal_same\"\n",
       "        },\n",
       "        \"variants\": {\n",
       "            \"control_name\": \"B\",\n",
       "            \"treatment_name\": \"A\",\n",
       "            \"variant_column_name\": \"variant\"\n",
       "        }\n",
       "    }\n",
       "}"
      ]
     },
     "execution_count": 98,
     "metadata": {},
     "output_type": "execute_result"
    }
   ],
   "source": [
    "result = exp.analyze_statistical_test(test)\n",
    "result"
   ]
  },
  {
   "cell_type": "code",
   "execution_count": 99,
   "metadata": {},
   "outputs": [
    {
     "data": {
      "text/html": [
       "<div>\n",
       "<style scoped>\n",
       "    .dataframe tbody tr th:only-of-type {\n",
       "        vertical-align: middle;\n",
       "    }\n",
       "\n",
       "    .dataframe tbody tr th {\n",
       "        vertical-align: top;\n",
       "    }\n",
       "\n",
       "    .dataframe thead th {\n",
       "        text-align: right;\n",
       "    }\n",
       "</style>\n",
       "<table border=\"1\" class=\"dataframe\">\n",
       "  <thead>\n",
       "    <tr style=\"text-align: right;\">\n",
       "      <th></th>\n",
       "      <th>result</th>\n",
       "      <th>test</th>\n",
       "    </tr>\n",
       "  </thead>\n",
       "  <tbody>\n",
       "    <tr>\n",
       "      <th>confidence_interval</th>\n",
       "      <td>[{'percentile': 2.5, 'value': -0.0071387618633...</td>\n",
       "      <td>NaN</td>\n",
       "    </tr>\n",
       "    <tr>\n",
       "      <th>control_statistics</th>\n",
       "      <td>{'mean': -0.007833095215783, 'sample_size': 38...</td>\n",
       "      <td>NaN</td>\n",
       "    </tr>\n",
       "    <tr>\n",
       "      <th>delta</th>\n",
       "      <td>0.0330525</td>\n",
       "      <td>NaN</td>\n",
       "    </tr>\n",
       "    <tr>\n",
       "      <th>p</th>\n",
       "      <td>0.106987</td>\n",
       "      <td>NaN</td>\n",
       "    </tr>\n",
       "    <tr>\n",
       "      <th>statistical_power</th>\n",
       "      <td>0.364006</td>\n",
       "      <td>NaN</td>\n",
       "    </tr>\n",
       "    <tr>\n",
       "      <th>treatment_statistics</th>\n",
       "      <td>{'mean': 0.025219444191055002, 'sample_size': ...</td>\n",
       "      <td>NaN</td>\n",
       "    </tr>\n",
       "    <tr>\n",
       "      <th>features</th>\n",
       "      <td>NaN</td>\n",
       "      <td>[]</td>\n",
       "    </tr>\n",
       "    <tr>\n",
       "      <th>kpi</th>\n",
       "      <td>NaN</td>\n",
       "      <td>{'name': 'normal_same'}</td>\n",
       "    </tr>\n",
       "    <tr>\n",
       "      <th>variants</th>\n",
       "      <td>NaN</td>\n",
       "      <td>{'control_name': 'B', 'treatment_name': 'A', '...</td>\n",
       "    </tr>\n",
       "  </tbody>\n",
       "</table>\n",
       "</div>"
      ],
      "text/plain": [
       "                                                                 result  \\\n",
       "confidence_interval   [{'percentile': 2.5, 'value': -0.0071387618633...   \n",
       "control_statistics    {'mean': -0.007833095215783, 'sample_size': 38...   \n",
       "delta                                                         0.0330525   \n",
       "p                                                              0.106987   \n",
       "statistical_power                                              0.364006   \n",
       "treatment_statistics  {'mean': 0.025219444191055002, 'sample_size': ...   \n",
       "features                                                            NaN   \n",
       "kpi                                                                 NaN   \n",
       "variants                                                            NaN   \n",
       "\n",
       "                                                                   test  \n",
       "confidence_interval                                                 NaN  \n",
       "control_statistics                                                  NaN  \n",
       "delta                                                               NaN  \n",
       "p                                                                   NaN  \n",
       "statistical_power                                                   NaN  \n",
       "treatment_statistics                                                NaN  \n",
       "features                                                             []  \n",
       "kpi                                             {'name': 'normal_same'}  \n",
       "variants              {'control_name': 'B', 'treatment_name': 'A', '...  "
      ]
     },
     "execution_count": 99,
     "metadata": {},
     "output_type": "execute_result"
    }
   ],
   "source": [
    "pd.read_json(result.toJson())"
   ]
  },
  {
   "cell_type": "markdown",
   "metadata": {},
   "source": [
    "### Permutation check"
   ]
  },
  {
   "cell_type": "code",
   "execution_count": 100,
   "metadata": {},
   "outputs": [
    {
     "data": {
      "application/vnd.jupyter.widget-view+json": {
       "model_id": "cca7f3116baf48a29c817ec5d65c3131",
       "version_major": 2,
       "version_minor": 0
      },
      "text/plain": [
       "HBox(children=(FloatProgress(value=0.0, max=5000.0), HTML(value='')))"
      ]
     },
     "metadata": {},
     "output_type": "display_data"
    },
    {
     "name": "stdout",
     "output_type": "stream",
     "text": [
      "\n"
     ]
    },
    {
     "data": {
      "image/png": "[encoded data removed]",
      "text/plain": [
       "<Figure size 360x360 with 1 Axes>"
      ]
     },
     "metadata": {
      "needs_background": "light"
     },
     "output_type": "display_data"
    },
    {
     "name": "stdout",
     "output_type": "stream",
     "text": [
      "one-side p-value: 0.0566\n"
     ]
    }
   ],
   "source": [
    "def perm_fun(x, nA, nB):\n",
    "    n = nA + nB\n",
    "    idx_B = set(random.sample(population = range(n), k = nB))\n",
    "    idx_A = set(range(n)) - idx_B\n",
    "    return x.loc[idx_A].mean() - x.loc[idx_B].mean()\n",
    "\n",
    "mean_B = data[data.variant == 'B'].normal_same.mean()\n",
    "mean_A = data[data.variant == 'A'].normal_same.mean()\n",
    "\n",
    "nA = data[data.variant == 'A'].shape[0]\n",
    "nB = data[data.variant == 'B'].shape[0]\n",
    "\n",
    "perm_diffs = [perm_fun(data.normal_same, nA, nB) for _ in trange(5000)]\n",
    "\n",
    "fig, ax = plt.subplots(figsize = (5,5))\n",
    "ax.hist(perm_diffs, bins = 11, rwidth = 0.9)\n",
    "ax.axvline(x = mean_A - mean_B)\n",
    "plt.show()\n",
    "print(f'one-side p-value: {np.mean(perm_diffs > mean_A - mean_B)}')"
   ]
  },
  {
   "cell_type": "markdown",
   "metadata": {},
   "source": [
    "### Subgroup analysis"
   ]
  },
  {
   "cell_type": "code",
   "execution_count": 101,
   "metadata": {},
   "outputs": [],
   "source": [
    "from expan.core.statistical_test import FeatureFilter "
   ]
  },
  {
   "cell_type": "code",
   "execution_count": 102,
   "metadata": {},
   "outputs": [],
   "source": [
    "feature = FeatureFilter('feature', 'has')\n",
    "test = StatisticalTest(data = data, kpi = kpi, features = [feature], variants = variants)"
   ]
  },
  {
   "cell_type": "code",
   "execution_count": 103,
   "metadata": {},
   "outputs": [
    {
     "name": "stderr",
     "output_type": "stream",
     "text": [
      "INFO:expan.core.experiment:One analysis with kpi '{\n",
      "    \"name\": \"normal_same\"\n",
      "}', control variant 'B', treatment variant 'A' and features [[('feature', 'has')]] has just started\n",
      "INFO:expan.core.experiment:Control group size: 1966\n",
      "INFO:expan.core.experiment:Treatment group size: 3067\n",
      "INFO:expan.core.statistics:The distribution of two samples is assumed normal. Performing the sample difference distribution calculation.\n",
      "INFO:expan.core.statistics:Delta calculation finished!\n"
     ]
    },
    {
     "data": {
      "text/plain": [
       "{\n",
       "    \"result\": {\n",
       "        \"confidence_interval\": [\n",
       "            {\n",
       "                \"percentile\": 2.5,\n",
       "                \"value\": 0.006671086424345475\n",
       "            },\n",
       "            {\n",
       "                \"percentile\": 97.5,\n",
       "                \"value\": 0.11917967082265521\n",
       "            }\n",
       "        ],\n",
       "        \"control_statistics\": {\n",
       "            \"mean\": -0.03325546053022948,\n",
       "            \"sample_size\": 1966,\n",
       "            \"variance\": 0.9502823933483748\n",
       "        },\n",
       "        \"delta\": 0.06292537862350035,\n",
       "        \"p\": 0.028358778147368372,\n",
       "        \"statistical_power\": 0.5922702558935107,\n",
       "        \"treatment_statistics\": {\n",
       "            \"mean\": 0.02966991809327087,\n",
       "            \"sample_size\": 3067,\n",
       "            \"variance\": 1.0096351883915924\n",
       "        }\n",
       "    },\n",
       "    \"test\": {\n",
       "        \"features\": [\n",
       "            {\n",
       "                \"column_name\": \"feature\",\n",
       "                \"column_value\": \"has\"\n",
       "            }\n",
       "        ],\n",
       "        \"kpi\": {\n",
       "            \"name\": \"normal_same\"\n",
       "        },\n",
       "        \"variants\": {\n",
       "            \"control_name\": \"B\",\n",
       "            \"treatment_name\": \"A\",\n",
       "            \"variant_column_name\": \"variant\"\n",
       "        }\n",
       "    }\n",
       "}"
      ]
     },
     "execution_count": 103,
     "metadata": {},
     "output_type": "execute_result"
    }
   ],
   "source": [
    "exp.analyze_statistical_test(test)"
   ]
  },
  {
   "cell_type": "markdown",
   "metadata": {},
   "source": [
    "### Statistical test suite"
   ]
  },
  {
   "cell_type": "code",
   "execution_count": 104,
   "metadata": {},
   "outputs": [],
   "source": [
    "from expan.core.statistical_test import *"
   ]
  },
  {
   "cell_type": "code",
   "execution_count": 105,
   "metadata": {},
   "outputs": [
    {
     "name": "stderr",
     "output_type": "stream",
     "text": [
      "INFO:expan.core.experiment:Statistical test suite analysis with 3 tests, testmethod fixed_horizon, correction method CorrectionMethod.BH has just started\n",
      "INFO:expan.core.experiment:One analysis with kpi '{\n",
      "    \"name\": \"normal_same\"\n",
      "}', control variant 'B', treatment variant 'A' and features [[('feature', 'has')]] has just started\n",
      "INFO:expan.core.experiment:Control group size: 1966\n",
      "INFO:expan.core.experiment:Treatment group size: 3067\n",
      "INFO:expan.core.statistics:The distribution of two samples is assumed normal. Performing the sample difference distribution calculation.\n",
      "INFO:expan.core.statistics:Delta calculation finished!\n",
      "INFO:expan.core.experiment:One analysis with kpi '{\n",
      "    \"name\": \"normal_same\"\n",
      "}', control variant 'B', treatment variant 'A' and features [[('feature', 'non')]] has just started\n",
      "INFO:expan.core.experiment:Control group size: 1926\n",
      "INFO:expan.core.experiment:Treatment group size: 3040\n",
      "INFO:expan.core.statistics:The distribution of two samples is assumed normal. Performing the sample difference distribution calculation.\n",
      "INFO:expan.core.statistics:Delta calculation finished!\n",
      "INFO:expan.core.experiment:One analysis with kpi '{\n",
      "    \"name\": \"normal_same\"\n",
      "}', control variant 'B', treatment variant 'A' and features [[('feature', 'feature that only has one data point')]] has just started\n",
      "WARNING:expan.core.experiment:Control group only contains 0 entities.\n",
      "WARNING:expan.core.experiment:Data is not valid for the analysis!\n",
      "WARNING:expan.core.experiment:Analysis results are excluded from the result file because they contain Null values.\n",
      "INFO:expan.core.experiment:One analysis with kpi '{\n",
      "    \"name\": \"normal_same\"\n",
      "}', control variant 'B', treatment variant 'A' and features [[('feature', 'has')]] has just started\n",
      "INFO:expan.core.experiment:Control group size: 1966\n",
      "INFO:expan.core.experiment:Treatment group size: 3067\n",
      "INFO:expan.core.statistics:The distribution of two samples is assumed normal. Performing the sample difference distribution calculation.\n",
      "INFO:expan.core.statistics:Delta calculation finished!\n",
      "INFO:expan.core.experiment:One analysis with kpi '{\n",
      "    \"name\": \"normal_same\"\n",
      "}', control variant 'B', treatment variant 'A' and features [[('feature', 'non')]] has just started\n",
      "INFO:expan.core.experiment:Control group size: 1926\n",
      "INFO:expan.core.experiment:Treatment group size: 3040\n",
      "INFO:expan.core.statistics:The distribution of two samples is assumed normal. Performing the sample difference distribution calculation.\n",
      "INFO:expan.core.statistics:Delta calculation finished!\n",
      "INFO:expan.core.experiment:Statistical test suite analysis with 3 tests, testmethod fixed_horizon, correction method CorrectionMethod.BH has finished\n"
     ]
    },
    {
     "data": {
      "text/plain": [
       "{\n",
       "    \"correction_method\": \"BH\",\n",
       "    \"results\": [\n",
       "        {\n",
       "            \"result\": {\n",
       "                \"corrected_test_statistics\": {\n",
       "                    \"confidence_interval\": [\n",
       "                        {\n",
       "                            \"percentile\": 1.25,\n",
       "                            \"value\": -0.0014104640151739734\n",
       "                        },\n",
       "                        {\n",
       "                            \"percentile\": 98.75,\n",
       "                            \"value\": 0.1272612212621747\n",
       "                        }\n",
       "                    ],\n",
       "                    \"control_statistics\": {\n",
       "                        \"mean\": -0.03325546053022948,\n",
       "                        \"sample_size\": 1966,\n",
       "                        \"variance\": 0.9502823933483748\n",
       "                    },\n",
       "                    \"delta\": 0.06292537862350035,\n",
       "                    \"p\": 0.028358778147368372,\n",
       "                    \"statistical_power\": 0.4808382307266412,\n",
       "                    \"treatment_statistics\": {\n",
       "                        \"mean\": 0.02966991809327087,\n",
       "                        \"sample_size\": 3067,\n",
       "                        \"variance\": 1.0096351883915924\n",
       "                    }\n",
       "                },\n",
       "                \"original_test_statistics\": {\n",
       "                    \"confidence_interval\": [\n",
       "                        {\n",
       "                            \"percentile\": 2.5,\n",
       "                            \"value\": 0.006671086424345475\n",
       "                        },\n",
       "                        {\n",
       "                            \"percentile\": 97.5,\n",
       "                            \"value\": 0.11917967082265521\n",
       "                        }\n",
       "                    ],\n",
       "                    \"control_statistics\": {\n",
       "                        \"mean\": -0.03325546053022948,\n",
       "                        \"sample_size\": 1966,\n",
       "                        \"variance\": 0.9502823933483748\n",
       "                    },\n",
       "                    \"delta\": 0.06292537862350035,\n",
       "                    \"p\": 0.028358778147368372,\n",
       "                    \"statistical_power\": 0.5922702558935107,\n",
       "                    \"treatment_statistics\": {\n",
       "                        \"mean\": 0.02966991809327087,\n",
       "                        \"sample_size\": 3067,\n",
       "                        \"variance\": 1.0096351883915924\n",
       "                    }\n",
       "                }\n",
       "            },\n",
       "            \"test\": {\n",
       "                \"features\": [\n",
       "                    {\n",
       "                        \"column_name\": \"feature\",\n",
       "                        \"column_value\": \"has\"\n",
       "                    }\n",
       "                ],\n",
       "                \"kpi\": {\n",
       "                    \"name\": \"normal_same\"\n",
       "                },\n",
       "                \"variants\": {\n",
       "                    \"control_name\": \"B\",\n",
       "                    \"treatment_name\": \"A\",\n",
       "                    \"variant_column_name\": \"variant\"\n",
       "                }\n",
       "            }\n",
       "        },\n",
       "        {\n",
       "            \"result\": {\n",
       "                \"corrected_test_statistics\": {\n",
       "                    \"confidence_interval\": [\n",
       "                        {\n",
       "                            \"percentile\": 1.25,\n",
       "                            \"value\": -0.06258057692541398\n",
       "                        },\n",
       "                        {\n",
       "                            \"percentile\": 98.75,\n",
       "                            \"value\": 0.06880040562883154\n",
       "                        }\n",
       "                    ],\n",
       "                    \"control_statistics\": {\n",
       "                        \"mean\": 0.01811725276355308,\n",
       "                        \"sample_size\": 1926,\n",
       "                        \"variance\": 1.032139915466881\n",
       "                    },\n",
       "                    \"delta\": 0.003109914351708761,\n",
       "                    \"p\": 0.9154719755287828,\n",
       "                    \"statistical_power\": 0.016370838349524797,\n",
       "                    \"treatment_statistics\": {\n",
       "                        \"mean\": 0.02122716711526184,\n",
       "                        \"sample_size\": 3040,\n",
       "                        \"variance\": 0.9994114252924446\n",
       "                    }\n",
       "                },\n",
       "                \"original_test_statistics\": {\n",
       "                    \"confidence_interval\": [\n",
       "                        {\n",
       "                            \"percentile\": 2.5,\n",
       "                            \"value\": -0.05432881664893491\n",
       "                        },\n",
       "                        {\n",
       "                            \"percentile\": 97.5,\n",
       "                            \"value\": 0.06054864535235241\n",
       "                        }\n",
       "                    ],\n",
       "                    \"control_statistics\": {\n",
       "                        \"mean\": 0.01811725276355308,\n",
       "                        \"sample_size\": 1926,\n",
       "                        \"variance\": 1.032139915466881\n",
       "                    },\n",
       "                    \"delta\": 0.003109914351708761,\n",
       "                    \"p\": 0.9154719755287828,\n",
       "                    \"statistical_power\": 0.031884032087762915,\n",
       "                    \"treatment_statistics\": {\n",
       "                        \"mean\": 0.02122716711526184,\n",
       "                        \"sample_size\": 3040,\n",
       "                        \"variance\": 0.9994114252924446\n",
       "                    }\n",
       "                }\n",
       "            },\n",
       "            \"test\": {\n",
       "                \"features\": [\n",
       "                    {\n",
       "                        \"column_name\": \"feature\",\n",
       "                        \"column_value\": \"non\"\n",
       "                    }\n",
       "                ],\n",
       "                \"kpi\": {\n",
       "                    \"name\": \"normal_same\"\n",
       "                },\n",
       "                \"variants\": {\n",
       "                    \"control_name\": \"B\",\n",
       "                    \"treatment_name\": \"A\",\n",
       "                    \"variant_column_name\": \"variant\"\n",
       "                }\n",
       "            }\n",
       "        }\n",
       "    ]\n",
       "}"
      ]
     },
     "execution_count": 105,
     "metadata": {},
     "output_type": "execute_result"
    }
   ],
   "source": [
    "kpi = KPI('normal_same')\n",
    "variants = Variants(variant_column_name = 'variant', control_name = 'B', treatment_name = 'A')\n",
    "\n",
    "feature_1 = FeatureFilter('feature', 'has')\n",
    "feature_2 = FeatureFilter('feature', 'non')\n",
    "feature_3 = FeatureFilter('feature', 'feature that only has one data point')\n",
    "\n",
    "test_subgroup1 = StatisticalTest(data, kpi, [feature_1], variants)\n",
    "test_subgroup2 = StatisticalTest(data, kpi, [feature_2], variants)\n",
    "test_subgroup3 = StatisticalTest(data, kpi, [feature_3], variants)\n",
    "\n",
    "tests = [test_subgroup1, test_subgroup2, test_subgroup3]\n",
    "test_suite = StatisticalTestSuite(tests = tests, correction_method = CorrectionMethod.BH)\n",
    "\n",
    "exp.analyze_statistical_test_suite(test_suite)"
   ]
  },
  {
   "cell_type": "markdown",
   "metadata": {},
   "source": [
    "### Statistics"
   ]
  },
  {
   "cell_type": "code",
   "execution_count": 106,
   "metadata": {},
   "outputs": [],
   "source": [
    "import expan.core.statistics"
   ]
  },
  {
   "cell_type": "code",
   "execution_count": 107,
   "metadata": {},
   "outputs": [
    {
     "data": {
      "text/plain": [
       "23126555.02628001"
      ]
     },
     "execution_count": 107,
     "metadata": {},
     "output_type": "execute_result"
    }
   ],
   "source": [
    "expan.core.statistics.estimate_sample_size(x = data.normal_same, mde = 0.1, r = 0.5, alpha = 0.05, beta = 0.2)"
   ]
  }
 ],
 "metadata": {
  "kernelspec": {
   "display_name": "Python 3",
   "language": "python",
   "name": "python3"
  },
  "language_info": {
   "codemirror_mode": {
    "name": "ipython",
    "version": 3
   },
   "file_extension": ".py",
   "mimetype": "text/x-python",
   "name": "python",
   "nbconvert_exporter": "python",
   "pygments_lexer": "ipython3",
   "version": "3.8.5"
  }
 },
 "nbformat": 4,
 "nbformat_minor": 4
}
