{
 "cells": [
  {
   "cell_type": "markdown",
   "metadata": {},
   "source": [
    "# Set-up example"
   ]
  },
  {
   "cell_type": "code",
   "execution_count": 1,
   "metadata": {},
   "outputs": [],
   "source": [
    "import numpy as np \n",
    "import scipy.stats as sp \n",
    "import pandas as pd \n",
    "import seaborn as sns\n",
    "import matplotlib.pyplot as plt\n",
    "import random \n",
    "import statsmodels.api as sm\n",
    "import statsmodels.formula.api as smf \n",
    "import statsmodels.stats.power\n",
    "from sklearn.utils import resample\n",
    "from tqdm.notebook import trange"
   ]
  },
  {
   "cell_type": "code",
   "execution_count": 2,
   "metadata": {},
   "outputs": [
    {
     "data": {
      "text/html": [
       "<div>\n",
       "<style scoped>\n",
       "    .dataframe tbody tr th:only-of-type {\n",
       "        vertical-align: middle;\n",
       "    }\n",
       "\n",
       "    .dataframe tbody tr th {\n",
       "        vertical-align: top;\n",
       "    }\n",
       "\n",
       "    .dataframe thead th {\n",
       "        text-align: right;\n",
       "    }\n",
       "</style>\n",
       "<table border=\"1\" class=\"dataframe\">\n",
       "  <thead>\n",
       "    <tr style=\"text-align: right;\">\n",
       "      <th></th>\n",
       "      <th>carat</th>\n",
       "      <th>cut</th>\n",
       "      <th>color</th>\n",
       "      <th>clarity</th>\n",
       "      <th>depth</th>\n",
       "      <th>table</th>\n",
       "      <th>price</th>\n",
       "      <th>x</th>\n",
       "      <th>y</th>\n",
       "      <th>z</th>\n",
       "    </tr>\n",
       "  </thead>\n",
       "  <tbody>\n",
       "    <tr>\n",
       "      <th>0</th>\n",
       "      <td>0.23</td>\n",
       "      <td>Ideal</td>\n",
       "      <td>E</td>\n",
       "      <td>SI2</td>\n",
       "      <td>61.5</td>\n",
       "      <td>55.0</td>\n",
       "      <td>326</td>\n",
       "      <td>3.95</td>\n",
       "      <td>3.98</td>\n",
       "      <td>2.43</td>\n",
       "    </tr>\n",
       "    <tr>\n",
       "      <th>1</th>\n",
       "      <td>0.21</td>\n",
       "      <td>Premium</td>\n",
       "      <td>E</td>\n",
       "      <td>SI1</td>\n",
       "      <td>59.8</td>\n",
       "      <td>61.0</td>\n",
       "      <td>326</td>\n",
       "      <td>3.89</td>\n",
       "      <td>3.84</td>\n",
       "      <td>2.31</td>\n",
       "    </tr>\n",
       "    <tr>\n",
       "      <th>2</th>\n",
       "      <td>0.23</td>\n",
       "      <td>Good</td>\n",
       "      <td>E</td>\n",
       "      <td>VS1</td>\n",
       "      <td>56.9</td>\n",
       "      <td>65.0</td>\n",
       "      <td>327</td>\n",
       "      <td>4.05</td>\n",
       "      <td>4.07</td>\n",
       "      <td>2.31</td>\n",
       "    </tr>\n",
       "    <tr>\n",
       "      <th>3</th>\n",
       "      <td>0.29</td>\n",
       "      <td>Premium</td>\n",
       "      <td>I</td>\n",
       "      <td>VS2</td>\n",
       "      <td>62.4</td>\n",
       "      <td>58.0</td>\n",
       "      <td>334</td>\n",
       "      <td>4.20</td>\n",
       "      <td>4.23</td>\n",
       "      <td>2.63</td>\n",
       "    </tr>\n",
       "    <tr>\n",
       "      <th>4</th>\n",
       "      <td>0.31</td>\n",
       "      <td>Good</td>\n",
       "      <td>J</td>\n",
       "      <td>SI2</td>\n",
       "      <td>63.3</td>\n",
       "      <td>58.0</td>\n",
       "      <td>335</td>\n",
       "      <td>4.34</td>\n",
       "      <td>4.35</td>\n",
       "      <td>2.75</td>\n",
       "    </tr>\n",
       "    <tr>\n",
       "      <th>...</th>\n",
       "      <td>...</td>\n",
       "      <td>...</td>\n",
       "      <td>...</td>\n",
       "      <td>...</td>\n",
       "      <td>...</td>\n",
       "      <td>...</td>\n",
       "      <td>...</td>\n",
       "      <td>...</td>\n",
       "      <td>...</td>\n",
       "      <td>...</td>\n",
       "    </tr>\n",
       "    <tr>\n",
       "      <th>53935</th>\n",
       "      <td>0.72</td>\n",
       "      <td>Ideal</td>\n",
       "      <td>D</td>\n",
       "      <td>SI1</td>\n",
       "      <td>60.8</td>\n",
       "      <td>57.0</td>\n",
       "      <td>2757</td>\n",
       "      <td>5.75</td>\n",
       "      <td>5.76</td>\n",
       "      <td>3.50</td>\n",
       "    </tr>\n",
       "    <tr>\n",
       "      <th>53936</th>\n",
       "      <td>0.72</td>\n",
       "      <td>Good</td>\n",
       "      <td>D</td>\n",
       "      <td>SI1</td>\n",
       "      <td>63.1</td>\n",
       "      <td>55.0</td>\n",
       "      <td>2757</td>\n",
       "      <td>5.69</td>\n",
       "      <td>5.75</td>\n",
       "      <td>3.61</td>\n",
       "    </tr>\n",
       "    <tr>\n",
       "      <th>53937</th>\n",
       "      <td>0.70</td>\n",
       "      <td>Very Good</td>\n",
       "      <td>D</td>\n",
       "      <td>SI1</td>\n",
       "      <td>62.8</td>\n",
       "      <td>60.0</td>\n",
       "      <td>2757</td>\n",
       "      <td>5.66</td>\n",
       "      <td>5.68</td>\n",
       "      <td>3.56</td>\n",
       "    </tr>\n",
       "    <tr>\n",
       "      <th>53938</th>\n",
       "      <td>0.86</td>\n",
       "      <td>Premium</td>\n",
       "      <td>H</td>\n",
       "      <td>SI2</td>\n",
       "      <td>61.0</td>\n",
       "      <td>58.0</td>\n",
       "      <td>2757</td>\n",
       "      <td>6.15</td>\n",
       "      <td>6.12</td>\n",
       "      <td>3.74</td>\n",
       "    </tr>\n",
       "    <tr>\n",
       "      <th>53939</th>\n",
       "      <td>0.75</td>\n",
       "      <td>Ideal</td>\n",
       "      <td>D</td>\n",
       "      <td>SI2</td>\n",
       "      <td>62.2</td>\n",
       "      <td>55.0</td>\n",
       "      <td>2757</td>\n",
       "      <td>5.83</td>\n",
       "      <td>5.87</td>\n",
       "      <td>3.64</td>\n",
       "    </tr>\n",
       "  </tbody>\n",
       "</table>\n",
       "<p>53940 rows × 10 columns</p>\n",
       "</div>"
      ],
      "text/plain": [
       "       carat        cut color clarity  depth  table  price     x     y     z\n",
       "0       0.23      Ideal     E     SI2   61.5   55.0    326  3.95  3.98  2.43\n",
       "1       0.21    Premium     E     SI1   59.8   61.0    326  3.89  3.84  2.31\n",
       "2       0.23       Good     E     VS1   56.9   65.0    327  4.05  4.07  2.31\n",
       "3       0.29    Premium     I     VS2   62.4   58.0    334  4.20  4.23  2.63\n",
       "4       0.31       Good     J     SI2   63.3   58.0    335  4.34  4.35  2.75\n",
       "...      ...        ...   ...     ...    ...    ...    ...   ...   ...   ...\n",
       "53935   0.72      Ideal     D     SI1   60.8   57.0   2757  5.75  5.76  3.50\n",
       "53936   0.72       Good     D     SI1   63.1   55.0   2757  5.69  5.75  3.61\n",
       "53937   0.70  Very Good     D     SI1   62.8   60.0   2757  5.66  5.68  3.56\n",
       "53938   0.86    Premium     H     SI2   61.0   58.0   2757  6.15  6.12  3.74\n",
       "53939   0.75      Ideal     D     SI2   62.2   55.0   2757  5.83  5.87  3.64\n",
       "\n",
       "[53940 rows x 10 columns]"
      ]
     },
     "execution_count": 2,
     "metadata": {},
     "output_type": "execute_result"
    }
   ],
   "source": [
    "df = sns.load_dataset('diamonds')\n",
    "df"
   ]
  },
  {
   "cell_type": "markdown",
   "metadata": {},
   "source": [
    "# 1. Statistical Estimations"
   ]
  },
  {
   "cell_type": "markdown",
   "metadata": {},
   "source": [
    "## 1.1 Estimates of location"
   ]
  },
  {
   "cell_type": "code",
   "execution_count": 3,
   "metadata": {},
   "outputs": [
    {
     "data": {
      "text/plain": [
       "[5.731157211716722, 6.380923712740938, 5.7, 5.660075778642937]"
      ]
     },
     "execution_count": 3,
     "metadata": {},
     "output_type": "execute_result"
    }
   ],
   "source": [
    "[np.mean(df.x), \n",
    " np.average(df.x, weights = df.carat), \n",
    " np.median(df.x), \n",
    " sp.trim_mean(df.x, 0.1)]"
   ]
  },
  {
   "cell_type": "markdown",
   "metadata": {},
   "source": [
    "## 1.2 Estimates of variability"
   ]
  },
  {
   "cell_type": "code",
   "execution_count": 4,
   "metadata": {},
   "outputs": [
    {
     "data": {
      "text/plain": [
       "[1.1217503485171316, 4.71]"
      ]
     },
     "execution_count": 4,
     "metadata": {},
     "output_type": "execute_result"
    }
   ],
   "source": [
    "[np.std(df.x),\n",
    " np.quantile(df.x, 0.25)]"
   ]
  },
  {
   "cell_type": "markdown",
   "metadata": {},
   "source": [
    "# 2. Correlation"
   ]
  },
  {
   "cell_type": "markdown",
   "metadata": {},
   "source": [
    "## 2.1 Correlation plot"
   ]
  },
  {
   "cell_type": "code",
   "execution_count": 5,
   "metadata": {},
   "outputs": [
    {
     "data": {
      "text/html": [
       "<div>\n",
       "<style scoped>\n",
       "    .dataframe tbody tr th:only-of-type {\n",
       "        vertical-align: middle;\n",
       "    }\n",
       "\n",
       "    .dataframe tbody tr th {\n",
       "        vertical-align: top;\n",
       "    }\n",
       "\n",
       "    .dataframe thead th {\n",
       "        text-align: right;\n",
       "    }\n",
       "</style>\n",
       "<table border=\"1\" class=\"dataframe\">\n",
       "  <thead>\n",
       "    <tr style=\"text-align: right;\">\n",
       "      <th></th>\n",
       "      <th>x</th>\n",
       "      <th>y</th>\n",
       "      <th>z</th>\n",
       "    </tr>\n",
       "  </thead>\n",
       "  <tbody>\n",
       "    <tr>\n",
       "      <th>x</th>\n",
       "      <td>1.000000</td>\n",
       "      <td>0.974701</td>\n",
       "      <td>0.970772</td>\n",
       "    </tr>\n",
       "    <tr>\n",
       "      <th>y</th>\n",
       "      <td>0.974701</td>\n",
       "      <td>1.000000</td>\n",
       "      <td>0.952006</td>\n",
       "    </tr>\n",
       "    <tr>\n",
       "      <th>z</th>\n",
       "      <td>0.970772</td>\n",
       "      <td>0.952006</td>\n",
       "      <td>1.000000</td>\n",
       "    </tr>\n",
       "  </tbody>\n",
       "</table>\n",
       "</div>"
      ],
      "text/plain": [
       "          x         y         z\n",
       "x  1.000000  0.974701  0.970772\n",
       "y  0.974701  1.000000  0.952006\n",
       "z  0.970772  0.952006  1.000000"
      ]
     },
     "execution_count": 5,
     "metadata": {},
     "output_type": "execute_result"
    }
   ],
   "source": [
    "df[['x','y','z']].corr()"
   ]
  },
  {
   "cell_type": "code",
   "execution_count": 6,
   "metadata": {},
   "outputs": [
    {
     "data": {
      "text/plain": [
       "<matplotlib.axes._subplots.AxesSubplot at 0x7fd054e9b9d0>"
      ]
     },
     "execution_count": 6,
     "metadata": {},
     "output_type": "execute_result"
    },
    {
     "data": {
      "image/png": "[encoded data removed]",
      "text/plain": [
       "<Figure size 432x288 with 2 Axes>"
      ]
     },
     "metadata": {
      "needs_background": "light"
     },
     "output_type": "display_data"
    }
   ],
   "source": [
    "sns.heatmap(df[['x','y','z']].corr())"
   ]
  },
  {
   "cell_type": "markdown",
   "metadata": {},
   "source": [
    "# 3. Sampling "
   ]
  },
  {
   "cell_type": "code",
   "execution_count": 7,
   "metadata": {},
   "outputs": [
    {
     "data": {
      "text/html": [
       "<div>\n",
       "<style scoped>\n",
       "    .dataframe tbody tr th:only-of-type {\n",
       "        vertical-align: middle;\n",
       "    }\n",
       "\n",
       "    .dataframe tbody tr th {\n",
       "        vertical-align: top;\n",
       "    }\n",
       "\n",
       "    .dataframe thead th {\n",
       "        text-align: right;\n",
       "    }\n",
       "</style>\n",
       "<table border=\"1\" class=\"dataframe\">\n",
       "  <thead>\n",
       "    <tr style=\"text-align: right;\">\n",
       "      <th></th>\n",
       "      <th>carat</th>\n",
       "      <th>cut</th>\n",
       "      <th>color</th>\n",
       "      <th>clarity</th>\n",
       "      <th>depth</th>\n",
       "      <th>table</th>\n",
       "      <th>price</th>\n",
       "      <th>x</th>\n",
       "      <th>y</th>\n",
       "      <th>z</th>\n",
       "    </tr>\n",
       "  </thead>\n",
       "  <tbody>\n",
       "    <tr>\n",
       "      <th>47212</th>\n",
       "      <td>0.59</td>\n",
       "      <td>Ideal</td>\n",
       "      <td>E</td>\n",
       "      <td>VS2</td>\n",
       "      <td>62.2</td>\n",
       "      <td>58.0</td>\n",
       "      <td>1838</td>\n",
       "      <td>5.35</td>\n",
       "      <td>5.39</td>\n",
       "      <td>3.34</td>\n",
       "    </tr>\n",
       "    <tr>\n",
       "      <th>10220</th>\n",
       "      <td>1.01</td>\n",
       "      <td>Very Good</td>\n",
       "      <td>H</td>\n",
       "      <td>SI1</td>\n",
       "      <td>62.7</td>\n",
       "      <td>58.0</td>\n",
       "      <td>4743</td>\n",
       "      <td>6.36</td>\n",
       "      <td>6.34</td>\n",
       "      <td>3.98</td>\n",
       "    </tr>\n",
       "    <tr>\n",
       "      <th>28195</th>\n",
       "      <td>0.38</td>\n",
       "      <td>Premium</td>\n",
       "      <td>G</td>\n",
       "      <td>SI1</td>\n",
       "      <td>60.0</td>\n",
       "      <td>60.0</td>\n",
       "      <td>666</td>\n",
       "      <td>4.65</td>\n",
       "      <td>4.72</td>\n",
       "      <td>2.81</td>\n",
       "    </tr>\n",
       "    <tr>\n",
       "      <th>15211</th>\n",
       "      <td>1.01</td>\n",
       "      <td>Ideal</td>\n",
       "      <td>G</td>\n",
       "      <td>VS2</td>\n",
       "      <td>61.9</td>\n",
       "      <td>55.0</td>\n",
       "      <td>6108</td>\n",
       "      <td>6.49</td>\n",
       "      <td>6.46</td>\n",
       "      <td>4.01</td>\n",
       "    </tr>\n",
       "    <tr>\n",
       "      <th>24899</th>\n",
       "      <td>1.58</td>\n",
       "      <td>Premium</td>\n",
       "      <td>D</td>\n",
       "      <td>SI1</td>\n",
       "      <td>60.2</td>\n",
       "      <td>58.0</td>\n",
       "      <td>13329</td>\n",
       "      <td>7.60</td>\n",
       "      <td>7.46</td>\n",
       "      <td>4.56</td>\n",
       "    </tr>\n",
       "    <tr>\n",
       "      <th>...</th>\n",
       "      <td>...</td>\n",
       "      <td>...</td>\n",
       "      <td>...</td>\n",
       "      <td>...</td>\n",
       "      <td>...</td>\n",
       "      <td>...</td>\n",
       "      <td>...</td>\n",
       "      <td>...</td>\n",
       "      <td>...</td>\n",
       "      <td>...</td>\n",
       "    </tr>\n",
       "    <tr>\n",
       "      <th>14675</th>\n",
       "      <td>1.21</td>\n",
       "      <td>Very Good</td>\n",
       "      <td>D</td>\n",
       "      <td>SI2</td>\n",
       "      <td>60.9</td>\n",
       "      <td>58.0</td>\n",
       "      <td>5922</td>\n",
       "      <td>6.83</td>\n",
       "      <td>6.89</td>\n",
       "      <td>4.18</td>\n",
       "    </tr>\n",
       "    <tr>\n",
       "      <th>17905</th>\n",
       "      <td>1.26</td>\n",
       "      <td>Ideal</td>\n",
       "      <td>G</td>\n",
       "      <td>SI1</td>\n",
       "      <td>61.3</td>\n",
       "      <td>57.0</td>\n",
       "      <td>7230</td>\n",
       "      <td>6.94</td>\n",
       "      <td>6.99</td>\n",
       "      <td>4.27</td>\n",
       "    </tr>\n",
       "    <tr>\n",
       "      <th>1147</th>\n",
       "      <td>0.72</td>\n",
       "      <td>Very Good</td>\n",
       "      <td>E</td>\n",
       "      <td>VS2</td>\n",
       "      <td>63.2</td>\n",
       "      <td>58.0</td>\n",
       "      <td>2923</td>\n",
       "      <td>5.67</td>\n",
       "      <td>5.72</td>\n",
       "      <td>3.60</td>\n",
       "    </tr>\n",
       "    <tr>\n",
       "      <th>46701</th>\n",
       "      <td>0.55</td>\n",
       "      <td>Ideal</td>\n",
       "      <td>G</td>\n",
       "      <td>VS1</td>\n",
       "      <td>61.3</td>\n",
       "      <td>57.0</td>\n",
       "      <td>1792</td>\n",
       "      <td>5.28</td>\n",
       "      <td>5.25</td>\n",
       "      <td>3.23</td>\n",
       "    </tr>\n",
       "    <tr>\n",
       "      <th>12039</th>\n",
       "      <td>0.34</td>\n",
       "      <td>Premium</td>\n",
       "      <td>G</td>\n",
       "      <td>VS2</td>\n",
       "      <td>60.2</td>\n",
       "      <td>58.0</td>\n",
       "      <td>596</td>\n",
       "      <td>4.52</td>\n",
       "      <td>4.55</td>\n",
       "      <td>2.73</td>\n",
       "    </tr>\n",
       "  </tbody>\n",
       "</table>\n",
       "<p>100 rows × 10 columns</p>\n",
       "</div>"
      ],
      "text/plain": [
       "       carat        cut color clarity  depth  table  price     x     y     z\n",
       "47212   0.59      Ideal     E     VS2   62.2   58.0   1838  5.35  5.39  3.34\n",
       "10220   1.01  Very Good     H     SI1   62.7   58.0   4743  6.36  6.34  3.98\n",
       "28195   0.38    Premium     G     SI1   60.0   60.0    666  4.65  4.72  2.81\n",
       "15211   1.01      Ideal     G     VS2   61.9   55.0   6108  6.49  6.46  4.01\n",
       "24899   1.58    Premium     D     SI1   60.2   58.0  13329  7.60  7.46  4.56\n",
       "...      ...        ...   ...     ...    ...    ...    ...   ...   ...   ...\n",
       "14675   1.21  Very Good     D     SI2   60.9   58.0   5922  6.83  6.89  4.18\n",
       "17905   1.26      Ideal     G     SI1   61.3   57.0   7230  6.94  6.99  4.27\n",
       "1147    0.72  Very Good     E     VS2   63.2   58.0   2923  5.67  5.72  3.60\n",
       "46701   0.55      Ideal     G     VS1   61.3   57.0   1792  5.28  5.25  3.23\n",
       "12039   0.34    Premium     G     VS2   60.2   58.0    596  4.52  4.55  2.73\n",
       "\n",
       "[100 rows x 10 columns]"
      ]
     },
     "execution_count": 7,
     "metadata": {},
     "output_type": "execute_result"
    }
   ],
   "source": [
    "df.sample(n = 100)"
   ]
  },
  {
   "cell_type": "code",
   "execution_count": 8,
   "metadata": {},
   "outputs": [
    {
     "data": {
      "text/plain": [
       "5.731157211716722"
      ]
     },
     "execution_count": 8,
     "metadata": {},
     "output_type": "execute_result"
    }
   ],
   "source": [
    "df.x.mean()"
   ]
  },
  {
   "cell_type": "markdown",
   "metadata": {},
   "source": [
    "## 3.1 Sampling distribution of statistics"
   ]
  },
  {
   "cell_type": "code",
   "execution_count": 9,
   "metadata": {},
   "outputs": [
    {
     "data": {
      "text/plain": [
       "<matplotlib.axes._subplots.AxesSubplot at 0x7fd054213250>"
      ]
     },
     "execution_count": 9,
     "metadata": {},
     "output_type": "execute_result"
    },
    {
     "data": {
      "image/png": "[encoded data removed]",
      "text/plain": [
       "<Figure size 432x288 with 1 Axes>"
      ]
     },
     "metadata": {
      "needs_background": "light"
     },
     "output_type": "display_data"
    }
   ],
   "source": [
    "pd.Series([df.x.sample(n = 5).mean() for _ in range(1000)]).plot.hist(bins = 50, color = 'green')\n",
    "pd.Series([df.x.sample(n = 20).mean() for _ in range(1000)]).plot.hist(bins = 50, color = 'blue')\n",
    "pd.Series([df.x.sample(n = 100).mean() for _ in range(1000)]).plot.hist(bins = 50, color = 'red')"
   ]
  },
  {
   "cell_type": "markdown",
   "metadata": {},
   "source": [
    "## 3.2 Standard error "
   ]
  },
  {
   "cell_type": "code",
   "execution_count": 10,
   "metadata": {},
   "outputs": [
    {
     "data": {
      "text/plain": [
       "0.0048299737209106675"
      ]
     },
     "execution_count": 10,
     "metadata": {},
     "output_type": "execute_result"
    }
   ],
   "source": [
    "sp.sem(df.x)"
   ]
  },
  {
   "cell_type": "markdown",
   "metadata": {},
   "source": [
    "# 4. Bootstrap"
   ]
  },
  {
   "cell_type": "code",
   "execution_count": 11,
   "metadata": {},
   "outputs": [
    {
     "data": {
      "application/vnd.jupyter.widget-view+json": {
       "model_id": "c7604e4fb96946db8885b94f00ccd808",
       "version_major": 2,
       "version_minor": 0
      },
      "text/plain": [
       "HBox(children=(FloatProgress(value=0.0, max=1000.0), HTML(value='')))"
      ]
     },
     "metadata": {},
     "output_type": "display_data"
    },
    {
     "name": "stdout",
     "output_type": "stream",
     "text": [
      "\n",
      "Bootstrap Statistics:\n",
      "original: 5.7\n",
      "bias: -0.0037599999999997635\n",
      "std.error: 0.005660781257427569\n",
      "95% confidence interval: 5.69 ~ 5.71\n"
     ]
    }
   ],
   "source": [
    "results = []\n",
    "for _ in trange(1000):\n",
    "    sample = resample(df.x)\n",
    "    results.append(sample.median())\n",
    "    \n",
    "results = pd.Series(results)\n",
    "\n",
    "print('Bootstrap Statistics:')\n",
    "print(f'original: {df.x.median()}')\n",
    "print(f'bias: {results.mean() - df.x.median()}')\n",
    "print(f'std.error: {results.std()}')\n",
    "print(f'95% confidence interval: {results.quantile(0.025)} ~ {results.quantile(1 - 0.025)}')"
   ]
  },
  {
   "cell_type": "markdown",
   "metadata": {},
   "source": [
    "# 5. Distributions"
   ]
  },
  {
   "cell_type": "markdown",
   "metadata": {},
   "source": [
    "## 5.1 Normal distribution"
   ]
  },
  {
   "cell_type": "code",
   "execution_count": 12,
   "metadata": {},
   "outputs": [
    {
     "data": {
      "text/plain": [
       "((array([-2.46203784, -2.12570747, -1.93122778, -1.79044653, -1.67819304,\n",
       "         -1.58381122, -1.50174123, -1.42869743, -1.36256869, -1.30191411,\n",
       "         -1.24570419, -1.19317644, -1.14374949, -1.09696931, -1.05247413,\n",
       "         -1.00997067, -0.96921765, -0.93001393, -0.89218993, -0.85560121,\n",
       "         -0.82012357, -0.78564937, -0.75208458, -0.71934648, -0.68736185,\n",
       "         -0.65606548, -0.62539893, -0.59530962, -0.56574992, -0.53667655,\n",
       "         -0.50804994, -0.47983378, -0.45199463, -0.42450149, -0.39732558,\n",
       "         -0.37044003, -0.34381966, -0.31744076, -0.29128096, -0.26531902,\n",
       "         -0.23953472, -0.21390872, -0.18842244, -0.16305799, -0.13779803,\n",
       "         -0.1126257 , -0.08752455, -0.06247843, -0.03747145, -0.01248789,\n",
       "          0.01248789,  0.03747145,  0.06247843,  0.08752455,  0.1126257 ,\n",
       "          0.13779803,  0.16305799,  0.18842244,  0.21390872,  0.23953472,\n",
       "          0.26531902,  0.29128096,  0.31744076,  0.34381966,  0.37044003,\n",
       "          0.39732558,  0.42450149,  0.45199463,  0.47983378,  0.50804994,\n",
       "          0.53667655,  0.56574992,  0.59530962,  0.62539893,  0.65606548,\n",
       "          0.68736185,  0.71934648,  0.75208458,  0.78564937,  0.82012357,\n",
       "          0.85560121,  0.89218993,  0.93001393,  0.96921765,  1.00997067,\n",
       "          1.05247413,  1.09696931,  1.14374949,  1.19317644,  1.24570419,\n",
       "          1.30191411,  1.36256869,  1.42869743,  1.50174123,  1.58381122,\n",
       "          1.67819304,  1.79044653,  1.93122778,  2.12570747,  2.46203784]),\n",
       "  array([-2.67241234, -2.16000757, -2.04294489, -1.99554941, -1.89186193,\n",
       "         -1.81975017, -1.72187831, -1.67180857, -1.65342545, -1.50680779,\n",
       "         -1.34193161, -1.32687267, -1.29453862, -1.27667283, -1.25703758,\n",
       "         -1.23891048, -1.19000081, -1.07539348, -1.03972024, -1.00050449,\n",
       "         -0.84029429, -0.82662739, -0.77430389, -0.7416294 , -0.73735895,\n",
       "         -0.72699505, -0.7151398 , -0.69813151, -0.68831166, -0.53153928,\n",
       "         -0.49745815, -0.4859467 , -0.47980057, -0.47760837, -0.4670674 ,\n",
       "         -0.44350351, -0.39518944, -0.33063078, -0.32460172, -0.32443433,\n",
       "         -0.31442864, -0.26723574, -0.21592999, -0.19733227, -0.18593927,\n",
       "         -0.17619977, -0.15072044, -0.14670237, -0.137267  , -0.12063251,\n",
       "         -0.11904954, -0.10703906, -0.0980158 , -0.09018251, -0.06560693,\n",
       "         -0.02766722, -0.02766375, -0.01948283,  0.03833272,  0.07793669,\n",
       "          0.13808038,  0.19435263,  0.29202451,  0.29347274,  0.31831496,\n",
       "          0.32506748,  0.40346581,  0.43796166,  0.49794198,  0.5088633 ,\n",
       "          0.51695098,  0.52742177,  0.54112847,  0.5423993 ,  0.55313706,\n",
       "          0.55450008,  0.59266873,  0.6914116 ,  0.70294209,  0.71559588,\n",
       "          0.7233024 ,  0.74970578,  0.75471415,  0.75951278,  0.81322608,\n",
       "          0.81636203,  0.87080067,  0.92126563,  1.04248233,  1.08734328,\n",
       "          1.18950232,  1.29513625,  1.37656996,  1.60416389,  1.79198196,\n",
       "          1.87769703,  1.95779245,  2.1706388 ,  2.35473628,  3.46607849])),\n",
       " (1.0714827842865642, -0.08064713676641488, 0.9922915194485763))"
      ]
     },
     "execution_count": 12,
     "metadata": {},
     "output_type": "execute_result"
    },
    {
     "data": {
      "image/png": "[encoded data removed]",
      "text/plain": [
       "<Figure size 432x288 with 1 Axes>"
      ]
     },
     "metadata": {
      "needs_background": "light"
     },
     "output_type": "display_data"
    }
   ],
   "source": [
    "norm_sample = sp.norm.rvs(size = 100)\n",
    "sp.probplot(norm_sample, plot = plt)"
   ]
  },
  {
   "cell_type": "code",
   "execution_count": 13,
   "metadata": {},
   "outputs": [
    {
     "data": {
      "text/plain": [
       "<matplotlib.axes._subplots.AxesSubplot at 0x7fd0533d8280>"
      ]
     },
     "execution_count": 13,
     "metadata": {},
     "output_type": "execute_result"
    },
    {
     "data": {
      "image/png": "[encoded data removed]",
      "text/plain": [
       "<Figure size 432x288 with 1 Axes>"
      ]
     },
     "metadata": {
      "needs_background": "light"
     },
     "output_type": "display_data"
    }
   ],
   "source": [
    "pd.Series(norm_sample).plot.density()"
   ]
  },
  {
   "cell_type": "markdown",
   "metadata": {},
   "source": [
    "## 5.2 Long-tailed distribution"
   ]
  },
  {
   "cell_type": "markdown",
   "metadata": {},
   "source": [
    "## 5.3 Student's t-distribution"
   ]
  },
  {
   "cell_type": "code",
   "execution_count": 14,
   "metadata": {},
   "outputs": [
    {
     "data": {
      "text/plain": [
       "((array([-2.46203784, -2.12570747, -1.93122778, -1.79044653, -1.67819304,\n",
       "         -1.58381122, -1.50174123, -1.42869743, -1.36256869, -1.30191411,\n",
       "         -1.24570419, -1.19317644, -1.14374949, -1.09696931, -1.05247413,\n",
       "         -1.00997067, -0.96921765, -0.93001393, -0.89218993, -0.85560121,\n",
       "         -0.82012357, -0.78564937, -0.75208458, -0.71934648, -0.68736185,\n",
       "         -0.65606548, -0.62539893, -0.59530962, -0.56574992, -0.53667655,\n",
       "         -0.50804994, -0.47983378, -0.45199463, -0.42450149, -0.39732558,\n",
       "         -0.37044003, -0.34381966, -0.31744076, -0.29128096, -0.26531902,\n",
       "         -0.23953472, -0.21390872, -0.18842244, -0.16305799, -0.13779803,\n",
       "         -0.1126257 , -0.08752455, -0.06247843, -0.03747145, -0.01248789,\n",
       "          0.01248789,  0.03747145,  0.06247843,  0.08752455,  0.1126257 ,\n",
       "          0.13779803,  0.16305799,  0.18842244,  0.21390872,  0.23953472,\n",
       "          0.26531902,  0.29128096,  0.31744076,  0.34381966,  0.37044003,\n",
       "          0.39732558,  0.42450149,  0.45199463,  0.47983378,  0.50804994,\n",
       "          0.53667655,  0.56574992,  0.59530962,  0.62539893,  0.65606548,\n",
       "          0.68736185,  0.71934648,  0.75208458,  0.78564937,  0.82012357,\n",
       "          0.85560121,  0.89218993,  0.93001393,  0.96921765,  1.00997067,\n",
       "          1.05247413,  1.09696931,  1.14374949,  1.19317644,  1.24570419,\n",
       "          1.30191411,  1.36256869,  1.42869743,  1.50174123,  1.58381122,\n",
       "          1.67819304,  1.79044653,  1.93122778,  2.12570747,  2.46203784]),\n",
       "  array([-2.79351983e+01, -2.36728348e+01, -1.42250604e+01, -1.32724042e+01,\n",
       "         -9.05843279e+00, -7.20325235e+00, -7.10112089e+00, -6.01159807e+00,\n",
       "         -5.91175587e+00, -4.22458891e+00, -3.73449232e+00, -2.91920466e+00,\n",
       "         -2.59880649e+00, -2.40973696e+00, -2.22136718e+00, -1.99194284e+00,\n",
       "         -1.89919773e+00, -1.87203888e+00, -1.81959423e+00, -1.72472715e+00,\n",
       "         -1.46782457e+00, -1.44954670e+00, -1.37057539e+00, -1.27808904e+00,\n",
       "         -1.24620371e+00, -1.11113879e+00, -1.03518865e+00, -9.19015413e-01,\n",
       "         -7.66986152e-01, -7.26056816e-01, -7.12236143e-01, -6.96982989e-01,\n",
       "         -6.52679166e-01, -6.28172636e-01, -6.02712713e-01, -5.04231500e-01,\n",
       "         -3.87458673e-01, -3.68678226e-01, -3.38129955e-01, -3.33780588e-01,\n",
       "         -2.76294425e-01, -2.29526120e-01, -2.21256053e-01, -1.88743659e-01,\n",
       "         -1.26148746e-01, -4.01276187e-02, -9.07805263e-04,  7.77105451e-03,\n",
       "          5.54738626e-02,  1.51013714e-01,  1.94989713e-01,  2.28912563e-01,\n",
       "          2.92004358e-01,  3.05275418e-01,  3.14442796e-01,  3.71996774e-01,\n",
       "          3.92945387e-01,  4.49711187e-01,  4.85246173e-01,  4.95639522e-01,\n",
       "          5.09473426e-01,  5.46076372e-01,  5.50823342e-01,  5.77323234e-01,\n",
       "          6.09259299e-01,  6.50945620e-01,  6.60823308e-01,  8.00683191e-01,\n",
       "          8.20046490e-01,  8.51389572e-01,  8.55950246e-01,  8.61350128e-01,\n",
       "          9.06770543e-01,  9.42661303e-01,  9.80080342e-01,  1.00361609e+00,\n",
       "          1.07876187e+00,  1.17140819e+00,  1.31774800e+00,  1.33237145e+00,\n",
       "          1.36609517e+00,  1.52375144e+00,  1.52729533e+00,  1.65586487e+00,\n",
       "          1.71714892e+00,  1.91721212e+00,  2.19035976e+00,  2.67485221e+00,\n",
       "          2.94765566e+00,  3.06898302e+00,  3.19484643e+00,  3.23737641e+00,\n",
       "          4.23567867e+00,  4.76256733e+00,  5.67768469e+00,  6.40539134e+00,\n",
       "          1.36166572e+01,  1.96831347e+01,  6.65388693e+01,  8.32427709e+01])),\n",
       " (7.783602795845571, 0.9247113286975236, 0.6421779092490241))"
      ]
     },
     "execution_count": 14,
     "metadata": {},
     "output_type": "execute_result"
    },
    {
     "data": {
      "image/png": "[encoded data removed]",
      "text/plain": [
       "<Figure size 432x288 with 1 Axes>"
      ]
     },
     "metadata": {
      "needs_background": "light"
     },
     "output_type": "display_data"
    }
   ],
   "source": [
    "t_sample = sp.t.rvs(df = 1, size = 100)\n",
    "sp.probplot(t_sample, plot = plt)"
   ]
  },
  {
   "cell_type": "code",
   "execution_count": 15,
   "metadata": {},
   "outputs": [
    {
     "data": {
      "text/plain": [
       "<matplotlib.axes._subplots.AxesSubplot at 0x7fd0534abc40>"
      ]
     },
     "execution_count": 15,
     "metadata": {},
     "output_type": "execute_result"
    },
    {
     "data": {
      "image/png": "[encoded data removed]",
      "text/plain": [
       "<Figure size 432x288 with 1 Axes>"
      ]
     },
     "metadata": {
      "needs_background": "light"
     },
     "output_type": "display_data"
    }
   ],
   "source": [
    "pd.Series(t_sample).plot.density()"
   ]
  },
  {
   "cell_type": "markdown",
   "metadata": {},
   "source": [
    "## 5.4 Binomial distribution"
   ]
  },
  {
   "cell_type": "code",
   "execution_count": 16,
   "metadata": {},
   "outputs": [
    {
     "data": {
      "text/plain": [
       "<matplotlib.axes._subplots.AxesSubplot at 0x7fd053590040>"
      ]
     },
     "execution_count": 16,
     "metadata": {},
     "output_type": "execute_result"
    },
    {
     "data": {
      "image/png": "[encoded data removed]",
      "text/plain": [
       "<Figure size 432x288 with 1 Axes>"
      ]
     },
     "metadata": {
      "needs_background": "light"
     },
     "output_type": "display_data"
    }
   ],
   "source": [
    "binomial_sample = sp.binom.rvs(n = 5, p = 0.1, size = 100)\n",
    "pd.Series(binomial_sample).plot.hist()"
   ]
  },
  {
   "cell_type": "code",
   "execution_count": 17,
   "metadata": {},
   "outputs": [
    {
     "data": {
      "text/plain": [
       "0.0729"
      ]
     },
     "execution_count": 17,
     "metadata": {},
     "output_type": "execute_result"
    }
   ],
   "source": [
    "sp.binom.pmf(k = 2, n = 5, p = 0.1)"
   ]
  },
  {
   "cell_type": "code",
   "execution_count": 18,
   "metadata": {},
   "outputs": [
    {
     "data": {
      "text/plain": [
       "0.99144"
      ]
     },
     "execution_count": 18,
     "metadata": {},
     "output_type": "execute_result"
    }
   ],
   "source": [
    "sp.binom.cdf(k = 2, n = 5, p = 0.1)"
   ]
  },
  {
   "cell_type": "markdown",
   "metadata": {},
   "source": [
    "## 5.5 Chi-square distribution"
   ]
  },
  {
   "cell_type": "code",
   "execution_count": 19,
   "metadata": {},
   "outputs": [
    {
     "data": {
      "text/plain": [
       "<matplotlib.axes._subplots.AxesSubplot at 0x7fd0540c17f0>"
      ]
     },
     "execution_count": 19,
     "metadata": {},
     "output_type": "execute_result"
    },
    {
     "data": {
      "image/png": "[encoded data removed]",
      "text/plain": [
       "<Figure size 432x288 with 1 Axes>"
      ]
     },
     "metadata": {
      "needs_background": "light"
     },
     "output_type": "display_data"
    }
   ],
   "source": [
    "chi2_sample = sp.chi2.rvs(df = 2, size = 100)\n",
    "pd.Series(chi2_sample).plot.hist()"
   ]
  },
  {
   "cell_type": "markdown",
   "metadata": {},
   "source": [
    "## 5.6 F-distribution"
   ]
  },
  {
   "cell_type": "code",
   "execution_count": 20,
   "metadata": {},
   "outputs": [
    {
     "data": {
      "text/plain": [
       "<matplotlib.axes._subplots.AxesSubplot at 0x7fd05429e820>"
      ]
     },
     "execution_count": 20,
     "metadata": {},
     "output_type": "execute_result"
    },
    {
     "data": {
      "image/png": "[encoded data removed]",
      "text/plain": [
       "<Figure size 432x288 with 1 Axes>"
      ]
     },
     "metadata": {
      "needs_background": "light"
     },
     "output_type": "display_data"
    }
   ],
   "source": [
    "f_sample = sp.f.rvs(dfn = 20, dfd = 20, size = 100)\n",
    "pd.Series(f_sample).plot.density()"
   ]
  },
  {
   "cell_type": "markdown",
   "metadata": {},
   "source": [
    "## 5.7 Poisson distributions"
   ]
  },
  {
   "cell_type": "markdown",
   "metadata": {},
   "source": [
    "### Poisson"
   ]
  },
  {
   "cell_type": "code",
   "execution_count": 21,
   "metadata": {},
   "outputs": [
    {
     "data": {
      "text/plain": [
       "<matplotlib.axes._subplots.AxesSubplot at 0x7fd05449c700>"
      ]
     },
     "execution_count": 21,
     "metadata": {},
     "output_type": "execute_result"
    },
    {
     "data": {
      "image/png": "[encoded data removed]",
      "text/plain": [
       "<Figure size 432x288 with 1 Axes>"
      ]
     },
     "metadata": {
      "needs_background": "light"
     },
     "output_type": "display_data"
    }
   ],
   "source": [
    "poisson_sample = sp.poisson.rvs(mu = 2, size = 100)\n",
    "pd.Series(poisson_sample).plot.hist()"
   ]
  },
  {
   "cell_type": "markdown",
   "metadata": {},
   "source": [
    "### Exponential"
   ]
  },
  {
   "cell_type": "code",
   "execution_count": 22,
   "metadata": {},
   "outputs": [
    {
     "data": {
      "text/plain": [
       "<matplotlib.axes._subplots.AxesSubplot at 0x7fd054556970>"
      ]
     },
     "execution_count": 22,
     "metadata": {},
     "output_type": "execute_result"
    },
    {
     "data": {
      "image/png": "[encoded data removed]",
      "text/plain": [
       "<Figure size 432x288 with 1 Axes>"
      ]
     },
     "metadata": {
      "needs_background": "light"
     },
     "output_type": "display_data"
    }
   ],
   "source": [
    "expon_sample = sp.expon.rvs(size = 100)\n",
    "pd.Series(expon_sample).plot.density()"
   ]
  },
  {
   "cell_type": "markdown",
   "metadata": {},
   "source": [
    "### Weibull"
   ]
  },
  {
   "cell_type": "code",
   "execution_count": 23,
   "metadata": {},
   "outputs": [
    {
     "data": {
      "text/plain": [
       "<matplotlib.axes._subplots.AxesSubplot at 0x7fd0546a7c70>"
      ]
     },
     "execution_count": 23,
     "metadata": {},
     "output_type": "execute_result"
    },
    {
     "data": {
      "image/png": "[encoded data removed]",
      "text/plain": [
       "<Figure size 432x288 with 1 Axes>"
      ]
     },
     "metadata": {
      "needs_background": "light"
     },
     "output_type": "display_data"
    }
   ],
   "source": [
    "weibull_sample = sp.weibull_min.rvs(c = 1.5, size = 100)\n",
    "pd.Series(weibull_sample).plot.density()"
   ]
  },
  {
   "cell_type": "markdown",
   "metadata": {},
   "source": [
    "# 6. Statistical Experiments and Significance Testing"
   ]
  },
  {
   "cell_type": "markdown",
   "metadata": {},
   "source": [
    "https://towardsdatascience.com/the-math-behind-a-b-testing-with-example-code-part-1-of-2-7be752e1d06f"
   ]
  },
  {
   "cell_type": "markdown",
   "metadata": {},
   "source": [
    "## 6.1 Hypothesis tests"
   ]
  },
  {
   "cell_type": "markdown",
   "metadata": {},
   "source": [
    "## 6.2 Resampling"
   ]
  },
  {
   "cell_type": "markdown",
   "metadata": {},
   "source": [
    "### Permutation"
   ]
  },
  {
   "cell_type": "code",
   "execution_count": 24,
   "metadata": {},
   "outputs": [
    {
     "data": {
      "text/html": [
       "<div>\n",
       "<style scoped>\n",
       "    .dataframe tbody tr th:only-of-type {\n",
       "        vertical-align: middle;\n",
       "    }\n",
       "\n",
       "    .dataframe tbody tr th {\n",
       "        vertical-align: top;\n",
       "    }\n",
       "\n",
       "    .dataframe thead th {\n",
       "        text-align: right;\n",
       "    }\n",
       "</style>\n",
       "<table border=\"1\" class=\"dataframe\">\n",
       "  <thead>\n",
       "    <tr style=\"text-align: right;\">\n",
       "      <th></th>\n",
       "      <th>Page</th>\n",
       "      <th>Time</th>\n",
       "    </tr>\n",
       "  </thead>\n",
       "  <tbody>\n",
       "    <tr>\n",
       "      <th>0</th>\n",
       "      <td>Page A</td>\n",
       "      <td>0.21</td>\n",
       "    </tr>\n",
       "    <tr>\n",
       "      <th>1</th>\n",
       "      <td>Page B</td>\n",
       "      <td>2.53</td>\n",
       "    </tr>\n",
       "    <tr>\n",
       "      <th>2</th>\n",
       "      <td>Page A</td>\n",
       "      <td>0.35</td>\n",
       "    </tr>\n",
       "    <tr>\n",
       "      <th>3</th>\n",
       "      <td>Page B</td>\n",
       "      <td>0.71</td>\n",
       "    </tr>\n",
       "    <tr>\n",
       "      <th>4</th>\n",
       "      <td>Page A</td>\n",
       "      <td>0.67</td>\n",
       "    </tr>\n",
       "    <tr>\n",
       "      <th>5</th>\n",
       "      <td>Page B</td>\n",
       "      <td>0.85</td>\n",
       "    </tr>\n",
       "    <tr>\n",
       "      <th>6</th>\n",
       "      <td>Page A</td>\n",
       "      <td>2.11</td>\n",
       "    </tr>\n",
       "    <tr>\n",
       "      <th>7</th>\n",
       "      <td>Page B</td>\n",
       "      <td>2.46</td>\n",
       "    </tr>\n",
       "    <tr>\n",
       "      <th>8</th>\n",
       "      <td>Page A</td>\n",
       "      <td>1.32</td>\n",
       "    </tr>\n",
       "    <tr>\n",
       "      <th>9</th>\n",
       "      <td>Page B</td>\n",
       "      <td>1.49</td>\n",
       "    </tr>\n",
       "    <tr>\n",
       "      <th>10</th>\n",
       "      <td>Page A</td>\n",
       "      <td>0.68</td>\n",
       "    </tr>\n",
       "    <tr>\n",
       "      <th>11</th>\n",
       "      <td>Page B</td>\n",
       "      <td>0.75</td>\n",
       "    </tr>\n",
       "    <tr>\n",
       "      <th>12</th>\n",
       "      <td>Page A</td>\n",
       "      <td>3.21</td>\n",
       "    </tr>\n",
       "    <tr>\n",
       "      <th>13</th>\n",
       "      <td>Page B</td>\n",
       "      <td>3.33</td>\n",
       "    </tr>\n",
       "    <tr>\n",
       "      <th>14</th>\n",
       "      <td>Page A</td>\n",
       "      <td>1.47</td>\n",
       "    </tr>\n",
       "    <tr>\n",
       "      <th>15</th>\n",
       "      <td>Page B</td>\n",
       "      <td>1.87</td>\n",
       "    </tr>\n",
       "    <tr>\n",
       "      <th>16</th>\n",
       "      <td>Page A</td>\n",
       "      <td>0.95</td>\n",
       "    </tr>\n",
       "    <tr>\n",
       "      <th>17</th>\n",
       "      <td>Page B</td>\n",
       "      <td>1.26</td>\n",
       "    </tr>\n",
       "    <tr>\n",
       "      <th>18</th>\n",
       "      <td>Page A</td>\n",
       "      <td>0.45</td>\n",
       "    </tr>\n",
       "    <tr>\n",
       "      <th>19</th>\n",
       "      <td>Page B</td>\n",
       "      <td>0.48</td>\n",
       "    </tr>\n",
       "    <tr>\n",
       "      <th>20</th>\n",
       "      <td>Page A</td>\n",
       "      <td>1.18</td>\n",
       "    </tr>\n",
       "    <tr>\n",
       "      <th>21</th>\n",
       "      <td>Page B</td>\n",
       "      <td>1.47</td>\n",
       "    </tr>\n",
       "    <tr>\n",
       "      <th>22</th>\n",
       "      <td>Page A</td>\n",
       "      <td>3.42</td>\n",
       "    </tr>\n",
       "    <tr>\n",
       "      <th>23</th>\n",
       "      <td>Page B</td>\n",
       "      <td>3.57</td>\n",
       "    </tr>\n",
       "    <tr>\n",
       "      <th>24</th>\n",
       "      <td>Page A</td>\n",
       "      <td>1.97</td>\n",
       "    </tr>\n",
       "    <tr>\n",
       "      <th>25</th>\n",
       "      <td>Page B</td>\n",
       "      <td>2.23</td>\n",
       "    </tr>\n",
       "    <tr>\n",
       "      <th>26</th>\n",
       "      <td>Page A</td>\n",
       "      <td>0.39</td>\n",
       "    </tr>\n",
       "    <tr>\n",
       "      <th>27</th>\n",
       "      <td>Page B</td>\n",
       "      <td>0.43</td>\n",
       "    </tr>\n",
       "    <tr>\n",
       "      <th>28</th>\n",
       "      <td>Page A</td>\n",
       "      <td>0.65</td>\n",
       "    </tr>\n",
       "    <tr>\n",
       "      <th>29</th>\n",
       "      <td>Page B</td>\n",
       "      <td>0.87</td>\n",
       "    </tr>\n",
       "    <tr>\n",
       "      <th>30</th>\n",
       "      <td>Page A</td>\n",
       "      <td>1.73</td>\n",
       "    </tr>\n",
       "    <tr>\n",
       "      <th>31</th>\n",
       "      <td>Page A</td>\n",
       "      <td>0.74</td>\n",
       "    </tr>\n",
       "    <tr>\n",
       "      <th>32</th>\n",
       "      <td>Page A</td>\n",
       "      <td>0.86</td>\n",
       "    </tr>\n",
       "    <tr>\n",
       "      <th>33</th>\n",
       "      <td>Page A</td>\n",
       "      <td>1.18</td>\n",
       "    </tr>\n",
       "    <tr>\n",
       "      <th>34</th>\n",
       "      <td>Page A</td>\n",
       "      <td>2.06</td>\n",
       "    </tr>\n",
       "    <tr>\n",
       "      <th>35</th>\n",
       "      <td>Page A</td>\n",
       "      <td>0.93</td>\n",
       "    </tr>\n",
       "  </tbody>\n",
       "</table>\n",
       "</div>"
      ],
      "text/plain": [
       "      Page  Time\n",
       "0   Page A  0.21\n",
       "1   Page B  2.53\n",
       "2   Page A  0.35\n",
       "3   Page B  0.71\n",
       "4   Page A  0.67\n",
       "5   Page B  0.85\n",
       "6   Page A  2.11\n",
       "7   Page B  2.46\n",
       "8   Page A  1.32\n",
       "9   Page B  1.49\n",
       "10  Page A  0.68\n",
       "11  Page B  0.75\n",
       "12  Page A  3.21\n",
       "13  Page B  3.33\n",
       "14  Page A  1.47\n",
       "15  Page B  1.87\n",
       "16  Page A  0.95\n",
       "17  Page B  1.26\n",
       "18  Page A  0.45\n",
       "19  Page B  0.48\n",
       "20  Page A  1.18\n",
       "21  Page B  1.47\n",
       "22  Page A  3.42\n",
       "23  Page B  3.57\n",
       "24  Page A  1.97\n",
       "25  Page B  2.23\n",
       "26  Page A  0.39\n",
       "27  Page B  0.43\n",
       "28  Page A  0.65\n",
       "29  Page B  0.87\n",
       "30  Page A  1.73\n",
       "31  Page A  0.74\n",
       "32  Page A  0.86\n",
       "33  Page A  1.18\n",
       "34  Page A  2.06\n",
       "35  Page A  0.93"
      ]
     },
     "execution_count": 24,
     "metadata": {},
     "output_type": "execute_result"
    }
   ],
   "source": [
    "df = pd.DataFrame(\n",
    "    {'Page':['Page A', 'Page B', 'Page A', 'Page B', 'Page A', 'Page B',\n",
    "             'Page A', 'Page B', 'Page A', 'Page B', 'Page A', 'Page B',\n",
    "             'Page A', 'Page B', 'Page A', 'Page B', 'Page A', 'Page B',\n",
    "             'Page A', 'Page B', 'Page A', 'Page B', 'Page A', 'Page B',\n",
    "             'Page A', 'Page B', 'Page A', 'Page B', 'Page A', 'Page B',\n",
    "             'Page A', 'Page A', 'Page A', 'Page A', 'Page A', 'Page A'],\n",
    "    'Time':[0.21, 2.53, 0.35, 0.71, 0.67, 0.85, 2.11, 2.46, 1.32, 1.49, 0.68,\n",
    "            0.75, 3.21, 3.33, 1.47, 1.87, 0.95, 1.26, 0.45, 0.48, 1.18, 1.47,\n",
    "            3.42, 3.57, 1.97, 2.23, 0.39, 0.43, 0.65, 0.87, 1.73, 0.74, 0.86,\n",
    "            1.18, 2.06, 0.93]})\n",
    "df"
   ]
  },
  {
   "cell_type": "code",
   "execution_count": 25,
   "metadata": {},
   "outputs": [
    {
     "data": {
      "text/plain": [
       "Page A    21\n",
       "Page B    15\n",
       "Name: Page, dtype: int64"
      ]
     },
     "execution_count": 25,
     "metadata": {},
     "output_type": "execute_result"
    }
   ],
   "source": [
    "df.Page.value_counts()"
   ]
  },
  {
   "cell_type": "code",
   "execution_count": 26,
   "metadata": {},
   "outputs": [
    {
     "data": {
      "text/plain": [
       "<matplotlib.axes._subplots.AxesSubplot at 0x7fd054fc9ac0>"
      ]
     },
     "execution_count": 26,
     "metadata": {},
     "output_type": "execute_result"
    },
    {
     "data": {
      "image/png": "[encoded data removed]",
      "text/plain": [
       "<Figure size 432x288 with 1 Axes>"
      ]
     },
     "metadata": {
      "needs_background": "light"
     },
     "output_type": "display_data"
    }
   ],
   "source": [
    "df.boxplot(by = 'Page', column = 'Time')"
   ]
  },
  {
   "cell_type": "code",
   "execution_count": 27,
   "metadata": {},
   "outputs": [
    {
     "data": {
      "text/plain": [
       "(1.2633333333333332, 1.62)"
      ]
     },
     "execution_count": 27,
     "metadata": {},
     "output_type": "execute_result"
    }
   ],
   "source": [
    "mean_a = df[df.Page == 'Page A'].Time.mean()\n",
    "mean_b = df[df.Page == 'Page B'].Time.mean()\n",
    "mean_a, mean_b"
   ]
  },
  {
   "cell_type": "code",
   "execution_count": 28,
   "metadata": {},
   "outputs": [
    {
     "data": {
      "application/vnd.jupyter.widget-view+json": {
       "model_id": "25d500171f3148d2a945469ec405a81e",
       "version_major": 2,
       "version_minor": 0
      },
      "text/plain": [
       "HBox(children=(FloatProgress(value=0.0, max=1000.0), HTML(value='')))"
      ]
     },
     "metadata": {},
     "output_type": "display_data"
    },
    {
     "name": "stdout",
     "output_type": "stream",
     "text": [
      "\n"
     ]
    },
    {
     "data": {
      "image/png": "[encoded data removed]",
      "text/plain": [
       "<Figure size 360x360 with 1 Axes>"
      ]
     },
     "metadata": {
      "needs_background": "light"
     },
     "output_type": "display_data"
    }
   ],
   "source": [
    "def perm_fun(x, nA, nB):\n",
    "    n = nA + nB\n",
    "    idx_B = set(random.sample(population = range(n), k = nB))\n",
    "    idx_A = set(range(n)) - idx_B\n",
    "    return x.loc[idx_B].mean() - x.loc[idx_A].mean()\n",
    "\n",
    "nA = df[df.Page == 'Page A'].shape[0]\n",
    "nB = df[df.Page == 'Page B'].shape[0]\n",
    "\n",
    "perm_diffs = [perm_fun(df.Time, nA, nB) for _ in trange(1000)]\n",
    "\n",
    "fig, ax = plt.subplots(figsize = (5,5))\n",
    "ax.hist(perm_diffs, bins = 11, rwidth = 0.9)\n",
    "ax.axvline(x = mean_b - mean_a, color = 'black', lw = 2)\n",
    "ax.set_xlabel('Session time differences')\n",
    "ax.set_ylabel('Frequency')\n",
    "plt.show()"
   ]
  },
  {
   "cell_type": "code",
   "execution_count": 29,
   "metadata": {},
   "outputs": [
    {
     "name": "stdout",
     "output_type": "stream",
     "text": [
      "p-value: 0.139\n"
     ]
    }
   ],
   "source": [
    "print(f'p-value: {np.mean(perm_diffs > mean_b - mean_a)}')"
   ]
  },
  {
   "cell_type": "markdown",
   "metadata": {},
   "source": [
    "## 6.3 Statistical significance and p-values"
   ]
  },
  {
   "cell_type": "markdown",
   "metadata": {},
   "source": [
    "Outcome | Price A | Price B\n",
    "\n",
    "Conversion | 200 | 182\n",
    "\n",
    "No conversion | 23,539 | 22,406"
   ]
  },
  {
   "cell_type": "code",
   "execution_count": 30,
   "metadata": {},
   "outputs": [
    {
     "data": {
      "text/plain": [
       "0.03675791182059275"
      ]
     },
     "execution_count": 30,
     "metadata": {},
     "output_type": "execute_result"
    }
   ],
   "source": [
    "obs_pct_diff = 100 * (200 / 23739 - 182 / 22588)\n",
    "obs_pct_diff"
   ]
  },
  {
   "cell_type": "code",
   "execution_count": 31,
   "metadata": {},
   "outputs": [
    {
     "data": {
      "application/vnd.jupyter.widget-view+json": {
       "model_id": "d2759fa2abed4b9ab120bb638e4fa5a0",
       "version_major": 2,
       "version_minor": 0
      },
      "text/plain": [
       "HBox(children=(FloatProgress(value=0.0, max=1000.0), HTML(value='')))"
      ]
     },
     "metadata": {},
     "output_type": "display_data"
    },
    {
     "name": "stdout",
     "output_type": "stream",
     "text": [
      "\n"
     ]
    },
    {
     "data": {
      "image/png": "[encoded data removed]",
      "text/plain": [
       "<Figure size 360x360 with 1 Axes>"
      ]
     },
     "metadata": {
      "needs_background": "light"
     },
     "output_type": "display_data"
    }
   ],
   "source": [
    "conversion = [0] * 45945\n",
    "conversion.extend([1] * 382)\n",
    "df = pd.Series(conversion)\n",
    "\n",
    "perm_diffs = [100 * perm_fun(df, 23739, 22588) for _ in trange(1000)]\n",
    "\n",
    "fig, ax = plt.subplots(figsize = (5,5))\n",
    "ax.hist(perm_diffs, bins = 11, rwidth = 0.9)\n",
    "ax.axvline(x = obs_pct_diff, color = 'black', lw = 2)\n",
    "ax.set_xlabel('Conversion rate (percent)')\n",
    "ax.set_ylabel('Frequency')\n",
    "plt.show()"
   ]
  },
  {
   "cell_type": "code",
   "execution_count": 32,
   "metadata": {},
   "outputs": [
    {
     "name": "stdout",
     "output_type": "stream",
     "text": [
      "p-value: 0.328\n"
     ]
    }
   ],
   "source": [
    "print(f'p-value: {np.mean(np.array(perm_diffs) > obs_pct_diff)}')"
   ]
  },
  {
   "cell_type": "code",
   "execution_count": 33,
   "metadata": {},
   "outputs": [
    {
     "name": "stdout",
     "output_type": "stream",
     "text": [
      "p-value for single sided test: 0.3498\n"
     ]
    }
   ],
   "source": [
    "survivors = np.array([[200, 23739 - 200], [182, 22588 - 182]])\n",
    "chi2, p_value, df, _ = sp.chi2_contingency(survivors)\n",
    "print(f'p-value for single sided test: {p_value / 2:.4f}')"
   ]
  },
  {
   "cell_type": "markdown",
   "metadata": {},
   "source": [
    "## 6.4 t-tests"
   ]
  },
  {
   "cell_type": "code",
   "execution_count": 34,
   "metadata": {},
   "outputs": [
    {
     "data": {
      "text/html": [
       "<div>\n",
       "<style scoped>\n",
       "    .dataframe tbody tr th:only-of-type {\n",
       "        vertical-align: middle;\n",
       "    }\n",
       "\n",
       "    .dataframe tbody tr th {\n",
       "        vertical-align: top;\n",
       "    }\n",
       "\n",
       "    .dataframe thead th {\n",
       "        text-align: right;\n",
       "    }\n",
       "</style>\n",
       "<table border=\"1\" class=\"dataframe\">\n",
       "  <thead>\n",
       "    <tr style=\"text-align: right;\">\n",
       "      <th></th>\n",
       "      <th>Page</th>\n",
       "      <th>Time</th>\n",
       "    </tr>\n",
       "  </thead>\n",
       "  <tbody>\n",
       "    <tr>\n",
       "      <th>0</th>\n",
       "      <td>Page A</td>\n",
       "      <td>0.21</td>\n",
       "    </tr>\n",
       "    <tr>\n",
       "      <th>1</th>\n",
       "      <td>Page B</td>\n",
       "      <td>2.53</td>\n",
       "    </tr>\n",
       "    <tr>\n",
       "      <th>2</th>\n",
       "      <td>Page A</td>\n",
       "      <td>0.35</td>\n",
       "    </tr>\n",
       "    <tr>\n",
       "      <th>3</th>\n",
       "      <td>Page B</td>\n",
       "      <td>0.71</td>\n",
       "    </tr>\n",
       "    <tr>\n",
       "      <th>4</th>\n",
       "      <td>Page A</td>\n",
       "      <td>0.67</td>\n",
       "    </tr>\n",
       "    <tr>\n",
       "      <th>5</th>\n",
       "      <td>Page B</td>\n",
       "      <td>0.85</td>\n",
       "    </tr>\n",
       "    <tr>\n",
       "      <th>6</th>\n",
       "      <td>Page A</td>\n",
       "      <td>2.11</td>\n",
       "    </tr>\n",
       "    <tr>\n",
       "      <th>7</th>\n",
       "      <td>Page B</td>\n",
       "      <td>2.46</td>\n",
       "    </tr>\n",
       "    <tr>\n",
       "      <th>8</th>\n",
       "      <td>Page A</td>\n",
       "      <td>1.32</td>\n",
       "    </tr>\n",
       "    <tr>\n",
       "      <th>9</th>\n",
       "      <td>Page B</td>\n",
       "      <td>1.49</td>\n",
       "    </tr>\n",
       "    <tr>\n",
       "      <th>10</th>\n",
       "      <td>Page A</td>\n",
       "      <td>0.68</td>\n",
       "    </tr>\n",
       "    <tr>\n",
       "      <th>11</th>\n",
       "      <td>Page B</td>\n",
       "      <td>0.75</td>\n",
       "    </tr>\n",
       "    <tr>\n",
       "      <th>12</th>\n",
       "      <td>Page A</td>\n",
       "      <td>3.21</td>\n",
       "    </tr>\n",
       "    <tr>\n",
       "      <th>13</th>\n",
       "      <td>Page B</td>\n",
       "      <td>3.33</td>\n",
       "    </tr>\n",
       "    <tr>\n",
       "      <th>14</th>\n",
       "      <td>Page A</td>\n",
       "      <td>1.47</td>\n",
       "    </tr>\n",
       "    <tr>\n",
       "      <th>15</th>\n",
       "      <td>Page B</td>\n",
       "      <td>1.87</td>\n",
       "    </tr>\n",
       "    <tr>\n",
       "      <th>16</th>\n",
       "      <td>Page A</td>\n",
       "      <td>0.95</td>\n",
       "    </tr>\n",
       "    <tr>\n",
       "      <th>17</th>\n",
       "      <td>Page B</td>\n",
       "      <td>1.26</td>\n",
       "    </tr>\n",
       "    <tr>\n",
       "      <th>18</th>\n",
       "      <td>Page A</td>\n",
       "      <td>0.45</td>\n",
       "    </tr>\n",
       "    <tr>\n",
       "      <th>19</th>\n",
       "      <td>Page B</td>\n",
       "      <td>0.48</td>\n",
       "    </tr>\n",
       "    <tr>\n",
       "      <th>20</th>\n",
       "      <td>Page A</td>\n",
       "      <td>1.18</td>\n",
       "    </tr>\n",
       "    <tr>\n",
       "      <th>21</th>\n",
       "      <td>Page B</td>\n",
       "      <td>1.47</td>\n",
       "    </tr>\n",
       "    <tr>\n",
       "      <th>22</th>\n",
       "      <td>Page A</td>\n",
       "      <td>3.42</td>\n",
       "    </tr>\n",
       "    <tr>\n",
       "      <th>23</th>\n",
       "      <td>Page B</td>\n",
       "      <td>3.57</td>\n",
       "    </tr>\n",
       "    <tr>\n",
       "      <th>24</th>\n",
       "      <td>Page A</td>\n",
       "      <td>1.97</td>\n",
       "    </tr>\n",
       "    <tr>\n",
       "      <th>25</th>\n",
       "      <td>Page B</td>\n",
       "      <td>2.23</td>\n",
       "    </tr>\n",
       "    <tr>\n",
       "      <th>26</th>\n",
       "      <td>Page A</td>\n",
       "      <td>0.39</td>\n",
       "    </tr>\n",
       "    <tr>\n",
       "      <th>27</th>\n",
       "      <td>Page B</td>\n",
       "      <td>0.43</td>\n",
       "    </tr>\n",
       "    <tr>\n",
       "      <th>28</th>\n",
       "      <td>Page A</td>\n",
       "      <td>0.65</td>\n",
       "    </tr>\n",
       "    <tr>\n",
       "      <th>29</th>\n",
       "      <td>Page B</td>\n",
       "      <td>0.87</td>\n",
       "    </tr>\n",
       "    <tr>\n",
       "      <th>30</th>\n",
       "      <td>Page A</td>\n",
       "      <td>1.73</td>\n",
       "    </tr>\n",
       "    <tr>\n",
       "      <th>31</th>\n",
       "      <td>Page A</td>\n",
       "      <td>0.74</td>\n",
       "    </tr>\n",
       "    <tr>\n",
       "      <th>32</th>\n",
       "      <td>Page A</td>\n",
       "      <td>0.86</td>\n",
       "    </tr>\n",
       "    <tr>\n",
       "      <th>33</th>\n",
       "      <td>Page A</td>\n",
       "      <td>1.18</td>\n",
       "    </tr>\n",
       "    <tr>\n",
       "      <th>34</th>\n",
       "      <td>Page A</td>\n",
       "      <td>2.06</td>\n",
       "    </tr>\n",
       "    <tr>\n",
       "      <th>35</th>\n",
       "      <td>Page A</td>\n",
       "      <td>0.93</td>\n",
       "    </tr>\n",
       "  </tbody>\n",
       "</table>\n",
       "</div>"
      ],
      "text/plain": [
       "      Page  Time\n",
       "0   Page A  0.21\n",
       "1   Page B  2.53\n",
       "2   Page A  0.35\n",
       "3   Page B  0.71\n",
       "4   Page A  0.67\n",
       "5   Page B  0.85\n",
       "6   Page A  2.11\n",
       "7   Page B  2.46\n",
       "8   Page A  1.32\n",
       "9   Page B  1.49\n",
       "10  Page A  0.68\n",
       "11  Page B  0.75\n",
       "12  Page A  3.21\n",
       "13  Page B  3.33\n",
       "14  Page A  1.47\n",
       "15  Page B  1.87\n",
       "16  Page A  0.95\n",
       "17  Page B  1.26\n",
       "18  Page A  0.45\n",
       "19  Page B  0.48\n",
       "20  Page A  1.18\n",
       "21  Page B  1.47\n",
       "22  Page A  3.42\n",
       "23  Page B  3.57\n",
       "24  Page A  1.97\n",
       "25  Page B  2.23\n",
       "26  Page A  0.39\n",
       "27  Page B  0.43\n",
       "28  Page A  0.65\n",
       "29  Page B  0.87\n",
       "30  Page A  1.73\n",
       "31  Page A  0.74\n",
       "32  Page A  0.86\n",
       "33  Page A  1.18\n",
       "34  Page A  2.06\n",
       "35  Page A  0.93"
      ]
     },
     "execution_count": 34,
     "metadata": {},
     "output_type": "execute_result"
    }
   ],
   "source": [
    "df = pd.DataFrame(\n",
    "    {'Page':['Page A', 'Page B', 'Page A', 'Page B', 'Page A', 'Page B',\n",
    "             'Page A', 'Page B', 'Page A', 'Page B', 'Page A', 'Page B',\n",
    "             'Page A', 'Page B', 'Page A', 'Page B', 'Page A', 'Page B',\n",
    "             'Page A', 'Page B', 'Page A', 'Page B', 'Page A', 'Page B',\n",
    "             'Page A', 'Page B', 'Page A', 'Page B', 'Page A', 'Page B',\n",
    "             'Page A', 'Page A', 'Page A', 'Page A', 'Page A', 'Page A'],\n",
    "    'Time':[0.21, 2.53, 0.35, 0.71, 0.67, 0.85, 2.11, 2.46, 1.32, 1.49, 0.68,\n",
    "            0.75, 3.21, 3.33, 1.47, 1.87, 0.95, 1.26, 0.45, 0.48, 1.18, 1.47,\n",
    "            3.42, 3.57, 1.97, 2.23, 0.39, 0.43, 0.65, 0.87, 1.73, 0.74, 0.86,\n",
    "            1.18, 2.06, 0.93]})\n",
    "df"
   ]
  },
  {
   "cell_type": "code",
   "execution_count": 35,
   "metadata": {},
   "outputs": [
    {
     "name": "stdout",
     "output_type": "stream",
     "text": [
      "formula p-value for single sided test: 0.1408\n"
     ]
    }
   ],
   "source": [
    "res = sp.ttest_ind(df[df.Page == 'Page A'].Time,\n",
    "                   df[df.Page == 'Page B'].Time,\n",
    "                   equal_var = False)\n",
    "print(f'formula p-value for single sided test: {res.pvalue / 2:.4f}')"
   ]
  },
  {
   "cell_type": "markdown",
   "metadata": {},
   "source": [
    "## 6.5 Multiple testing"
   ]
  },
  {
   "cell_type": "markdown",
   "metadata": {},
   "source": [
    "## 6.6 Degrees of freedom"
   ]
  },
  {
   "cell_type": "markdown",
   "metadata": {},
   "source": [
    "## 6.7 ANOVA"
   ]
  },
  {
   "cell_type": "code",
   "execution_count": 36,
   "metadata": {},
   "outputs": [
    {
     "data": {
      "text/html": [
       "<div>\n",
       "<style scoped>\n",
       "    .dataframe tbody tr th:only-of-type {\n",
       "        vertical-align: middle;\n",
       "    }\n",
       "\n",
       "    .dataframe tbody tr th {\n",
       "        vertical-align: top;\n",
       "    }\n",
       "\n",
       "    .dataframe thead th {\n",
       "        text-align: right;\n",
       "    }\n",
       "</style>\n",
       "<table border=\"1\" class=\"dataframe\">\n",
       "  <thead>\n",
       "    <tr style=\"text-align: right;\">\n",
       "      <th></th>\n",
       "      <th>Page</th>\n",
       "      <th>Time</th>\n",
       "    </tr>\n",
       "  </thead>\n",
       "  <tbody>\n",
       "    <tr>\n",
       "      <th>0</th>\n",
       "      <td>Page 1</td>\n",
       "      <td>164</td>\n",
       "    </tr>\n",
       "    <tr>\n",
       "      <th>1</th>\n",
       "      <td>Page 2</td>\n",
       "      <td>178</td>\n",
       "    </tr>\n",
       "    <tr>\n",
       "      <th>2</th>\n",
       "      <td>Page 3</td>\n",
       "      <td>175</td>\n",
       "    </tr>\n",
       "    <tr>\n",
       "      <th>3</th>\n",
       "      <td>Page 4</td>\n",
       "      <td>155</td>\n",
       "    </tr>\n",
       "    <tr>\n",
       "      <th>4</th>\n",
       "      <td>Page 1</td>\n",
       "      <td>172</td>\n",
       "    </tr>\n",
       "    <tr>\n",
       "      <th>5</th>\n",
       "      <td>Page 2</td>\n",
       "      <td>191</td>\n",
       "    </tr>\n",
       "    <tr>\n",
       "      <th>6</th>\n",
       "      <td>Page 3</td>\n",
       "      <td>193</td>\n",
       "    </tr>\n",
       "    <tr>\n",
       "      <th>7</th>\n",
       "      <td>Page 4</td>\n",
       "      <td>166</td>\n",
       "    </tr>\n",
       "    <tr>\n",
       "      <th>8</th>\n",
       "      <td>Page 1</td>\n",
       "      <td>177</td>\n",
       "    </tr>\n",
       "    <tr>\n",
       "      <th>9</th>\n",
       "      <td>Page 2</td>\n",
       "      <td>182</td>\n",
       "    </tr>\n",
       "    <tr>\n",
       "      <th>10</th>\n",
       "      <td>Page 3</td>\n",
       "      <td>171</td>\n",
       "    </tr>\n",
       "    <tr>\n",
       "      <th>11</th>\n",
       "      <td>Page 4</td>\n",
       "      <td>164</td>\n",
       "    </tr>\n",
       "    <tr>\n",
       "      <th>12</th>\n",
       "      <td>Page 1</td>\n",
       "      <td>156</td>\n",
       "    </tr>\n",
       "    <tr>\n",
       "      <th>13</th>\n",
       "      <td>Page 2</td>\n",
       "      <td>185</td>\n",
       "    </tr>\n",
       "    <tr>\n",
       "      <th>14</th>\n",
       "      <td>Page 3</td>\n",
       "      <td>163</td>\n",
       "    </tr>\n",
       "    <tr>\n",
       "      <th>15</th>\n",
       "      <td>Page 4</td>\n",
       "      <td>170</td>\n",
       "    </tr>\n",
       "    <tr>\n",
       "      <th>16</th>\n",
       "      <td>Page 1</td>\n",
       "      <td>195</td>\n",
       "    </tr>\n",
       "    <tr>\n",
       "      <th>17</th>\n",
       "      <td>Page 2</td>\n",
       "      <td>177</td>\n",
       "    </tr>\n",
       "    <tr>\n",
       "      <th>18</th>\n",
       "      <td>Page 3</td>\n",
       "      <td>176</td>\n",
       "    </tr>\n",
       "    <tr>\n",
       "      <th>19</th>\n",
       "      <td>Page 4</td>\n",
       "      <td>168</td>\n",
       "    </tr>\n",
       "  </tbody>\n",
       "</table>\n",
       "</div>"
      ],
      "text/plain": [
       "      Page  Time\n",
       "0   Page 1   164\n",
       "1   Page 2   178\n",
       "2   Page 3   175\n",
       "3   Page 4   155\n",
       "4   Page 1   172\n",
       "5   Page 2   191\n",
       "6   Page 3   193\n",
       "7   Page 4   166\n",
       "8   Page 1   177\n",
       "9   Page 2   182\n",
       "10  Page 3   171\n",
       "11  Page 4   164\n",
       "12  Page 1   156\n",
       "13  Page 2   185\n",
       "14  Page 3   163\n",
       "15  Page 4   170\n",
       "16  Page 1   195\n",
       "17  Page 2   177\n",
       "18  Page 3   176\n",
       "19  Page 4   168"
      ]
     },
     "execution_count": 36,
     "metadata": {},
     "output_type": "execute_result"
    }
   ],
   "source": [
    "df = pd.DataFrame({'Page':['Page 1','Page 2','Page 3','Page 4'] * 5,\n",
    "                   'Time':[164,178,175,155,172,191,193,166,177,182,171,164,156,185,163,170,195,177,176,168]})\n",
    "df"
   ]
  },
  {
   "cell_type": "code",
   "execution_count": 37,
   "metadata": {},
   "outputs": [
    {
     "name": "stdout",
     "output_type": "stream",
     "text": [
      "Observed means: [172.8 182.6 175.6 164.6]\n",
      "Variance: 55.43\n"
     ]
    }
   ],
   "source": [
    "observed_variance = df.groupby('Page').mean().var()[0]\n",
    "print(f\"Observed means: {df.groupby('Page').mean().values.ravel()}\")\n",
    "print(f'Variance: {observed_variance:.2f}')"
   ]
  },
  {
   "cell_type": "code",
   "execution_count": 38,
   "metadata": {},
   "outputs": [
    {
     "data": {
      "application/vnd.jupyter.widget-view+json": {
       "model_id": "faaf04f61cb0478a9d78e512575267f8",
       "version_major": 2,
       "version_minor": 0
      },
      "text/plain": [
       "HBox(children=(FloatProgress(value=0.0, max=3000.0), HTML(value='')))"
      ]
     },
     "metadata": {},
     "output_type": "display_data"
    },
    {
     "name": "stdout",
     "output_type": "stream",
     "text": [
      "\n",
      "Pr(Prob): 0.07\n"
     ]
    }
   ],
   "source": [
    "def perm_test(df):\n",
    "    df = df.copy()\n",
    "    df['Time'] = np.random.permutation(df['Time'].values)\n",
    "    return df.groupby('Page').mean().var()[0]\n",
    "\n",
    "perm_variance = [perm_test(df) for _ in trange(3000)]\n",
    "print(f'Pr(Prob): {np.mean(np.array(perm_variance) > observed_variance):.2f}')"
   ]
  },
  {
   "cell_type": "code",
   "execution_count": 39,
   "metadata": {},
   "outputs": [
    {
     "data": {
      "image/png": "[encoded data removed]",
      "text/plain": [
       "<Figure size 360x360 with 1 Axes>"
      ]
     },
     "metadata": {
      "needs_background": "light"
     },
     "output_type": "display_data"
    }
   ],
   "source": [
    "fig, ax = plt.subplots(figsize=(5, 5))\n",
    "ax.hist(perm_variance, bins=11, rwidth=0.9)\n",
    "ax.axvline(x = observed_variance, color='black', lw=2)\n",
    "ax.set_xlabel('Variance')\n",
    "ax.set_ylabel('Frequency')\n",
    "plt.tight_layout()\n",
    "plt.show()"
   ]
  },
  {
   "cell_type": "markdown",
   "metadata": {},
   "source": [
    "### F-statistics"
   ]
  },
  {
   "cell_type": "code",
   "execution_count": 40,
   "metadata": {},
   "outputs": [
    {
     "data": {
      "text/html": [
       "<div>\n",
       "<style scoped>\n",
       "    .dataframe tbody tr th:only-of-type {\n",
       "        vertical-align: middle;\n",
       "    }\n",
       "\n",
       "    .dataframe tbody tr th {\n",
       "        vertical-align: top;\n",
       "    }\n",
       "\n",
       "    .dataframe thead th {\n",
       "        text-align: right;\n",
       "    }\n",
       "</style>\n",
       "<table border=\"1\" class=\"dataframe\">\n",
       "  <thead>\n",
       "    <tr style=\"text-align: right;\">\n",
       "      <th></th>\n",
       "      <th>df</th>\n",
       "      <th>sum_sq</th>\n",
       "      <th>mean_sq</th>\n",
       "      <th>F</th>\n",
       "      <th>PR(&gt;F)</th>\n",
       "    </tr>\n",
       "  </thead>\n",
       "  <tbody>\n",
       "    <tr>\n",
       "      <th>Page</th>\n",
       "      <td>3.0</td>\n",
       "      <td>831.4</td>\n",
       "      <td>277.133333</td>\n",
       "      <td>2.739825</td>\n",
       "      <td>0.077586</td>\n",
       "    </tr>\n",
       "    <tr>\n",
       "      <th>Residual</th>\n",
       "      <td>16.0</td>\n",
       "      <td>1618.4</td>\n",
       "      <td>101.150000</td>\n",
       "      <td>NaN</td>\n",
       "      <td>NaN</td>\n",
       "    </tr>\n",
       "  </tbody>\n",
       "</table>\n",
       "</div>"
      ],
      "text/plain": [
       "            df  sum_sq     mean_sq         F    PR(>F)\n",
       "Page       3.0   831.4  277.133333  2.739825  0.077586\n",
       "Residual  16.0  1618.4  101.150000       NaN       NaN"
      ]
     },
     "execution_count": 40,
     "metadata": {},
     "output_type": "execute_result"
    }
   ],
   "source": [
    "model = smf.ols('Time ~ Page', data = df).fit()\n",
    "aov_table = sm.stats.anova_lm(model)\n",
    "aov_table"
   ]
  },
  {
   "cell_type": "markdown",
   "metadata": {},
   "source": [
    "### Two-way ANOVA"
   ]
  },
  {
   "cell_type": "markdown",
   "metadata": {},
   "source": [
    "## 6.8 Chi-square test"
   ]
  },
  {
   "cell_type": "code",
   "execution_count": 41,
   "metadata": {},
   "outputs": [
    {
     "data": {
      "text/html": [
       "<div>\n",
       "<style scoped>\n",
       "    .dataframe tbody tr th:only-of-type {\n",
       "        vertical-align: middle;\n",
       "    }\n",
       "\n",
       "    .dataframe tbody tr th {\n",
       "        vertical-align: top;\n",
       "    }\n",
       "\n",
       "    .dataframe thead th {\n",
       "        text-align: right;\n",
       "    }\n",
       "</style>\n",
       "<table border=\"1\" class=\"dataframe\">\n",
       "  <thead>\n",
       "    <tr style=\"text-align: right;\">\n",
       "      <th></th>\n",
       "      <th>Headline</th>\n",
       "      <th>Click</th>\n",
       "      <th>Rate</th>\n",
       "    </tr>\n",
       "  </thead>\n",
       "  <tbody>\n",
       "    <tr>\n",
       "      <th>0</th>\n",
       "      <td>A</td>\n",
       "      <td>Click</td>\n",
       "      <td>14</td>\n",
       "    </tr>\n",
       "    <tr>\n",
       "      <th>1</th>\n",
       "      <td>A</td>\n",
       "      <td>No-click</td>\n",
       "      <td>986</td>\n",
       "    </tr>\n",
       "    <tr>\n",
       "      <th>2</th>\n",
       "      <td>B</td>\n",
       "      <td>Click</td>\n",
       "      <td>8</td>\n",
       "    </tr>\n",
       "    <tr>\n",
       "      <th>3</th>\n",
       "      <td>B</td>\n",
       "      <td>No-click</td>\n",
       "      <td>992</td>\n",
       "    </tr>\n",
       "    <tr>\n",
       "      <th>4</th>\n",
       "      <td>C</td>\n",
       "      <td>Click</td>\n",
       "      <td>12</td>\n",
       "    </tr>\n",
       "    <tr>\n",
       "      <th>5</th>\n",
       "      <td>C</td>\n",
       "      <td>No-click</td>\n",
       "      <td>988</td>\n",
       "    </tr>\n",
       "  </tbody>\n",
       "</table>\n",
       "</div>"
      ],
      "text/plain": [
       "  Headline     Click  Rate\n",
       "0        A     Click    14\n",
       "1        A  No-click   986\n",
       "2        B     Click     8\n",
       "3        B  No-click   992\n",
       "4        C     Click    12\n",
       "5        C  No-click   988"
      ]
     },
     "execution_count": 41,
     "metadata": {},
     "output_type": "execute_result"
    }
   ],
   "source": [
    "df = pd.DataFrame({'Headline':['A','A','B','B','C','C'],\n",
    "                   'Click':['Click','No-click','Click','No-click','Click','No-click'],\n",
    "                   'Rate':[14,986,8,992,12,988]})\n",
    "df"
   ]
  },
  {
   "cell_type": "code",
   "execution_count": 42,
   "metadata": {},
   "outputs": [
    {
     "data": {
      "text/html": [
       "<div>\n",
       "<style scoped>\n",
       "    .dataframe tbody tr th:only-of-type {\n",
       "        vertical-align: middle;\n",
       "    }\n",
       "\n",
       "    .dataframe tbody tr th {\n",
       "        vertical-align: top;\n",
       "    }\n",
       "\n",
       "    .dataframe thead th {\n",
       "        text-align: right;\n",
       "    }\n",
       "</style>\n",
       "<table border=\"1\" class=\"dataframe\">\n",
       "  <thead>\n",
       "    <tr style=\"text-align: right;\">\n",
       "      <th>Headline</th>\n",
       "      <th>A</th>\n",
       "      <th>B</th>\n",
       "      <th>C</th>\n",
       "    </tr>\n",
       "    <tr>\n",
       "      <th>Click</th>\n",
       "      <th></th>\n",
       "      <th></th>\n",
       "      <th></th>\n",
       "    </tr>\n",
       "  </thead>\n",
       "  <tbody>\n",
       "    <tr>\n",
       "      <th>Click</th>\n",
       "      <td>14</td>\n",
       "      <td>8</td>\n",
       "      <td>12</td>\n",
       "    </tr>\n",
       "    <tr>\n",
       "      <th>No-click</th>\n",
       "      <td>986</td>\n",
       "      <td>992</td>\n",
       "      <td>988</td>\n",
       "    </tr>\n",
       "  </tbody>\n",
       "</table>\n",
       "</div>"
      ],
      "text/plain": [
       "Headline    A    B    C\n",
       "Click                  \n",
       "Click      14    8   12\n",
       "No-click  986  992  988"
      ]
     },
     "execution_count": 42,
     "metadata": {},
     "output_type": "execute_result"
    }
   ],
   "source": [
    "df_pivot = df.pivot(index = 'Click', columns = 'Headline', values = 'Rate')\n",
    "df_pivot"
   ]
  },
  {
   "cell_type": "code",
   "execution_count": 43,
   "metadata": {},
   "outputs": [
    {
     "data": {
      "application/vnd.jupyter.widget-view+json": {
       "model_id": "42d5b71efb624772a89b7e298f0c0e66",
       "version_major": 2,
       "version_minor": 0
      },
      "text/plain": [
       "HBox(children=(FloatProgress(value=0.0, max=2000.0), HTML(value='')))"
      ]
     },
     "metadata": {},
     "output_type": "display_data"
    },
    {
     "name": "stdout",
     "output_type": "stream",
     "text": [
      "\n",
      "Observed chi2: 1.67\n",
      "Resampled p-value: 0.51\n"
     ]
    }
   ],
   "source": [
    "box = [1] * (14+8+12)\n",
    "box.extend([0] * (986+992+988))\n",
    "random.shuffle(box)\n",
    "\n",
    "def chi2(observed, expected):\n",
    "    pearson_residuals = []\n",
    "    for row, expect in zip(observed, expected):\n",
    "        pearson_residuals.append([(observe - expect) ** 2 / expect for observe in row])\n",
    "    return np.sum(pearson_residuals)\n",
    "\n",
    "expected_clicks = (14+8+12) / 3\n",
    "expected_noclicks = 1000 - expected_clicks\n",
    "expected = [expected_clicks, expected_noclicks]\n",
    "chi2observed = chi2(df_pivot.values, expected)\n",
    "\n",
    "def perm_fun(box):\n",
    "    sample_clicks = [sum(random.sample(box, 1000)),\n",
    "                     sum(random.sample(box, 1000)),\n",
    "                     sum(random.sample(box, 1000))]\n",
    "    sample_noclicks = [1000 - n for n in sample_clicks]\n",
    "    return chi2([sample_clicks, sample_noclicks], expected)\n",
    "\n",
    "perm_chi2 = [perm_fun(box) for _ in trange(2000)]\n",
    "\n",
    "resampled_p_value = sum(perm_chi2 > chi2observed) / len(perm_chi2)\n",
    "\n",
    "print(f'Observed chi2: {chi2observed:.2f}')\n",
    "print(f'Resampled p-value: {resampled_p_value:.2f}')"
   ]
  },
  {
   "cell_type": "code",
   "execution_count": 44,
   "metadata": {},
   "outputs": [
    {
     "name": "stdout",
     "output_type": "stream",
     "text": [
      "Observed chi2: 1.67\n",
      "p-value: 0.43\n"
     ]
    }
   ],
   "source": [
    "chisq, p_value, df, expected = sp.chi2_contingency(df_pivot)\n",
    "print(f'Observed chi2: {chi2observed:.2f}')\n",
    "print(f'p-value: {p_value:.2f}')"
   ]
  },
  {
   "cell_type": "markdown",
   "metadata": {},
   "source": [
    "## 6.9 Multi-arm bandit algorithm"
   ]
  },
  {
   "cell_type": "markdown",
   "metadata": {},
   "source": [
    "## 6.10 Power and sample size"
   ]
  },
  {
   "cell_type": "code",
   "execution_count": 45,
   "metadata": {},
   "outputs": [
    {
     "name": "stdout",
     "output_type": "stream",
     "text": [
      "Sample Size: 116602.39\n"
     ]
    }
   ],
   "source": [
    "effect_size = sm.stats.proportion_effectsize(0.0121, 0.011)\n",
    "result = sm.stats.TTestIndPower().solve_power(effect_size = effect_size,\n",
    "                                              alpha = 0.05,\n",
    "                                              power = 0.8,\n",
    "                                              alternative = 'larger')\n",
    "print(f'Sample Size: {result:.2f}')"
   ]
  },
  {
   "cell_type": "markdown",
   "metadata": {},
   "source": [
    "## 6.11 ExpAn - for experiment analysis"
   ]
  },
  {
   "cell_type": "markdown",
   "metadata": {},
   "source": [
    "### Generate data"
   ]
  },
  {
   "cell_type": "code",
   "execution_count": 46,
   "metadata": {},
   "outputs": [
    {
     "name": "stdout",
     "output_type": "stream",
     "text": [
      "ExpAn core init: v1.4.0\n"
     ]
    }
   ],
   "source": [
    "from expan.core.util import generate_random_data"
   ]
  },
  {
   "cell_type": "code",
   "execution_count": 47,
   "metadata": {},
   "outputs": [],
   "source": [
    "data, metadata = generate_random_data()"
   ]
  },
  {
   "cell_type": "code",
   "execution_count": 48,
   "metadata": {},
   "outputs": [
    {
     "data": {
      "text/html": [
       "<div>\n",
       "<style scoped>\n",
       "    .dataframe tbody tr th:only-of-type {\n",
       "        vertical-align: middle;\n",
       "    }\n",
       "\n",
       "    .dataframe tbody tr th {\n",
       "        vertical-align: top;\n",
       "    }\n",
       "\n",
       "    .dataframe thead th {\n",
       "        text-align: right;\n",
       "    }\n",
       "</style>\n",
       "<table border=\"1\" class=\"dataframe\">\n",
       "  <thead>\n",
       "    <tr style=\"text-align: right;\">\n",
       "      <th></th>\n",
       "      <th>entity</th>\n",
       "      <th>variant</th>\n",
       "      <th>normal_same</th>\n",
       "      <th>normal_shifted</th>\n",
       "      <th>feature</th>\n",
       "      <th>normal_shifted_by_feature</th>\n",
       "      <th>treatment_start_time</th>\n",
       "      <th>normal_unequal_variance</th>\n",
       "      <th>date</th>\n",
       "    </tr>\n",
       "  </thead>\n",
       "  <tbody>\n",
       "    <tr>\n",
       "      <th>0</th>\n",
       "      <td>0</td>\n",
       "      <td>A</td>\n",
       "      <td>-1.487862</td>\n",
       "      <td>-0.616148</td>\n",
       "      <td>feature that only has one data point</td>\n",
       "      <td>-1.088533</td>\n",
       "      <td>7</td>\n",
       "      <td>0.003991</td>\n",
       "      <td>2015-01-01</td>\n",
       "    </tr>\n",
       "    <tr>\n",
       "      <th>1</th>\n",
       "      <td>1</td>\n",
       "      <td>B</td>\n",
       "      <td>-1.125186</td>\n",
       "      <td>1.783682</td>\n",
       "      <td>has</td>\n",
       "      <td>1.167307</td>\n",
       "      <td>3</td>\n",
       "      <td>-3.565511</td>\n",
       "      <td>2015-01-01</td>\n",
       "    </tr>\n",
       "    <tr>\n",
       "      <th>2</th>\n",
       "      <td>2</td>\n",
       "      <td>B</td>\n",
       "      <td>0.388819</td>\n",
       "      <td>1.007539</td>\n",
       "      <td>non</td>\n",
       "      <td>-1.055948</td>\n",
       "      <td>1</td>\n",
       "      <td>6.704536</td>\n",
       "      <td>2015-01-01</td>\n",
       "    </tr>\n",
       "    <tr>\n",
       "      <th>3</th>\n",
       "      <td>3</td>\n",
       "      <td>A</td>\n",
       "      <td>-1.173873</td>\n",
       "      <td>-0.889252</td>\n",
       "      <td>non</td>\n",
       "      <td>-0.152459</td>\n",
       "      <td>4</td>\n",
       "      <td>1.209668</td>\n",
       "      <td>2015-01-01</td>\n",
       "    </tr>\n",
       "    <tr>\n",
       "      <th>4</th>\n",
       "      <td>4</td>\n",
       "      <td>A</td>\n",
       "      <td>1.112634</td>\n",
       "      <td>0.434377</td>\n",
       "      <td>has</td>\n",
       "      <td>0.175988</td>\n",
       "      <td>4</td>\n",
       "      <td>0.148207</td>\n",
       "      <td>2015-01-01</td>\n",
       "    </tr>\n",
       "    <tr>\n",
       "      <th>...</th>\n",
       "      <td>...</td>\n",
       "      <td>...</td>\n",
       "      <td>...</td>\n",
       "      <td>...</td>\n",
       "      <td>...</td>\n",
       "      <td>...</td>\n",
       "      <td>...</td>\n",
       "      <td>...</td>\n",
       "      <td>...</td>\n",
       "    </tr>\n",
       "    <tr>\n",
       "      <th>9995</th>\n",
       "      <td>9995</td>\n",
       "      <td>B</td>\n",
       "      <td>-0.028124</td>\n",
       "      <td>0.706185</td>\n",
       "      <td>non</td>\n",
       "      <td>1.270654</td>\n",
       "      <td>5</td>\n",
       "      <td>-17.878939</td>\n",
       "      <td>2016-02-21</td>\n",
       "    </tr>\n",
       "    <tr>\n",
       "      <th>9996</th>\n",
       "      <td>9996</td>\n",
       "      <td>B</td>\n",
       "      <td>0.792395</td>\n",
       "      <td>1.829488</td>\n",
       "      <td>non</td>\n",
       "      <td>-1.001675</td>\n",
       "      <td>4</td>\n",
       "      <td>6.321226</td>\n",
       "      <td>2016-02-21</td>\n",
       "    </tr>\n",
       "    <tr>\n",
       "      <th>9997</th>\n",
       "      <td>9997</td>\n",
       "      <td>B</td>\n",
       "      <td>0.994518</td>\n",
       "      <td>-1.917363</td>\n",
       "      <td>non</td>\n",
       "      <td>-0.280280</td>\n",
       "      <td>4</td>\n",
       "      <td>-0.474425</td>\n",
       "      <td>2016-02-21</td>\n",
       "    </tr>\n",
       "    <tr>\n",
       "      <th>9998</th>\n",
       "      <td>9998</td>\n",
       "      <td>A</td>\n",
       "      <td>-0.697330</td>\n",
       "      <td>0.359386</td>\n",
       "      <td>has</td>\n",
       "      <td>0.800866</td>\n",
       "      <td>7</td>\n",
       "      <td>-0.678204</td>\n",
       "      <td>2016-02-21</td>\n",
       "    </tr>\n",
       "    <tr>\n",
       "      <th>9999</th>\n",
       "      <td>9999</td>\n",
       "      <td>A</td>\n",
       "      <td>-0.300835</td>\n",
       "      <td>-0.477530</td>\n",
       "      <td>non</td>\n",
       "      <td>0.300965</td>\n",
       "      <td>6</td>\n",
       "      <td>0.823278</td>\n",
       "      <td>2016-02-21</td>\n",
       "    </tr>\n",
       "  </tbody>\n",
       "</table>\n",
       "<p>10000 rows × 9 columns</p>\n",
       "</div>"
      ],
      "text/plain": [
       "      entity variant  normal_same  normal_shifted  \\\n",
       "0          0       A    -1.487862       -0.616148   \n",
       "1          1       B    -1.125186        1.783682   \n",
       "2          2       B     0.388819        1.007539   \n",
       "3          3       A    -1.173873       -0.889252   \n",
       "4          4       A     1.112634        0.434377   \n",
       "...      ...     ...          ...             ...   \n",
       "9995    9995       B    -0.028124        0.706185   \n",
       "9996    9996       B     0.792395        1.829488   \n",
       "9997    9997       B     0.994518       -1.917363   \n",
       "9998    9998       A    -0.697330        0.359386   \n",
       "9999    9999       A    -0.300835       -0.477530   \n",
       "\n",
       "                                   feature  normal_shifted_by_feature  \\\n",
       "0     feature that only has one data point                  -1.088533   \n",
       "1                                      has                   1.167307   \n",
       "2                                      non                  -1.055948   \n",
       "3                                      non                  -0.152459   \n",
       "4                                      has                   0.175988   \n",
       "...                                    ...                        ...   \n",
       "9995                                   non                   1.270654   \n",
       "9996                                   non                  -1.001675   \n",
       "9997                                   non                  -0.280280   \n",
       "9998                                   has                   0.800866   \n",
       "9999                                   non                   0.300965   \n",
       "\n",
       "      treatment_start_time  normal_unequal_variance        date  \n",
       "0                        7                 0.003991  2015-01-01  \n",
       "1                        3                -3.565511  2015-01-01  \n",
       "2                        1                 6.704536  2015-01-01  \n",
       "3                        4                 1.209668  2015-01-01  \n",
       "4                        4                 0.148207  2015-01-01  \n",
       "...                    ...                      ...         ...  \n",
       "9995                     5               -17.878939  2016-02-21  \n",
       "9996                     4                 6.321226  2016-02-21  \n",
       "9997                     4                -0.474425  2016-02-21  \n",
       "9998                     7                -0.678204  2016-02-21  \n",
       "9999                     6                 0.823278  2016-02-21  \n",
       "\n",
       "[10000 rows x 9 columns]"
      ]
     },
     "execution_count": 48,
     "metadata": {},
     "output_type": "execute_result"
    }
   ],
   "source": [
    "data"
   ]
  },
  {
   "cell_type": "code",
   "execution_count": 49,
   "metadata": {},
   "outputs": [
    {
     "data": {
      "text/plain": [
       "{'primary_KPI': 'normal_shifted',\n",
       " 'source': 'simulated',\n",
       " 'experiment': 'random_data_generation'}"
      ]
     },
     "execution_count": 49,
     "metadata": {},
     "output_type": "execute_result"
    }
   ],
   "source": [
    "metadata"
   ]
  },
  {
   "cell_type": "markdown",
   "metadata": {},
   "source": [
    "### Create experiment"
   ]
  },
  {
   "cell_type": "code",
   "execution_count": 50,
   "metadata": {},
   "outputs": [],
   "source": [
    "from expan.core.experiment import Experiment"
   ]
  },
  {
   "cell_type": "code",
   "execution_count": 51,
   "metadata": {},
   "outputs": [],
   "source": [
    "exp = Experiment(metadata = metadata)"
   ]
  },
  {
   "cell_type": "markdown",
   "metadata": {},
   "source": [
    "### Create statistical test"
   ]
  },
  {
   "cell_type": "code",
   "execution_count": 52,
   "metadata": {},
   "outputs": [],
   "source": [
    "from expan.core.statistical_test import KPI, Variants, StatisticalTest"
   ]
  },
  {
   "cell_type": "code",
   "execution_count": 53,
   "metadata": {},
   "outputs": [],
   "source": [
    "kpi = KPI('normal_same')\n",
    "variants = Variants(variant_column_name = 'variant', control_name = 'B', treatment_name = 'A')\n",
    "test = StatisticalTest(data = data, kpi = kpi, features = [], variants = variants)"
   ]
  },
  {
   "cell_type": "markdown",
   "metadata": {},
   "source": [
    "### Analysis"
   ]
  },
  {
   "cell_type": "code",
   "execution_count": 54,
   "metadata": {},
   "outputs": [
    {
     "name": "stderr",
     "output_type": "stream",
     "text": [
      "INFO:expan.core.experiment:One analysis with kpi '{\n",
      "    \"name\": \"normal_same\"\n",
      "}', control variant 'B', treatment variant 'A' and features [[]] has just started\n",
      "INFO:expan.core.experiment:Control group size: 3892\n",
      "INFO:expan.core.experiment:Treatment group size: 6108\n",
      "INFO:expan.core.statistics:The distribution of two samples is assumed normal. Performing the sample difference distribution calculation.\n",
      "INFO:expan.core.statistics:Delta calculation finished!\n"
     ]
    },
    {
     "data": {
      "text/plain": [
       "{\n",
       "    \"result\": {\n",
       "        \"confidence_interval\": [\n",
       "            {\n",
       "                \"percentile\": 2.5,\n",
       "                \"value\": -0.007138761863314601\n",
       "            },\n",
       "            {\n",
       "                \"percentile\": 97.5,\n",
       "                \"value\": 0.0732438406769919\n",
       "            }\n",
       "        ],\n",
       "        \"control_statistics\": {\n",
       "            \"mean\": -0.007833095215783122,\n",
       "            \"sample_size\": 3892,\n",
       "            \"variance\": 0.991195545472199\n",
       "        },\n",
       "        \"delta\": 0.03305253940683865,\n",
       "        \"p\": 0.10698672122297047,\n",
       "        \"statistical_power\": 0.36400577293301273,\n",
       "        \"treatment_statistics\": {\n",
       "            \"mean\": 0.025219444191055533,\n",
       "            \"sample_size\": 6108,\n",
       "            \"variance\": 1.0046096975922052\n",
       "        }\n",
       "    },\n",
       "    \"test\": {\n",
       "        \"features\": [],\n",
       "        \"kpi\": {\n",
       "            \"name\": \"normal_same\"\n",
       "        },\n",
       "        \"variants\": {\n",
       "            \"control_name\": \"B\",\n",
       "            \"treatment_name\": \"A\",\n",
       "            \"variant_column_name\": \"variant\"\n",
       "        }\n",
       "    }\n",
       "}"
      ]
     },
     "execution_count": 54,
     "metadata": {},
     "output_type": "execute_result"
    }
   ],
   "source": [
    "result = exp.analyze_statistical_test(test)\n",
    "result"
   ]
  },
  {
   "cell_type": "code",
   "execution_count": 55,
   "metadata": {},
   "outputs": [
    {
     "data": {
      "text/html": [
       "<div>\n",
       "<style scoped>\n",
       "    .dataframe tbody tr th:only-of-type {\n",
       "        vertical-align: middle;\n",
       "    }\n",
       "\n",
       "    .dataframe tbody tr th {\n",
       "        vertical-align: top;\n",
       "    }\n",
       "\n",
       "    .dataframe thead th {\n",
       "        text-align: right;\n",
       "    }\n",
       "</style>\n",
       "<table border=\"1\" class=\"dataframe\">\n",
       "  <thead>\n",
       "    <tr style=\"text-align: right;\">\n",
       "      <th></th>\n",
       "      <th>result</th>\n",
       "      <th>test</th>\n",
       "    </tr>\n",
       "  </thead>\n",
       "  <tbody>\n",
       "    <tr>\n",
       "      <th>confidence_interval</th>\n",
       "      <td>[{'percentile': 2.5, 'value': -0.0071387618633...</td>\n",
       "      <td>NaN</td>\n",
       "    </tr>\n",
       "    <tr>\n",
       "      <th>control_statistics</th>\n",
       "      <td>{'mean': -0.007833095215783, 'sample_size': 38...</td>\n",
       "      <td>NaN</td>\n",
       "    </tr>\n",
       "    <tr>\n",
       "      <th>delta</th>\n",
       "      <td>0.0330525</td>\n",
       "      <td>NaN</td>\n",
       "    </tr>\n",
       "    <tr>\n",
       "      <th>p</th>\n",
       "      <td>0.106987</td>\n",
       "      <td>NaN</td>\n",
       "    </tr>\n",
       "    <tr>\n",
       "      <th>statistical_power</th>\n",
       "      <td>0.364006</td>\n",
       "      <td>NaN</td>\n",
       "    </tr>\n",
       "    <tr>\n",
       "      <th>treatment_statistics</th>\n",
       "      <td>{'mean': 0.025219444191055002, 'sample_size': ...</td>\n",
       "      <td>NaN</td>\n",
       "    </tr>\n",
       "    <tr>\n",
       "      <th>features</th>\n",
       "      <td>NaN</td>\n",
       "      <td>[]</td>\n",
       "    </tr>\n",
       "    <tr>\n",
       "      <th>kpi</th>\n",
       "      <td>NaN</td>\n",
       "      <td>{'name': 'normal_same'}</td>\n",
       "    </tr>\n",
       "    <tr>\n",
       "      <th>variants</th>\n",
       "      <td>NaN</td>\n",
       "      <td>{'control_name': 'B', 'treatment_name': 'A', '...</td>\n",
       "    </tr>\n",
       "  </tbody>\n",
       "</table>\n",
       "</div>"
      ],
      "text/plain": [
       "                                                                 result  \\\n",
       "confidence_interval   [{'percentile': 2.5, 'value': -0.0071387618633...   \n",
       "control_statistics    {'mean': -0.007833095215783, 'sample_size': 38...   \n",
       "delta                                                         0.0330525   \n",
       "p                                                              0.106987   \n",
       "statistical_power                                              0.364006   \n",
       "treatment_statistics  {'mean': 0.025219444191055002, 'sample_size': ...   \n",
       "features                                                            NaN   \n",
       "kpi                                                                 NaN   \n",
       "variants                                                            NaN   \n",
       "\n",
       "                                                                   test  \n",
       "confidence_interval                                                 NaN  \n",
       "control_statistics                                                  NaN  \n",
       "delta                                                               NaN  \n",
       "p                                                                   NaN  \n",
       "statistical_power                                                   NaN  \n",
       "treatment_statistics                                                NaN  \n",
       "features                                                             []  \n",
       "kpi                                             {'name': 'normal_same'}  \n",
       "variants              {'control_name': 'B', 'treatment_name': 'A', '...  "
      ]
     },
     "execution_count": 55,
     "metadata": {},
     "output_type": "execute_result"
    }
   ],
   "source": [
    "pd.read_json(result.toJson())"
   ]
  },
  {
   "cell_type": "markdown",
   "metadata": {},
   "source": [
    "### Permutation check"
   ]
  },
  {
   "cell_type": "code",
   "execution_count": 56,
   "metadata": {},
   "outputs": [
    {
     "data": {
      "application/vnd.jupyter.widget-view+json": {
       "model_id": "ec3db8f054cc423595021a7a776dad13",
       "version_major": 2,
       "version_minor": 0
      },
      "text/plain": [
       "HBox(children=(FloatProgress(value=0.0, max=5000.0), HTML(value='')))"
      ]
     },
     "metadata": {},
     "output_type": "display_data"
    },
    {
     "name": "stdout",
     "output_type": "stream",
     "text": [
      "\n"
     ]
    },
    {
     "data": {
      "image/png": "[encoded data removed]",
      "text/plain": [
       "<Figure size 360x360 with 1 Axes>"
      ]
     },
     "metadata": {
      "needs_background": "light"
     },
     "output_type": "display_data"
    },
    {
     "name": "stdout",
     "output_type": "stream",
     "text": [
      "one-side p-value: 0.0518\n"
     ]
    }
   ],
   "source": [
    "def perm_fun(x, nA, nB):\n",
    "    n = nA + nB\n",
    "    idx_B = set(random.sample(population = range(n), k = nB))\n",
    "    idx_A = set(range(n)) - idx_B\n",
    "    return x.loc[idx_A].mean() - x.loc[idx_B].mean()\n",
    "\n",
    "mean_B = data[data.variant == 'B'].normal_same.mean()\n",
    "mean_A = data[data.variant == 'A'].normal_same.mean()\n",
    "\n",
    "nA = data[data.variant == 'A'].shape[0]\n",
    "nB = data[data.variant == 'B'].shape[0]\n",
    "\n",
    "perm_diffs = [perm_fun(data.normal_same, nA, nB) for _ in trange(5000)]\n",
    "\n",
    "fig, ax = plt.subplots(figsize = (5,5))\n",
    "ax.hist(perm_diffs, bins = 11, rwidth = 0.9)\n",
    "ax.axvline(x = mean_A - mean_B)\n",
    "plt.show()\n",
    "print(f'one-side p-value: {np.mean(perm_diffs > mean_A - mean_B)}')"
   ]
  },
  {
   "cell_type": "markdown",
   "metadata": {},
   "source": [
    "### Subgroup analysis"
   ]
  },
  {
   "cell_type": "code",
   "execution_count": 57,
   "metadata": {},
   "outputs": [],
   "source": [
    "from expan.core.statistical_test import FeatureFilter "
   ]
  },
  {
   "cell_type": "code",
   "execution_count": 58,
   "metadata": {},
   "outputs": [],
   "source": [
    "feature = FeatureFilter('feature', 'has')\n",
    "test = StatisticalTest(data = data, kpi = kpi, features = [feature], variants = variants)"
   ]
  },
  {
   "cell_type": "code",
   "execution_count": 59,
   "metadata": {},
   "outputs": [
    {
     "name": "stderr",
     "output_type": "stream",
     "text": [
      "INFO:expan.core.experiment:One analysis with kpi '{\n",
      "    \"name\": \"normal_same\"\n",
      "}', control variant 'B', treatment variant 'A' and features [[('feature', 'has')]] has just started\n",
      "INFO:expan.core.experiment:Control group size: 1966\n",
      "INFO:expan.core.experiment:Treatment group size: 3067\n",
      "INFO:expan.core.statistics:The distribution of two samples is assumed normal. Performing the sample difference distribution calculation.\n",
      "INFO:expan.core.statistics:Delta calculation finished!\n"
     ]
    },
    {
     "data": {
      "text/plain": [
       "{\n",
       "    \"result\": {\n",
       "        \"confidence_interval\": [\n",
       "            {\n",
       "                \"percentile\": 2.5,\n",
       "                \"value\": 0.006671086424345475\n",
       "            },\n",
       "            {\n",
       "                \"percentile\": 97.5,\n",
       "                \"value\": 0.11917967082265521\n",
       "            }\n",
       "        ],\n",
       "        \"control_statistics\": {\n",
       "            \"mean\": -0.03325546053022948,\n",
       "            \"sample_size\": 1966,\n",
       "            \"variance\": 0.9502823933483748\n",
       "        },\n",
       "        \"delta\": 0.06292537862350035,\n",
       "        \"p\": 0.028358778147368372,\n",
       "        \"statistical_power\": 0.5922702558935107,\n",
       "        \"treatment_statistics\": {\n",
       "            \"mean\": 0.02966991809327087,\n",
       "            \"sample_size\": 3067,\n",
       "            \"variance\": 1.0096351883915924\n",
       "        }\n",
       "    },\n",
       "    \"test\": {\n",
       "        \"features\": [\n",
       "            {\n",
       "                \"column_name\": \"feature\",\n",
       "                \"column_value\": \"has\"\n",
       "            }\n",
       "        ],\n",
       "        \"kpi\": {\n",
       "            \"name\": \"normal_same\"\n",
       "        },\n",
       "        \"variants\": {\n",
       "            \"control_name\": \"B\",\n",
       "            \"treatment_name\": \"A\",\n",
       "            \"variant_column_name\": \"variant\"\n",
       "        }\n",
       "    }\n",
       "}"
      ]
     },
     "execution_count": 59,
     "metadata": {},
     "output_type": "execute_result"
    }
   ],
   "source": [
    "exp.analyze_statistical_test(test)"
   ]
  },
  {
   "cell_type": "markdown",
   "metadata": {},
   "source": [
    "### Statistical test suite"
   ]
  },
  {
   "cell_type": "code",
   "execution_count": 60,
   "metadata": {},
   "outputs": [],
   "source": [
    "from expan.core.statistical_test import *"
   ]
  },
  {
   "cell_type": "code",
   "execution_count": 61,
   "metadata": {},
   "outputs": [
    {
     "name": "stderr",
     "output_type": "stream",
     "text": [
      "INFO:expan.core.experiment:Statistical test suite analysis with 3 tests, testmethod fixed_horizon, correction method CorrectionMethod.BH has just started\n",
      "INFO:expan.core.experiment:One analysis with kpi '{\n",
      "    \"name\": \"normal_same\"\n",
      "}', control variant 'B', treatment variant 'A' and features [[('feature', 'has')]] has just started\n",
      "INFO:expan.core.experiment:Control group size: 1966\n",
      "INFO:expan.core.experiment:Treatment group size: 3067\n",
      "INFO:expan.core.statistics:The distribution of two samples is assumed normal. Performing the sample difference distribution calculation.\n",
      "INFO:expan.core.statistics:Delta calculation finished!\n",
      "INFO:expan.core.experiment:One analysis with kpi '{\n",
      "    \"name\": \"normal_same\"\n",
      "}', control variant 'B', treatment variant 'A' and features [[('feature', 'non')]] has just started\n",
      "INFO:expan.core.experiment:Control group size: 1926\n",
      "INFO:expan.core.experiment:Treatment group size: 3040\n",
      "INFO:expan.core.statistics:The distribution of two samples is assumed normal. Performing the sample difference distribution calculation.\n",
      "INFO:expan.core.statistics:Delta calculation finished!\n",
      "INFO:expan.core.experiment:One analysis with kpi '{\n",
      "    \"name\": \"normal_same\"\n",
      "}', control variant 'B', treatment variant 'A' and features [[('feature', 'feature that only has one data point')]] has just started\n",
      "WARNING:expan.core.experiment:Control group only contains 0 entities.\n",
      "WARNING:expan.core.experiment:Data is not valid for the analysis!\n",
      "WARNING:expan.core.experiment:Analysis results are excluded from the result file because they contain Null values.\n",
      "INFO:expan.core.experiment:One analysis with kpi '{\n",
      "    \"name\": \"normal_same\"\n",
      "}', control variant 'B', treatment variant 'A' and features [[('feature', 'has')]] has just started\n",
      "INFO:expan.core.experiment:Control group size: 1966\n",
      "INFO:expan.core.experiment:Treatment group size: 3067\n",
      "INFO:expan.core.statistics:The distribution of two samples is assumed normal. Performing the sample difference distribution calculation.\n",
      "INFO:expan.core.statistics:Delta calculation finished!\n",
      "INFO:expan.core.experiment:One analysis with kpi '{\n",
      "    \"name\": \"normal_same\"\n",
      "}', control variant 'B', treatment variant 'A' and features [[('feature', 'non')]] has just started\n",
      "INFO:expan.core.experiment:Control group size: 1926\n",
      "INFO:expan.core.experiment:Treatment group size: 3040\n",
      "INFO:expan.core.statistics:The distribution of two samples is assumed normal. Performing the sample difference distribution calculation.\n",
      "INFO:expan.core.statistics:Delta calculation finished!\n",
      "INFO:expan.core.experiment:Statistical test suite analysis with 3 tests, testmethod fixed_horizon, correction method CorrectionMethod.BH has finished\n"
     ]
    },
    {
     "data": {
      "text/plain": [
       "{\n",
       "    \"correction_method\": \"BH\",\n",
       "    \"results\": [\n",
       "        {\n",
       "            \"result\": {\n",
       "                \"corrected_test_statistics\": {\n",
       "                    \"confidence_interval\": [\n",
       "                        {\n",
       "                            \"percentile\": 1.25,\n",
       "                            \"value\": -0.0014104640151739734\n",
       "                        },\n",
       "                        {\n",
       "                            \"percentile\": 98.75,\n",
       "                            \"value\": 0.1272612212621747\n",
       "                        }\n",
       "                    ],\n",
       "                    \"control_statistics\": {\n",
       "                        \"mean\": -0.03325546053022948,\n",
       "                        \"sample_size\": 1966,\n",
       "                        \"variance\": 0.9502823933483748\n",
       "                    },\n",
       "                    \"delta\": 0.06292537862350035,\n",
       "                    \"p\": 0.028358778147368372,\n",
       "                    \"statistical_power\": 0.4808382307266412,\n",
       "                    \"treatment_statistics\": {\n",
       "                        \"mean\": 0.02966991809327087,\n",
       "                        \"sample_size\": 3067,\n",
       "                        \"variance\": 1.0096351883915924\n",
       "                    }\n",
       "                },\n",
       "                \"original_test_statistics\": {\n",
       "                    \"confidence_interval\": [\n",
       "                        {\n",
       "                            \"percentile\": 2.5,\n",
       "                            \"value\": 0.006671086424345475\n",
       "                        },\n",
       "                        {\n",
       "                            \"percentile\": 97.5,\n",
       "                            \"value\": 0.11917967082265521\n",
       "                        }\n",
       "                    ],\n",
       "                    \"control_statistics\": {\n",
       "                        \"mean\": -0.03325546053022948,\n",
       "                        \"sample_size\": 1966,\n",
       "                        \"variance\": 0.9502823933483748\n",
       "                    },\n",
       "                    \"delta\": 0.06292537862350035,\n",
       "                    \"p\": 0.028358778147368372,\n",
       "                    \"statistical_power\": 0.5922702558935107,\n",
       "                    \"treatment_statistics\": {\n",
       "                        \"mean\": 0.02966991809327087,\n",
       "                        \"sample_size\": 3067,\n",
       "                        \"variance\": 1.0096351883915924\n",
       "                    }\n",
       "                }\n",
       "            },\n",
       "            \"test\": {\n",
       "                \"features\": [\n",
       "                    {\n",
       "                        \"column_name\": \"feature\",\n",
       "                        \"column_value\": \"has\"\n",
       "                    }\n",
       "                ],\n",
       "                \"kpi\": {\n",
       "                    \"name\": \"normal_same\"\n",
       "                },\n",
       "                \"variants\": {\n",
       "                    \"control_name\": \"B\",\n",
       "                    \"treatment_name\": \"A\",\n",
       "                    \"variant_column_name\": \"variant\"\n",
       "                }\n",
       "            }\n",
       "        },\n",
       "        {\n",
       "            \"result\": {\n",
       "                \"corrected_test_statistics\": {\n",
       "                    \"confidence_interval\": [\n",
       "                        {\n",
       "                            \"percentile\": 1.25,\n",
       "                            \"value\": -0.06258057692541398\n",
       "                        },\n",
       "                        {\n",
       "                            \"percentile\": 98.75,\n",
       "                            \"value\": 0.06880040562883154\n",
       "                        }\n",
       "                    ],\n",
       "                    \"control_statistics\": {\n",
       "                        \"mean\": 0.01811725276355308,\n",
       "                        \"sample_size\": 1926,\n",
       "                        \"variance\": 1.032139915466881\n",
       "                    },\n",
       "                    \"delta\": 0.003109914351708761,\n",
       "                    \"p\": 0.9154719755287828,\n",
       "                    \"statistical_power\": 0.016370838349524797,\n",
       "                    \"treatment_statistics\": {\n",
       "                        \"mean\": 0.02122716711526184,\n",
       "                        \"sample_size\": 3040,\n",
       "                        \"variance\": 0.9994114252924446\n",
       "                    }\n",
       "                },\n",
       "                \"original_test_statistics\": {\n",
       "                    \"confidence_interval\": [\n",
       "                        {\n",
       "                            \"percentile\": 2.5,\n",
       "                            \"value\": -0.05432881664893491\n",
       "                        },\n",
       "                        {\n",
       "                            \"percentile\": 97.5,\n",
       "                            \"value\": 0.06054864535235241\n",
       "                        }\n",
       "                    ],\n",
       "                    \"control_statistics\": {\n",
       "                        \"mean\": 0.01811725276355308,\n",
       "                        \"sample_size\": 1926,\n",
       "                        \"variance\": 1.032139915466881\n",
       "                    },\n",
       "                    \"delta\": 0.003109914351708761,\n",
       "                    \"p\": 0.9154719755287828,\n",
       "                    \"statistical_power\": 0.031884032087762915,\n",
       "                    \"treatment_statistics\": {\n",
       "                        \"mean\": 0.02122716711526184,\n",
       "                        \"sample_size\": 3040,\n",
       "                        \"variance\": 0.9994114252924446\n",
       "                    }\n",
       "                }\n",
       "            },\n",
       "            \"test\": {\n",
       "                \"features\": [\n",
       "                    {\n",
       "                        \"column_name\": \"feature\",\n",
       "                        \"column_value\": \"non\"\n",
       "                    }\n",
       "                ],\n",
       "                \"kpi\": {\n",
       "                    \"name\": \"normal_same\"\n",
       "                },\n",
       "                \"variants\": {\n",
       "                    \"control_name\": \"B\",\n",
       "                    \"treatment_name\": \"A\",\n",
       "                    \"variant_column_name\": \"variant\"\n",
       "                }\n",
       "            }\n",
       "        }\n",
       "    ]\n",
       "}"
      ]
     },
     "execution_count": 61,
     "metadata": {},
     "output_type": "execute_result"
    }
   ],
   "source": [
    "kpi = KPI('normal_same')\n",
    "variants = Variants(variant_column_name = 'variant', control_name = 'B', treatment_name = 'A')\n",
    "\n",
    "feature_1 = FeatureFilter('feature', 'has')\n",
    "feature_2 = FeatureFilter('feature', 'non')\n",
    "feature_3 = FeatureFilter('feature', 'feature that only has one data point')\n",
    "\n",
    "test_subgroup1 = StatisticalTest(data, kpi, [feature_1], variants)\n",
    "test_subgroup2 = StatisticalTest(data, kpi, [feature_2], variants)\n",
    "test_subgroup3 = StatisticalTest(data, kpi, [feature_3], variants)\n",
    "\n",
    "tests = [test_subgroup1, test_subgroup2, test_subgroup3]\n",
    "test_suite = StatisticalTestSuite(tests = tests, correction_method = CorrectionMethod.BH)\n",
    "\n",
    "exp.analyze_statistical_test_suite(test_suite)"
   ]
  },
  {
   "cell_type": "markdown",
   "metadata": {},
   "source": [
    "### Statistics"
   ]
  },
  {
   "cell_type": "code",
   "execution_count": 62,
   "metadata": {},
   "outputs": [],
   "source": [
    "import expan.core.statistics"
   ]
  },
  {
   "cell_type": "code",
   "execution_count": 63,
   "metadata": {},
   "outputs": [
    {
     "data": {
      "text/plain": [
       "23126555.02628001"
      ]
     },
     "execution_count": 63,
     "metadata": {},
     "output_type": "execute_result"
    }
   ],
   "source": [
    "expan.core.statistics.estimate_sample_size(x = data.normal_same, mde = 0.1, r = 0.5, alpha = 0.05, beta = 0.2)"
   ]
  }
 ],
 "metadata": {
  "kernelspec": {
   "display_name": "Python 3",
   "language": "python",
   "name": "python3"
  },
  "language_info": {
   "codemirror_mode": {
    "name": "ipython",
    "version": 3
   },
   "file_extension": ".py",
   "mimetype": "text/x-python",
   "name": "python",
   "nbconvert_exporter": "python",
   "pygments_lexer": "ipython3",
   "version": "3.8.5"
  }
 },
 "nbformat": 4,
 "nbformat_minor": 4
}
